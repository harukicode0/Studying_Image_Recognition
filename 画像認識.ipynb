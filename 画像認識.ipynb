{
 "cells": [
  {
   "cell_type": "markdown",
   "id": "0bc7f0b4-0c96-4ba2-a60a-84e127d20afb",
   "metadata": {},
   "source": [
    "# データの準備"
   ]
  },
  {
   "cell_type": "code",
   "execution_count": 129,
   "id": "47bb101b-256c-4487-9179-d7d67c652c67",
   "metadata": {},
   "outputs": [],
   "source": [
    "import torch\n",
    "from torchvision import datasets\n",
    "from torchvision import transforms\n",
    "import matplotlib.pyplot as plt\n",
    "import japanize_matplotlib\n",
    "import numpy as np\n",
    "import pandas as pd\n",
    "import torch.nn as nn\n",
    "import torch.optim as optim\n",
    "import datetime"
   ]
  },
  {
   "cell_type": "code",
   "execution_count": 3,
   "id": "511b8735-8929-48b6-9b1b-2a8e08a43d90",
   "metadata": {},
   "outputs": [
    {
     "name": "stdout",
     "output_type": "stream",
     "text": [
      "Files already downloaded and verified\n",
      "Files already downloaded and verified\n"
     ]
    }
   ],
   "source": [
    "# cifar100を利用する\n",
    "data_path = './cifar-100'\n",
    "# 訓練データと検証データのダウンロード\n",
    "tensor_cifar100_train = datasets.CIFAR100(data_path,\n",
    "                                          train=True,\n",
    "                                          download=True,\n",
    "                                          transform=transforms.ToTensor())\n",
    "tensor_cifar100_val = datasets.CIFAR100(data_path,\n",
    "                                        train=False,\n",
    "                                        download=True,\n",
    "                                        transform=transforms.ToTensor())"
   ]
  },
  {
   "cell_type": "code",
   "execution_count": 4,
   "id": "cc97fc77-a25b-414e-aa33-87b416c53e0a",
   "metadata": {
    "tags": []
   },
   "outputs": [],
   "source": [
    "# cifar100の上位クラスのラベル\n",
    "super_class_names = [\n",
    "  'aquatic mammals',  # 0：水生哺乳類\n",
    "  'fish',  # 1：魚\n",
    "  'flowers',  # ：花\n",
    "  'food containers',  # 3：食品容器\n",
    "  'fruit and vegetables',  # 4：果物と野菜\n",
    "  'household electrical devices',  # 5：家電\n",
    "  'household furniture',  # 6：家具\n",
    "  'insects',  # 7：昆虫\n",
    "  'large carnivores',  # 8：大型の肉食動物\n",
    "  'large man-made outdoor things',  # 9：大型の建造物\n",
    "  'large natural outdoor scenes',  # 10：大自然の風景\n",
    "  'large omnivores and herbivores',  # 11：大型の雑食動物と草食動物\n",
    "  'medium-sized mammals',  # 12：中型の哺乳類\n",
    "  'non-insect invertebrates',  # 13：昆虫ではない無脊椎動物\n",
    "  'people',  # 14：人\n",
    "  'reptiles',  # 15：爬虫類\n",
    "  'small mammals',  # 16：小型の哺乳類\n",
    "  'trees',  # 17：木\n",
    "  'vehicles 1',  # 18：車両1\n",
    "  'vehicles 2',  # 19：車両2\n",
    "]"
   ]
  },
  {
   "cell_type": "code",
   "execution_count": 5,
   "id": "c688ca0b-4f3d-43b9-8bee-242e271b49ae",
   "metadata": {
    "jupyter": {
     "source_hidden": true
    },
    "tags": []
   },
   "outputs": [],
   "source": [
    "# cifar100の各ラベル\n",
    "class_names = [\n",
    "  'apples',  # 0：りんご\n",
    "  'aquarium fish',  # 1：観賞魚\n",
    "  'baby',  # 2：赤ちゃん\n",
    "  'bear',  # 3：クマ\n",
    "  'beaver',  # 4：ビーバー\n",
    "  'bed',  # 5：ベッド\n",
    "  'bee',  # 6：蜂\n",
    "  'beetle',  # 7：カブトムシ\n",
    "  'bicycle',  # 8：自転車\n",
    "  'bottles',  # 9：ボトル\n",
    "  'bowls',  # 10：ボウル\n",
    "  'boy',  # 11：少年\n",
    "  'bridge',  # 12：橋\n",
    "  'bus',  # 13：バス\n",
    "  'butterfly',  # 14：蝶\n",
    "  'camel',  # 15：ラクダ\n",
    "  'cans',  # 16：缶\n",
    "  'castle',  # 17：城\n",
    "  'caterpillar',  # 18：毛虫\n",
    "  'cattle',  # 19：牛\n",
    "  'chair',  # 20：椅子\n",
    "  'chimpanzee',  # 21：チンパンジー\n",
    "  'clock',  # 22：時計\n",
    "  'cloud',  # 23：雲\n",
    "  'cockroach',  # 24：ゴキブリ\n",
    "  'couch',  # 25：ソファー\n",
    "  'crab',  # 26：カニ\n",
    "  'crocodile',  # 27：ワニ\n",
    "  'cups',  # 28：カップ\n",
    "  'dinosaur',  # 29：恐竜\n",
    "  'dolphin',  # 30：イルカ\n",
    "  'elephant',  # 31：象\n",
    "  'flatfish',  # 32：ヒラメ\n",
    "  'forest',  # 33：森\n",
    "  'fox',  # 34：キツネ\n",
    "  'girl',  # 35：少女\n",
    "  'hamster',  # 36：ハムスター\n",
    "  'house',  # 37：家\n",
    "  'kangaroo',  # 38：カンガルー\n",
    "  'computer keyboard',  # 39：コンピューターのキーボード\n",
    "  'lamp',  # 40：ランプ\n",
    "  'lawn-mower',  # 41：芝刈り機\n",
    "  'leopard',  # 42：ヒョウ\n",
    "  'lion',  # 43：ライオン\n",
    "  'lizard',  # 44：トカゲ\n",
    "  'lobster',  # 45：ロブスター\n",
    "  'man',  # 46：成人男性\n",
    "  'maple',  # 47：もみじ\n",
    "  'motorcycle',  # 48：オートバイ\n",
    "  'mountain',  # 49：山\n",
    "  'mouse',  # 50：ねずみ\n",
    "  'mushrooms',  # 51：きのこ\n",
    "  'oak',  # 52：オーク\n",
    "  'oranges',  # 53：オレンジ\n",
    "  'orchids',  # 54：蘭\n",
    "  'otter',  # 55：カワウソ\n",
    "  'palm',  # 56：ヤシ\n",
    "  'pears',  # 57：洋ナシ\n",
    "  'pickup truck',  # 58：ピックアップトラック\n",
    "  'pine',  # 59：松\n",
    "  'plain',  # 60：平野\n",
    "  'plates',  # 61：皿\n",
    "  'poppies',  # 62：ポピー\n",
    "  'porcupine',  # 63：ヤマアラシ\n",
    "  'possum',  # 64：フクロネズミ\n",
    "  'rabbit',  # 65：ウサギ\n",
    "  'raccoon',  # 66：アライグマ\n",
    "  'ray',  # 67：エイ\n",
    "  'road',  # 68：道路\n",
    "  'rocket',  # 69：ロケット\n",
    "  'roses',  # 70：バラ\n",
    "  'sea',  # 71：海\n",
    "  'seal',  # 72：アザラシ\n",
    "  'shark',  # 73：サメ\n",
    "  'shrew',  # 74：トガリネズミ\n",
    "  'skunk',  # 75：スカンク\n",
    "  'skyscraper',  # 76：超高層ビル\n",
    "  'snail',  # 77：カタツムリ\n",
    "  'snake',  # 78：ヘビ\n",
    "  'spider',  # 79：クモ\n",
    "  'squirrel',  # 80：リス\n",
    "  'streetcar',  # 81：路面電車\n",
    "  'sunflowers',  # 82：ひまわり\n",
    "  'sweet peppers',  # 83：パプリカ\n",
    "  'table',  # 84：テーブル\n",
    "  'tank',  # 85：タンク\n",
    "  'telephone',  # 86：電話\n",
    "  'television',  # 87：テレビ\n",
    "  'tiger',  # 88：トラ\n",
    "  'tractor',  # 89：トラクター\n",
    "  'train',  # 90：電車\n",
    "  'trout',  # 91：マス\n",
    "  'tulips',  # 92：チューリップ\n",
    "  'turtle',  # 93：カメ\n",
    "  'wardrobe',  # 94：ワードローブ\n",
    "  'whale',  # 95：クジラ\n",
    "  'willow',  # 96：柳\n",
    "  'wolf',  # 97：オオカミ\n",
    "  'woman',  # 98：成人女性\n",
    "  'worm',  # 99：ミミズ\n",
    "]"
   ]
  },
  {
   "cell_type": "code",
   "execution_count": 6,
   "id": "0a072502-098c-43e3-a54a-0419d735d62e",
   "metadata": {},
   "outputs": [
    {
     "name": "stdout",
     "output_type": "stream",
     "text": [
      "willow\n"
     ]
    },
    {
     "data": {
      "image/png": "[encoded data removed]",
      "text/plain": [
       "<Figure size 640x480 with 1 Axes>"
      ]
     },
     "metadata": {},
     "output_type": "display_data"
    }
   ],
   "source": [
    "# 画像の確認\n",
    "img_t, label = tensor_cifar100_train[11]\n",
    "print(class_names[label])\n",
    "plt.imshow(img_t.permute(1,2,0))\n",
    "plt.show()"
   ]
  },
  {
   "cell_type": "markdown",
   "id": "b50db966-3445-4ab6-8936-b1f87cbcf13a",
   "metadata": {},
   "source": [
    "## 画像の標準化"
   ]
  },
  {
   "cell_type": "code",
   "execution_count": 7,
   "id": "83998dfa-f56e-45e5-a9b7-0dd3ecae9a12",
   "metadata": {},
   "outputs": [
    {
     "data": {
      "text/plain": [
       "torch.Size([3, 32, 32, 50000])"
      ]
     },
     "execution_count": 7,
     "metadata": {},
     "output_type": "execute_result"
    }
   ],
   "source": [
    "# テンソルを束ねる\n",
    "imgs = torch.stack([img_t for img_t, _ in tensor_cifar100_train], dim = 3)\n",
    "imgs.shape"
   ]
  },
  {
   "cell_type": "code",
   "execution_count": 8,
   "id": "14b54ba4-dfde-41ad-8d4d-c8d887a29b5a",
   "metadata": {},
   "outputs": [
    {
     "data": {
      "text/plain": [
       "(tensor([0.5071, 0.4865, 0.4409]), tensor([0.2673, 0.2564, 0.2762]))"
      ]
     },
     "execution_count": 8,
     "metadata": {},
     "output_type": "execute_result"
    }
   ],
   "source": [
    "# RGB各々の平均、標準偏差を計算する\n",
    "means = imgs.view(3,-1).mean(dim=1)\n",
    "stds = imgs.view(3,-1).std(dim=1)\n",
    "means, stds"
   ]
  },
  {
   "cell_type": "code",
   "execution_count": 9,
   "id": "474ffc84-58ab-441e-b469-37b7cc674e37",
   "metadata": {
    "tags": []
   },
   "outputs": [],
   "source": [
    "# 各画像データを標準化する\n",
    "transformed_tensor_cifar100_train = datasets.CIFAR100(data_path,\n",
    "                                                      train=True,\n",
    "                                                      download=False,\n",
    "                                                      transform=transforms.Compose([\n",
    "                                                          transforms.ToTensor(),\n",
    "                                                          transforms.Normalize(means,stds)\n",
    "                                                      ]))\n",
    "transformed_tensor_cifar100_val = datasets.CIFAR100(data_path,\n",
    "                                                   train=False,\n",
    "                                                   download=False,\n",
    "                                                   transform = transforms.Compose([\n",
    "                                                       transforms.ToTensor(),\n",
    "                                                       transforms.Normalize(means,stds)\n",
    "                                                   ]))"
   ]
  },
  {
   "cell_type": "code",
   "execution_count": 32,
   "id": "fdcd0f90-d581-41b7-9f0f-67cfa738d33f",
   "metadata": {},
   "outputs": [
    {
     "name": "stderr",
     "output_type": "stream",
     "text": [
      "Clipping input data to the valid range for imshow with RGB data ([0..1] for floats or [0..255] for integers).\n"
     ]
    },
    {
     "name": "stdout",
     "output_type": "stream",
     "text": [
      "willow\n"
     ]
    },
    {
     "data": {
      "image/png": "[encoded data removed]",
      "text/plain": [
       "<Figure size 640x480 with 1 Axes>"
      ]
     },
     "metadata": {},
     "output_type": "display_data"
    }
   ],
   "source": [
    "# 標準化後データの確認\n",
    "img_t, label = transformed_tensor_cifar100_train[11]\n",
    "print(class_names[label])\n",
    "plt.imshow(img_t.permute(1,2,0))\n",
    "plt.show()"
   ]
  },
  {
   "cell_type": "code",
   "execution_count": 11,
   "id": "fbb46872-38df-418a-aa44-77221d05572d",
   "metadata": {},
   "outputs": [
    {
     "data": {
      "text/plain": [
       "(torch.Size([3, 32, 32, 50000]), torch.Size([3, 32, 32, 10000]))"
      ]
     },
     "execution_count": 11,
     "metadata": {},
     "output_type": "execute_result"
    }
   ],
   "source": [
    "transformed_imgs = torch.stack([img_t for img_t, _ in transformed_tensor_cifar100_train], dim = 3)\n",
    "transformed_imgs_val = torch.stack([img_t for img_t, _ in transformed_tensor_cifar100_val], dim = 3)\n",
    "transformed_imgs.shape, transformed_imgs_val.shape"
   ]
  },
  {
   "cell_type": "code",
   "execution_count": 64,
   "id": "2a6d3e50-87bf-4533-97e7-c21b05bf8881",
   "metadata": {},
   "outputs": [],
   "source": [
    "import torch.nn.functional as F\n",
    "\n",
    "# モデルの作成、シンプルな全結合\n",
    "class Net(nn.Module):\n",
    "    def __init__(self):\n",
    "        super().__init__()\n",
    "        self.fc1 = nn.Linear(3072,512)\n",
    "        self.fc2 = nn.Linear(512,100)\n",
    "    \n",
    "    def forward(self, x):\n",
    "        out = x.view(-1,32*32*3)\n",
    "        out = torch.tanh(self.fc1(out))\n",
    "        out = self.fc2(out)\n",
    "        return out"
   ]
  },
  {
   "cell_type": "code",
   "execution_count": 95,
   "id": "906799cd-d9c9-4a8d-86bb-45aaeb69a17d",
   "metadata": {},
   "outputs": [
    {
     "data": {
      "text/plain": [
       "device(type='mps')"
      ]
     },
     "execution_count": 95,
     "metadata": {},
     "output_type": "execute_result"
    }
   ],
   "source": [
    "# macのGPUが使えるか確認\n",
    "device = (torch.device('mps') if torch.backends.mps.is_available() else torch.device('cpu'))\n",
    "device"
   ]
  },
  {
   "cell_type": "code",
   "execution_count": 94,
   "id": "57d450e5-2ad5-4ca1-b9cf-b514cd037983",
   "metadata": {},
   "outputs": [
    {
     "data": {
      "text/plain": [
       "(1624676, [1572864, 512, 51200, 100])"
      ]
     },
     "execution_count": 94,
     "metadata": {},
     "output_type": "execute_result"
    }
   ],
   "source": [
    "# モデルのインスタンスの作成\n",
    "model = Net()\n",
    "# パラメータの数を確認\n",
    "numel_list = [p.numel() for p in model.parameters()]\n",
    "sum(numel_list), numel_list"
   ]
  },
  {
   "cell_type": "code",
   "execution_count": 122,
   "id": "94d43740-cf0e-4575-b9fe-90a59408401a",
   "metadata": {
    "collapsed": true,
    "jupyter": {
     "outputs_hidden": true
    },
    "tags": []
   },
   "outputs": [
    {
     "name": "stdout",
     "output_type": "stream",
     "text": [
      "2023-01-26 00:13:13.706800Epoch:1,Traing_loss:3.242856179714203,val_loss3.4969100253662093\n",
      "2023-01-26 00:15:39.598002Epoch:10,Traing_loss:3.2175756578445434,val_loss3.4854810250041437\n",
      "2023-01-26 00:18:13.111090Epoch:20,Traing_loss:3.19021302986145,val_loss3.4740531989823005\n",
      "2023-01-26 00:20:24.041952Epoch:30,Traing_loss:3.163316449165344,val_loss3.463290044878083\n",
      "2023-01-26 00:22:56.378788Epoch:40,Traing_loss:3.137036048412323,val_loss3.4531264136705704\n",
      "2023-01-26 00:25:17.160116Epoch:50,Traing_loss:3.111242813110352,val_loss3.44330037641325\n",
      "2023-01-26 00:27:39.762636Epoch:60,Traing_loss:3.0858442192077638,val_loss3.433947465308212\n",
      "2023-01-26 00:30:08.230433Epoch:70,Traing_loss:3.060699990272522,val_loss3.42579644367805\n",
      "2023-01-26 00:32:36.674238Epoch:80,Traing_loss:3.0359925775527956,val_loss3.4176333151359937\n",
      "2023-01-26 00:34:58.033858Epoch:90,Traing_loss:3.011497521877289,val_loss3.410100501582661\n",
      "2023-01-26 00:37:09.431740Epoch:100,Traing_loss:2.987338910102844,val_loss3.4029903948914884\n",
      "2023-01-26 00:39:19.765513Epoch:110,Traing_loss:2.963322897911072,val_loss3.3965974524125557\n",
      "2023-01-26 00:41:34.438228Epoch:120,Traing_loss:2.9397161860466,val_loss3.3904142106945243\n",
      "2023-01-26 00:43:48.175448Epoch:130,Traing_loss:2.91624151802063,val_loss3.3844792345682877\n",
      "2023-01-26 00:46:02.393430Epoch:140,Traing_loss:2.8928768920898436,val_loss3.3789659095296765\n",
      "2023-01-26 00:48:14.660512Epoch:150,Traing_loss:2.869780037403107,val_loss3.3737223787835493\n",
      "2023-01-26 00:50:25.904297Epoch:160,Traing_loss:2.846887266635895,val_loss3.369665228541053\n",
      "2023-01-26 00:52:37.681892Epoch:170,Traing_loss:2.824102238178253,val_loss3.364713889900338\n",
      "2023-01-26 00:54:48.947532Epoch:180,Traing_loss:2.8013497223854067,val_loss3.3608697728082384\n",
      "2023-01-26 00:57:03.315168Epoch:190,Traing_loss:2.778771921157837,val_loss3.35710508425077\n",
      "2023-01-26 00:59:14.175676Epoch:200,Traing_loss:2.756322731971741,val_loss3.3542926824049957\n",
      "2023-01-26 01:01:25.113314Epoch:210,Traing_loss:2.734041655063629,val_loss3.3509193583563124\n",
      "2023-01-26 01:03:36.717604Epoch:220,Traing_loss:2.7117882432937623,val_loss3.3482362466010063\n",
      "2023-01-26 01:05:47.676140Epoch:230,Traing_loss:2.6895992703437805,val_loss3.3457166815526342\n",
      "2023-01-26 01:08:00.919834Epoch:240,Traing_loss:2.667566703796387,val_loss3.3439939424672667\n",
      "2023-01-26 01:10:12.329284Epoch:250,Traing_loss:2.64558327627182,val_loss3.3418648577086856\n",
      "2023-01-26 01:12:25.030913Epoch:260,Traing_loss:2.6235320115089418,val_loss3.339725377124158\n",
      "2023-01-26 01:14:36.243150Epoch:270,Traing_loss:2.6017850642204285,val_loss3.338668384395392\n",
      "2023-01-26 01:16:48.160519Epoch:280,Traing_loss:2.5799059677124023,val_loss3.338053395309059\n",
      "2023-01-26 01:19:00.261413Epoch:290,Traing_loss:2.558095684051514,val_loss3.336425514548713\n",
      "2023-01-26 01:21:11.302973Epoch:300,Traing_loss:2.5363971309661864,val_loss3.336123435813364\n",
      "2023-01-26 01:23:22.932010Epoch:310,Traing_loss:2.51464186000824,val_loss3.3354633247952443\n",
      "2023-01-26 01:25:47.586799Epoch:320,Traing_loss:2.4930616550445555,val_loss3.335145485136562\n",
      "2023-01-26 01:28:13.598681Epoch:330,Traing_loss:2.471429527282715,val_loss3.335345180093992\n",
      "2023-01-26 01:30:38.342763Epoch:340,Traing_loss:2.449939799785614,val_loss3.3347874107157747\n",
      "2023-01-26 01:33:04.013516Epoch:350,Traing_loss:2.4284708292484285,val_loss3.335263833430404\n",
      "2023-01-26 01:35:19.005030Epoch:360,Traing_loss:2.4070849883556367,val_loss3.3352309696747287\n",
      "2023-01-26 01:37:30.044394Epoch:370,Traing_loss:2.38577108168602,val_loss3.3365199272333683\n",
      "2023-01-26 01:39:41.461279Epoch:380,Traing_loss:2.3643607127666475,val_loss3.337200076013678\n",
      "2023-01-26 01:41:52.036795Epoch:390,Traing_loss:2.3431943671703337,val_loss3.3381047084721964\n",
      "2023-01-26 01:44:11.749977Epoch:400,Traing_loss:2.321952018737793,val_loss3.33902145578036\n",
      "2023-01-26 01:46:36.372153Epoch:410,Traing_loss:2.3006850888729096,val_loss3.340781077894538\n",
      "2023-01-26 01:48:50.856686Epoch:420,Traing_loss:2.2796287779808044,val_loss3.3423930556565327\n",
      "2023-01-26 01:51:05.619789Epoch:430,Traing_loss:2.2586000537872315,val_loss3.343253237531081\n",
      "2023-01-26 01:53:25.165185Epoch:440,Traing_loss:2.2376022870540617,val_loss3.3451646318515045\n",
      "2023-01-26 01:55:37.466445Epoch:450,Traing_loss:2.216629116773605,val_loss3.347558851201304\n",
      "2023-01-26 01:57:52.117772Epoch:460,Traing_loss:2.1958165915012358,val_loss3.349576947892148\n",
      "2023-01-26 02:00:11.640381Epoch:470,Traing_loss:2.1750168147087097,val_loss3.35098241290148\n",
      "2023-01-26 02:02:27.064511Epoch:480,Traing_loss:2.15426057267189,val_loss3.353927069721854\n",
      "2023-01-26 02:04:45.872787Epoch:490,Traing_loss:2.133712388753891,val_loss3.3558721217697225\n",
      "2023-01-26 02:07:05.465253Epoch:500,Traing_loss:2.113183356046677,val_loss3.3586102278738874\n",
      "2023-01-26 02:09:32.102144Epoch:510,Traing_loss:2.092769198179245,val_loss3.3617204636800198\n",
      "2023-01-26 02:12:03.385611Epoch:520,Traing_loss:2.0721952431201935,val_loss3.3650009072534894\n",
      "2023-01-26 02:14:45.617806Epoch:530,Traing_loss:2.0519632313251495,val_loss3.3674129099368906\n",
      "2023-01-26 02:17:04.071863Epoch:540,Traing_loss:2.0317826688289644,val_loss3.3707937223062445\n",
      "2023-01-26 02:19:20.386365Epoch:550,Traing_loss:2.0116127071380614,val_loss3.3736401949017507\n",
      "2023-01-26 02:21:39.297400Epoch:560,Traing_loss:1.9915980703830718,val_loss3.3772102495779444\n",
      "2023-01-26 02:23:53.855250Epoch:570,Traing_loss:1.971634374856949,val_loss3.3812224311641255\n",
      "2023-01-26 02:26:27.848931Epoch:580,Traing_loss:1.9517111206054687,val_loss3.384651160849807\n",
      "2023-01-26 02:28:59.710323Epoch:590,Traing_loss:1.9320469496250152,val_loss3.387719933562602\n",
      "2023-01-26 02:31:13.809742Epoch:600,Traing_loss:1.912399501800537,val_loss3.392329090250847\n",
      "2023-01-26 07:00:06.797046Epoch:610,Traing_loss:1.892944952249527,val_loss3.3955317811473944\n",
      "2023-01-26 10:19:06.109710Epoch:620,Traing_loss:1.8734663174152375,val_loss3.3997160454191846\n",
      "2023-01-26 10:54:22.036931Epoch:630,Traing_loss:1.8541023981571199,val_loss3.403516879402454\n",
      "2023-01-26 10:56:34.440243Epoch:640,Traing_loss:1.8348618655204774,val_loss3.407948177439693\n",
      "2023-01-26 10:58:48.265539Epoch:650,Traing_loss:1.8157448842525483,val_loss3.4128209041240476\n",
      "2023-01-26 11:01:01.307317Epoch:660,Traing_loss:1.79683442902565,val_loss3.416741091974781\n",
      "2023-01-26 11:03:15.100204Epoch:670,Traing_loss:1.7779882233142852,val_loss3.421950208055594\n",
      "2023-01-26 11:05:32.527217Epoch:680,Traing_loss:1.7591658895015716,val_loss3.4269016147661007\n",
      "2023-01-26 11:07:44.888328Epoch:690,Traing_loss:1.7405071041584015,val_loss3.430833390397123\n",
      "2023-01-26 11:10:09.718278Epoch:700,Traing_loss:1.7221627185344697,val_loss3.436416251025088\n",
      "2023-01-26 11:12:25.074412Epoch:710,Traing_loss:1.7036606330871582,val_loss3.440894368948805\n",
      "2023-01-26 11:14:37.276036Epoch:720,Traing_loss:1.6855454335212707,val_loss3.4452674287965217\n",
      "2023-01-26 11:16:49.362425Epoch:730,Traing_loss:1.6674546988010406,val_loss3.4517613815542605\n",
      "2023-01-26 11:19:01.709193Epoch:740,Traing_loss:1.6493485658168792,val_loss3.456788578641114\n",
      "2023-01-26 11:21:13.776708Epoch:750,Traing_loss:1.6314774734973907,val_loss3.461141142540516\n",
      "2023-01-26 11:23:27.824808Epoch:760,Traing_loss:1.613681722164154,val_loss3.467761806285553\n",
      "2023-01-26 11:25:40.282921Epoch:770,Traing_loss:1.5960976853370668,val_loss3.472636592060989\n",
      "2023-01-26 11:27:54.335020Epoch:780,Traing_loss:1.5787433819770813,val_loss3.4787653295237217\n",
      "2023-01-26 11:30:07.564406Epoch:790,Traing_loss:1.5613907999992371,val_loss3.4831715383051254\n",
      "2023-01-26 11:32:19.950497Epoch:800,Traing_loss:1.5441085116863251,val_loss3.4889223210303526\n",
      "2023-01-26 11:34:32.239160Epoch:810,Traing_loss:1.5271325352191925,val_loss3.4949978511393893\n",
      "2023-01-26 11:36:43.810323Epoch:820,Traing_loss:1.5100920951366426,val_loss3.5013875223888418\n",
      "2023-01-26 11:38:57.280867Epoch:830,Traing_loss:1.493304960489273,val_loss3.507546169065435\n",
      "2023-01-26 11:41:17.133995Epoch:840,Traing_loss:1.476741245985031,val_loss3.5129270128990693\n",
      "2023-01-26 11:43:37.370052Epoch:850,Traing_loss:1.4601574394702912,val_loss3.518736733261096\n",
      "2023-01-26 11:45:58.060035Epoch:860,Traing_loss:1.443763278722763,val_loss3.52489110048867\n",
      "2023-01-26 11:48:20.428771Epoch:870,Traing_loss:1.4274390108585358,val_loss3.531121631037281\n",
      "2023-01-26 11:50:41.367387Epoch:880,Traing_loss:1.4114496810436248,val_loss3.536161101710925\n",
      "2023-01-26 11:53:00.405374Epoch:890,Traing_loss:1.395456738471985,val_loss3.543210032954142\n",
      "2023-01-26 11:55:17.079428Epoch:900,Traing_loss:1.379604153394699,val_loss3.549778388032101\n",
      "2023-01-26 11:57:31.886897Epoch:910,Traing_loss:1.364022733807564,val_loss3.554127585489234\n",
      "2023-01-26 11:59:44.354470Epoch:920,Traing_loss:1.348494362592697,val_loss3.56105172255115\n",
      "2023-01-26 12:02:01.221001Epoch:930,Traing_loss:1.3330166136026382,val_loss3.5677545300109985\n",
      "2023-01-26 12:04:20.132999Epoch:940,Traing_loss:1.317716286420822,val_loss3.5738237154970074\n",
      "2023-01-26 12:06:41.494966Epoch:950,Traing_loss:1.3025344073772431,val_loss3.5813518424608355\n",
      "2023-01-26 12:08:54.481333Epoch:960,Traing_loss:1.2877598915100097,val_loss3.5876369725713917\n",
      "2023-01-26 12:11:09.663882Epoch:970,Traing_loss:1.2730761996507645,val_loss3.5939264900593537\n",
      "2023-01-26 12:13:23.439383Epoch:980,Traing_loss:1.2581636902093887,val_loss3.6005001605254274\n",
      "2023-01-26 12:15:37.017432Epoch:990,Traing_loss:1.2436238952875138,val_loss3.6084336550447063\n",
      "2023-01-26 12:17:49.826307Epoch:1000,Traing_loss:1.2294156565666199,val_loss3.614190736625748\n",
      "2023-01-26 12:20:04.545264Epoch:1010,Traing_loss:1.2150776327848434,val_loss3.620375173516129\n",
      "2023-01-26 12:22:16.914925Epoch:1020,Traing_loss:1.2010161341428758,val_loss3.6265203983449763\n",
      "2023-01-26 12:24:29.745235Epoch:1030,Traing_loss:1.1868924639225007,val_loss3.635752660996126\n",
      "2023-01-26 12:26:42.710064Epoch:1040,Traing_loss:1.1732549661397933,val_loss3.6403146670135684\n",
      "2023-01-26 12:28:56.061452Epoch:1050,Traing_loss:1.1594834976196289,val_loss3.6478823642567666\n",
      "2023-01-26 12:31:09.241088Epoch:1060,Traing_loss:1.1460481561422349,val_loss3.654627383939685\n",
      "2023-01-26 12:33:22.079341Epoch:1070,Traing_loss:1.1324764510393144,val_loss3.6618156948232445\n",
      "2023-01-26 12:35:36.206117Epoch:1080,Traing_loss:1.1192399163246154,val_loss3.6682670530340737\n",
      "2023-01-26 12:37:49.788455Epoch:1090,Traing_loss:1.1061235481500626,val_loss3.6754829629062353\n",
      "2023-01-26 12:40:01.726399Epoch:1100,Traing_loss:1.0931547986268997,val_loss3.6816174503042625\n",
      "2023-01-26 12:42:13.497398Epoch:1110,Traing_loss:1.0802069593667984,val_loss3.6891907492465936\n",
      "2023-01-26 12:44:25.646800Epoch:1120,Traing_loss:1.0675793429613114,val_loss3.6955061810829717\n",
      "2023-01-26 12:46:39.379231Epoch:1130,Traing_loss:1.055057167172432,val_loss3.703066474674845\n",
      "2023-01-26 12:48:51.026627Epoch:1140,Traing_loss:1.0424975434541701,val_loss3.7104783352211914\n",
      "2023-01-26 12:51:02.732294Epoch:1150,Traing_loss:1.0302609605789184,val_loss3.7173490311590656\n",
      "2023-01-26 12:53:15.862263Epoch:1160,Traing_loss:1.0181692135334015,val_loss3.7238431012936175\n",
      "2023-01-26 12:55:27.936474Epoch:1170,Traing_loss:1.0060686775445937,val_loss3.7309597600910682\n",
      "2023-01-26 12:57:39.412567Epoch:1180,Traing_loss:0.9941131165027618,val_loss3.7384551852543733\n",
      "2023-01-26 12:59:52.471058Epoch:1190,Traing_loss:0.9822800416946411,val_loss3.7456295428228863\n",
      "2023-01-26 13:02:40.981012Epoch:1200,Traing_loss:0.9707356486320495,val_loss3.7524809322594237\n",
      "2023-01-26 13:04:57.553430Epoch:1210,Traing_loss:0.9592775000333786,val_loss3.7597423670092742\n",
      "2023-01-26 13:07:09.984770Epoch:1220,Traing_loss:0.9478167662620545,val_loss3.7663448989999173\n",
      "2023-01-26 13:09:22.227105Epoch:1230,Traing_loss:0.936691388964653,val_loss3.7737498504534837\n",
      "2023-01-26 13:11:34.518155Epoch:1240,Traing_loss:0.9255969521999359,val_loss3.7814693782650646\n",
      "2023-01-26 13:13:46.394217Epoch:1250,Traing_loss:0.9145348116159439,val_loss3.7889626958638196\n",
      "2023-01-26 13:15:58.667547Epoch:1260,Traing_loss:0.9035979694128037,val_loss3.7949210280987162\n",
      "2023-01-26 13:18:10.553938Epoch:1270,Traing_loss:0.8928918302059173,val_loss3.802275391006155\n",
      "2023-01-26 13:20:22.555847Epoch:1280,Traing_loss:0.8823399268388749,val_loss3.8088801536568284\n",
      "2023-01-26 13:22:34.605935Epoch:1290,Traing_loss:0.8719273192882537,val_loss3.8169819285269617\n",
      "2023-01-26 13:24:46.780868Epoch:1300,Traing_loss:0.861500531077385,val_loss3.82411316758548\n",
      "2023-01-26 13:26:59.442606Epoch:1310,Traing_loss:0.8513038256168366,val_loss3.831847190544072\n",
      "2023-01-26 13:29:11.630447Epoch:1320,Traing_loss:0.8410752145051956,val_loss3.837387984809614\n",
      "2023-01-26 13:31:23.929532Epoch:1330,Traing_loss:0.8311615285873413,val_loss3.8451704562076854\n",
      "2023-01-26 13:33:36.255662Epoch:1340,Traing_loss:0.821306698679924,val_loss3.852027699103256\n",
      "2023-01-26 13:35:48.188324Epoch:1350,Traing_loss:0.811499917268753,val_loss3.8603705629196865\n",
      "2023-01-26 13:38:12.364164Epoch:1360,Traing_loss:0.8020022761821747,val_loss3.8673206855686537\n",
      "2023-01-26 13:40:27.303512Epoch:1370,Traing_loss:0.7922677599191665,val_loss3.8743820322367983\n",
      "2023-01-26 13:42:48.601425Epoch:1380,Traing_loss:0.7829454153776169,val_loss3.8813506993562896\n",
      "2023-01-26 13:45:00.600315Epoch:1390,Traing_loss:0.7736963555812836,val_loss3.888503700235538\n",
      "2023-01-26 13:47:13.729668Epoch:1400,Traing_loss:0.7644267379045486,val_loss3.8958329387907504\n",
      "2023-01-26 13:49:25.655455Epoch:1410,Traing_loss:0.7554524816274643,val_loss3.903002102766018\n",
      "2023-01-26 13:51:39.028628Epoch:1420,Traing_loss:0.7464441667795181,val_loss3.910436390480669\n",
      "2023-01-26 13:53:50.506628Epoch:1430,Traing_loss:0.7375336221456528,val_loss3.917728885972507\n",
      "2023-01-26 13:56:03.084687Epoch:1440,Traing_loss:0.7288343094587326,val_loss3.924701130883595\n",
      "2023-01-26 13:58:14.704027Epoch:1450,Traing_loss:0.7203517056107521,val_loss3.9322046894528726\n",
      "2023-01-26 14:00:27.428464Epoch:1460,Traing_loss:0.7117367570996285,val_loss3.9389381646376993\n",
      "2023-01-26 14:02:41.052629Epoch:1470,Traing_loss:0.7034073656201363,val_loss3.9464316812679665\n",
      "2023-01-26 14:04:53.804983Epoch:1480,Traing_loss:0.6951288868188858,val_loss3.9539484550107113\n",
      "2023-01-26 14:07:07.279334Epoch:1490,Traing_loss:0.6868271635174751,val_loss3.960722611252784\n",
      "2023-01-26 14:09:20.663641Epoch:1500,Traing_loss:0.6787702958583832,val_loss3.9667311769177727\n",
      "2023-01-26 14:11:33.006952Epoch:1510,Traing_loss:0.6707290408611297,val_loss3.9749834693981705\n",
      "2023-01-26 14:13:47.140138Epoch:1520,Traing_loss:0.6628842452168464,val_loss3.9821041091364804\n",
      "2023-01-26 14:16:01.203916Epoch:1530,Traing_loss:0.6551614264249802,val_loss3.9881568183003964\n",
      "2023-01-26 14:18:15.002935Epoch:1540,Traing_loss:0.6473814633488655,val_loss3.996193642110687\n",
      "2023-01-26 14:20:29.801190Epoch:1550,Traing_loss:0.6397154908180237,val_loss4.002973646506551\n",
      "2023-01-26 14:22:43.171552Epoch:1560,Traing_loss:0.632318722486496,val_loss4.010490909927197\n",
      "2023-01-26 14:24:56.759461Epoch:1570,Traing_loss:0.6248996750116348,val_loss4.018765445686899\n",
      "2023-01-26 14:27:10.076887Epoch:1580,Traing_loss:0.6175765812397003,val_loss4.02395362895257\n",
      "2023-01-26 14:29:22.973652Epoch:1590,Traing_loss:0.6104141486883163,val_loss4.032085268359897\n",
      "2023-01-26 14:31:36.475213Epoch:1600,Traing_loss:0.603290108025074,val_loss4.039179069918022\n",
      "2023-01-26 14:33:49.776877Epoch:1610,Traing_loss:0.596269721865654,val_loss4.045678064160063\n",
      "2023-01-26 14:36:02.853048Epoch:1620,Traing_loss:0.589392172396183,val_loss4.052626530123047\n",
      "2023-01-26 14:38:16.084991Epoch:1630,Traing_loss:0.582470714867115,val_loss4.060128012673184\n",
      "2023-01-26 14:40:30.490906Epoch:1640,Traing_loss:0.5758332092761993,val_loss4.066954575282375\n",
      "2023-01-26 14:42:43.889469Epoch:1650,Traing_loss:0.5690551699399948,val_loss4.073516617752008\n",
      "2023-01-26 14:45:01.544537Epoch:1660,Traing_loss:0.5624730395674705,val_loss4.080551778436172\n",
      "2023-01-26 14:47:16.283106Epoch:1670,Traing_loss:0.5559479814171792,val_loss4.087363345784274\n",
      "2023-01-26 14:49:29.857571Epoch:1680,Traing_loss:0.5496524662971497,val_loss4.094346483167088\n",
      "2023-01-26 14:51:46.521842Epoch:1690,Traing_loss:0.5433374301195145,val_loss4.100562613573647\n",
      "2023-01-26 14:54:01.141698Epoch:1700,Traing_loss:0.5370852710604668,val_loss4.107834203064835\n",
      "2023-01-26 14:56:20.882807Epoch:1710,Traing_loss:0.5309025857448578,val_loss4.115926554056704\n",
      "2023-01-26 14:58:39.839697Epoch:1720,Traing_loss:0.5249277712106705,val_loss4.12247697387313\n",
      "2023-01-26 15:00:58.377851Epoch:1730,Traing_loss:0.5189705151319504,val_loss4.129410384682101\n",
      "2023-01-26 15:03:17.358744Epoch:1740,Traing_loss:0.5130262504220009,val_loss4.13429360495278\n",
      "2023-01-26 15:05:32.554603Epoch:1750,Traing_loss:0.507101997256279,val_loss4.142042539397005\n",
      "2023-01-26 15:07:48.555581Epoch:1760,Traing_loss:0.5014414162635803,val_loss4.148526442885828\n",
      "2023-01-26 15:10:01.125033Epoch:1770,Traing_loss:0.4956404158473015,val_loss4.1551017331067825\n",
      "2023-01-26 15:12:13.216812Epoch:1780,Traing_loss:0.4901323135495186,val_loss4.163002691112669\n",
      "2023-01-26 15:14:28.386061Epoch:1790,Traing_loss:0.4845725724697113,val_loss4.169177473614905\n",
      "2023-01-26 15:16:45.769855Epoch:1800,Traing_loss:0.47911311078071595,val_loss4.1758956450948865\n",
      "2023-01-26 15:19:02.626186Epoch:1810,Traing_loss:0.4738142982721329,val_loss4.181409047093035\n",
      "2023-01-26 15:21:19.575018Epoch:1820,Traing_loss:0.4684710313677788,val_loss4.189175809728542\n",
      "2023-01-26 15:23:38.185134Epoch:1830,Traing_loss:0.4632153885364532,val_loss4.195456242589945\n",
      "2023-01-26 15:25:53.676691Epoch:1840,Traing_loss:0.4580984941124916,val_loss4.202675534348575\n",
      "2023-01-26 15:28:11.736400Epoch:1850,Traing_loss:0.45286023235321043,val_loss4.210027567919369\n",
      "2023-01-26 15:30:29.817299Epoch:1860,Traing_loss:0.44799311757087706,val_loss4.215620122903575\n",
      "2023-01-26 15:32:49.583119Epoch:1870,Traing_loss:0.44295357912778854,val_loss4.22157126418178\n",
      "2023-01-26 15:35:05.540232Epoch:1880,Traing_loss:0.43801526868343355,val_loss4.228522206928713\n",
      "2023-01-26 15:37:23.418886Epoch:1890,Traing_loss:0.4333135288953781,val_loss4.235298379697017\n",
      "2023-01-26 15:39:42.311813Epoch:1900,Traing_loss:0.42852745449543,val_loss4.241089863270235\n",
      "2023-01-26 15:41:59.477923Epoch:1910,Traing_loss:0.423722670674324,val_loss4.247006501186802\n",
      "2023-01-26 15:44:19.996467Epoch:1920,Traing_loss:0.4191923536658287,val_loss4.254666983321461\n",
      "2023-01-26 15:46:37.331189Epoch:1930,Traing_loss:0.4145404121875763,val_loss4.261371577877035\n",
      "2023-01-26 15:48:49.647442Epoch:1940,Traing_loss:0.41005158054828644,val_loss4.267217985700188\n",
      "2023-01-26 15:51:02.043089Epoch:1950,Traing_loss:0.4056071239709854,val_loss4.273298331597249\n",
      "2023-01-26 15:53:14.194928Epoch:1960,Traing_loss:0.40117813950777054,val_loss4.279281743357978\n",
      "2023-01-26 15:55:26.039837Epoch:1970,Traing_loss:0.3968515055775642,val_loss4.285286763433789\n",
      "2023-01-26 15:57:42.334138Epoch:1980,Traing_loss:0.3925785913467407,val_loss4.292775349802129\n",
      "2023-01-26 15:59:54.545380Epoch:1990,Traing_loss:0.3883925330340862,val_loss4.297805785679163\n",
      "2023-01-26 16:02:06.448302Epoch:2000,Traing_loss:0.38424066495895387,val_loss4.305197987432832\n"
     ]
    }
   ],
   "source": [
    "# バッチの作成、訓練から損失関数の計算・表示、正解率の表示までの一連の流れをできるように実装\n",
    "# データローダーに入れることで、簡単にデータを取り扱う\n",
    "train_loader = torch.utils.data.DataLoader(\n",
    "    transformed_tensor_cifar100_train,\n",
    "    batch_size=100,\n",
    "    shuffle=True)\n",
    "val_loader = torch.utils.data.DataLoader(\n",
    "    transformed_tensor_cifar100_val,\n",
    "    batch_size=3,\n",
    "    shuffle=False)\n",
    "# 学習率の設定\n",
    "learning_rate = 1e-3\n",
    "# パラメータの修正に確率的勾配降下方を利用\n",
    "optimizer = optim.SGD(model.parameters(), lr = learning_rate)\n",
    "# 損失関数を定義\n",
    "loss_fn = nn.CrossEntropyLoss()\n",
    "# エポック数を設定\n",
    "n_epochs = 500\n",
    "\n",
    "# 訓練\n",
    "\n",
    "# GPU上で訓練するのでモデルを移動。toを使う\n",
    "\n",
    "loss_train_lists = np.array([])\n",
    "loss_val_lists = np.array([])\n",
    "\n",
    "model.to(device=device)\n",
    "for epoch in range(1,n_epochs+1):\n",
    "    loss_train = 0.0 # エポックごとにtrainとvalの損失関数を計算する\n",
    "    loss_val = 0.0\n",
    "\n",
    "    for imgs, labels in train_loader:\n",
    "        imgs = imgs.to(device=device) # 画像とラベルをGPU上へ送る\n",
    "        labels = labels.to(device=device)\n",
    "        outputs = model(imgs) # 訓練結果\n",
    "        loss = loss_fn(outputs,labels) # 損失の計算\n",
    "        \n",
    "        optimizer.zero_grad() # 勾配の値を一旦初期化。勾配は累積される。エポック毎に累積されないようにする。\n",
    "        loss.backward() # バックプロぱゲーションで勾配を計算\n",
    "        optimizer.step() # 計算した勾配を基にパラメータを調整\n",
    "        \n",
    "        loss_train += loss.item()\n",
    "\n",
    "    for val_imgs, val_labels in val_loader:\n",
    "        with torch.no_grad():\n",
    "            val_imgs = val_imgs.to(device=device)\n",
    "            val_labels = val_labels.to(device=device)\n",
    "            val_outputs = model(val_imgs)\n",
    "            val_loss = loss_fn(val_outputs, val_labels)\n",
    "        loss_val += val_loss.item()\n",
    "    \n",
    "    loss_train_lists = np.append(loss_train_lists, loss_train/len(train_loader))\n",
    "    loss_val_lists = np.append(loss_val_lists, loss_val/len(val_loader))\n",
    "    \n",
    "    if epoch % 10 == 0 or epoch == 1:\n",
    "        print(f'{datetime.datetime.now()}Epoch:{epoch},Traing_loss:{loss_train/len(train_loader)},val_loss{loss_val/len(val_loader)}')"
   ]
  },
  {
   "cell_type": "code",
   "execution_count": null,
   "id": "edf02b07-0ecd-4976-97ed-f36e58653a93",
   "metadata": {},
   "outputs": [],
   "source": [
    "plt.plot(loss_train_lists,label = 'train')\n",
    "plt.plot(loss_val_lists, label ='val')\n",
    "plt.title('only_zenketugou_model')\n",
    "plt.ylabel('Loss')\n",
    "plt.xlabel('epoch')\n",
    "plt.legend()\n",
    "plt.show()"
   ]
  },
  {
   "cell_type": "code",
   "execution_count": 123,
   "id": "c335a2fc-fb53-45b0-8d36-6d46693c7f51",
   "metadata": {},
   "outputs": [
    {
     "name": "stdout",
     "output_type": "stream",
     "text": [
      "Accuracy train: 0.97\n",
      "Accuracy val: 0.21\n"
     ]
    }
   ],
   "source": [
    "# trainデータとvalデータの正解率の確認\n",
    "train_loader = torch.utils.data.DataLoader(\n",
    "    transformed_tensor_cifar100_train,\n",
    "    batch_size=100,\n",
    "    shuffle=False)\n",
    "val_loader = torch.utils.data.DataLoader(\n",
    "    transformed_tensor_cifar100_val,\n",
    "    batch_size=100,\n",
    "    shuffle=False)\n",
    "\n",
    "def validate(model, train_loader, val_loader):\n",
    "    for name, loader in [(\"train\", train_loader), (\"val\", val_loader)]: # 最初にTrain、printで結果を表示後、valを計算して結果を表示する流れ\n",
    "        correct = 0\n",
    "        total = 0\n",
    "        with torch.no_grad(): # 勾配を計算させないのための記述\n",
    "            for imgs, labels in loader:\n",
    "                model.to(device='cpu') # モデルをCPU上に持ってくる\n",
    "                outputs = model(imgs)\n",
    "                _, predicted = torch.max(outputs, dim=1)\n",
    "                total += labels.shape[0]\n",
    "                correct += int((predicted == labels).sum())\n",
    "        \n",
    "        print(\"Accuracy {}: {:.2f}\".format(name , correct / total))\n",
    "\n",
    "validate(model, train_loader, val_loader)"
   ]
  },
  {
   "cell_type": "code",
   "execution_count": 126,
   "id": "817109d3-6a5b-4c3f-acc6-4f7d1b5deca7",
   "metadata": {},
   "outputs": [],
   "source": [
    "# モデルの保存\n",
    "d_path = './para_models/'\n",
    "torch.save(model.state_dict(), d_path + 'only_zenketugou_model.pt')"
   ]
  },
  {
   "cell_type": "code",
   "execution_count": 127,
   "id": "0d29ddee-dd88-45e7-97cb-5d9c87cee1f8",
   "metadata": {},
   "outputs": [
    {
     "data": {
      "text/plain": [
       "<All keys matched successfully>"
      ]
     },
     "execution_count": 127,
     "metadata": {},
     "output_type": "execute_result"
    }
   ],
   "source": [
    "# モデルの呼び出し\n",
    "loaded_model = Net()\n",
    "loaded_model.load_state_dict(torch.load(d_path + 'only_zenketugou_model.pt'))"
   ]
  },
  {
   "cell_type": "markdown",
   "id": "9aa220e9-a9e2-450a-bc69-3935dbe7562c",
   "metadata": {},
   "source": [
    "# モデルの作成"
   ]
  },
  {
   "cell_type": "code",
   "execution_count": null,
   "id": "eb6549de-c6d5-48a7-8dcc-6c52e304bd2f",
   "metadata": {},
   "outputs": [],
   "source": []
  }
 ],
 "metadata": {
  "kernelspec": {
   "display_name": "Python 3 (ipykernel)",
   "language": "python",
   "name": "python3"
  },
  "language_info": {
   "codemirror_mode": {
    "name": "ipython",
    "version": 3
   },
   "file_extension": ".py",
   "mimetype": "text/x-python",
   "name": "python",
   "nbconvert_exporter": "python",
   "pygments_lexer": "ipython3",
   "version": "3.9.12"
  }
 },
 "nbformat": 4,
 "nbformat_minor": 5
}
