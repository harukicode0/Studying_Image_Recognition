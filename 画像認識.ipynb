{
 "cells": [
  {
   "cell_type": "markdown",
   "id": "0bc7f0b4-0c96-4ba2-a60a-84e127d20afb",
   "metadata": {},
   "source": [
    "# データの準備"
   ]
  },
  {
   "cell_type": "code",
   "execution_count": 136,
   "id": "47bb101b-256c-4487-9179-d7d67c652c67",
   "metadata": {},
   "outputs": [],
   "source": [
    "import torch\n",
    "from torchvision import datasets\n",
    "from torchvision import transforms\n",
    "import matplotlib.pyplot as plt\n",
    "import japanize_matplotlib\n",
    "import numpy as np\n",
    "import pandas as pd\n",
    "import torch.nn as nn\n",
    "import torch.optim as optim\n",
    "import datetime\n",
    "# 自作モデルのインポート\n",
    "import models.ore_no_zenketugou_model as zenketu"
   ]
  },
  {
   "cell_type": "code",
   "execution_count": 3,
   "id": "511b8735-8929-48b6-9b1b-2a8e08a43d90",
   "metadata": {},
   "outputs": [
    {
     "name": "stdout",
     "output_type": "stream",
     "text": [
      "Files already downloaded and verified\n",
      "Files already downloaded and verified\n"
     ]
    }
   ],
   "source": [
    "# cifar100を利用する\n",
    "data_path = './cifar-100'\n",
    "# 訓練データと検証データのダウンロード\n",
    "tensor_cifar100_train = datasets.CIFAR100(data_path,\n",
    "                                          train=True,\n",
    "                                          download=True,\n",
    "                                          transform=transforms.ToTensor())\n",
    "tensor_cifar100_val = datasets.CIFAR100(data_path,\n",
    "                                        train=False,\n",
    "                                        download=True,\n",
    "                                        transform=transforms.ToTensor())"
   ]
  },
  {
   "cell_type": "code",
   "execution_count": 4,
   "id": "cc97fc77-a25b-414e-aa33-87b416c53e0a",
   "metadata": {
    "tags": []
   },
   "outputs": [],
   "source": [
    "# cifar100の上位クラスのラベル\n",
    "super_class_names = [\n",
    "  'aquatic mammals',  # 0：水生哺乳類\n",
    "  'fish',  # 1：魚\n",
    "  'flowers',  # ：花\n",
    "  'food containers',  # 3：食品容器\n",
    "  'fruit and vegetables',  # 4：果物と野菜\n",
    "  'household electrical devices',  # 5：家電\n",
    "  'household furniture',  # 6：家具\n",
    "  'insects',  # 7：昆虫\n",
    "  'large carnivores',  # 8：大型の肉食動物\n",
    "  'large man-made outdoor things',  # 9：大型の建造物\n",
    "  'large natural outdoor scenes',  # 10：大自然の風景\n",
    "  'large omnivores and herbivores',  # 11：大型の雑食動物と草食動物\n",
    "  'medium-sized mammals',  # 12：中型の哺乳類\n",
    "  'non-insect invertebrates',  # 13：昆虫ではない無脊椎動物\n",
    "  'people',  # 14：人\n",
    "  'reptiles',  # 15：爬虫類\n",
    "  'small mammals',  # 16：小型の哺乳類\n",
    "  'trees',  # 17：木\n",
    "  'vehicles 1',  # 18：車両1\n",
    "  'vehicles 2',  # 19：車両2\n",
    "]"
   ]
  },
  {
   "cell_type": "code",
   "execution_count": 5,
   "id": "c688ca0b-4f3d-43b9-8bee-242e271b49ae",
   "metadata": {
    "tags": []
   },
   "outputs": [],
   "source": [
    "# cifar100の各ラベル\n",
    "class_names = [\n",
    "  'apples',  # 0：りんご\n",
    "  'aquarium fish',  # 1：観賞魚\n",
    "  'baby',  # 2：赤ちゃん\n",
    "  'bear',  # 3：クマ\n",
    "  'beaver',  # 4：ビーバー\n",
    "  'bed',  # 5：ベッド\n",
    "  'bee',  # 6：蜂\n",
    "  'beetle',  # 7：カブトムシ\n",
    "  'bicycle',  # 8：自転車\n",
    "  'bottles',  # 9：ボトル\n",
    "  'bowls',  # 10：ボウル\n",
    "  'boy',  # 11：少年\n",
    "  'bridge',  # 12：橋\n",
    "  'bus',  # 13：バス\n",
    "  'butterfly',  # 14：蝶\n",
    "  'camel',  # 15：ラクダ\n",
    "  'cans',  # 16：缶\n",
    "  'castle',  # 17：城\n",
    "  'caterpillar',  # 18：毛虫\n",
    "  'cattle',  # 19：牛\n",
    "  'chair',  # 20：椅子\n",
    "  'chimpanzee',  # 21：チンパンジー\n",
    "  'clock',  # 22：時計\n",
    "  'cloud',  # 23：雲\n",
    "  'cockroach',  # 24：ゴキブリ\n",
    "  'couch',  # 25：ソファー\n",
    "  'crab',  # 26：カニ\n",
    "  'crocodile',  # 27：ワニ\n",
    "  'cups',  # 28：カップ\n",
    "  'dinosaur',  # 29：恐竜\n",
    "  'dolphin',  # 30：イルカ\n",
    "  'elephant',  # 31：象\n",
    "  'flatfish',  # 32：ヒラメ\n",
    "  'forest',  # 33：森\n",
    "  'fox',  # 34：キツネ\n",
    "  'girl',  # 35：少女\n",
    "  'hamster',  # 36：ハムスター\n",
    "  'house',  # 37：家\n",
    "  'kangaroo',  # 38：カンガルー\n",
    "  'computer keyboard',  # 39：コンピューターのキーボード\n",
    "  'lamp',  # 40：ランプ\n",
    "  'lawn-mower',  # 41：芝刈り機\n",
    "  'leopard',  # 42：ヒョウ\n",
    "  'lion',  # 43：ライオン\n",
    "  'lizard',  # 44：トカゲ\n",
    "  'lobster',  # 45：ロブスター\n",
    "  'man',  # 46：成人男性\n",
    "  'maple',  # 47：もみじ\n",
    "  'motorcycle',  # 48：オートバイ\n",
    "  'mountain',  # 49：山\n",
    "  'mouse',  # 50：ねずみ\n",
    "  'mushrooms',  # 51：きのこ\n",
    "  'oak',  # 52：オーク\n",
    "  'oranges',  # 53：オレンジ\n",
    "  'orchids',  # 54：蘭\n",
    "  'otter',  # 55：カワウソ\n",
    "  'palm',  # 56：ヤシ\n",
    "  'pears',  # 57：洋ナシ\n",
    "  'pickup truck',  # 58：ピックアップトラック\n",
    "  'pine',  # 59：松\n",
    "  'plain',  # 60：平野\n",
    "  'plates',  # 61：皿\n",
    "  'poppies',  # 62：ポピー\n",
    "  'porcupine',  # 63：ヤマアラシ\n",
    "  'possum',  # 64：フクロネズミ\n",
    "  'rabbit',  # 65：ウサギ\n",
    "  'raccoon',  # 66：アライグマ\n",
    "  'ray',  # 67：エイ\n",
    "  'road',  # 68：道路\n",
    "  'rocket',  # 69：ロケット\n",
    "  'roses',  # 70：バラ\n",
    "  'sea',  # 71：海\n",
    "  'seal',  # 72：アザラシ\n",
    "  'shark',  # 73：サメ\n",
    "  'shrew',  # 74：トガリネズミ\n",
    "  'skunk',  # 75：スカンク\n",
    "  'skyscraper',  # 76：超高層ビル\n",
    "  'snail',  # 77：カタツムリ\n",
    "  'snake',  # 78：ヘビ\n",
    "  'spider',  # 79：クモ\n",
    "  'squirrel',  # 80：リス\n",
    "  'streetcar',  # 81：路面電車\n",
    "  'sunflowers',  # 82：ひまわり\n",
    "  'sweet peppers',  # 83：パプリカ\n",
    "  'table',  # 84：テーブル\n",
    "  'tank',  # 85：タンク\n",
    "  'telephone',  # 86：電話\n",
    "  'television',  # 87：テレビ\n",
    "  'tiger',  # 88：トラ\n",
    "  'tractor',  # 89：トラクター\n",
    "  'train',  # 90：電車\n",
    "  'trout',  # 91：マス\n",
    "  'tulips',  # 92：チューリップ\n",
    "  'turtle',  # 93：カメ\n",
    "  'wardrobe',  # 94：ワードローブ\n",
    "  'whale',  # 95：クジラ\n",
    "  'willow',  # 96：柳\n",
    "  'wolf',  # 97：オオカミ\n",
    "  'woman',  # 98：成人女性\n",
    "  'worm',  # 99：ミミズ\n",
    "]"
   ]
  },
  {
   "cell_type": "code",
   "execution_count": 6,
   "id": "0a072502-098c-43e3-a54a-0419d735d62e",
   "metadata": {},
   "outputs": [
    {
     "name": "stdout",
     "output_type": "stream",
     "text": [
      "willow\n"
     ]
    },
    {
     "data": {
      "image/png": "[encoded data removed]",
      "text/plain": [
       "<Figure size 640x480 with 1 Axes>"
      ]
     },
     "metadata": {},
     "output_type": "display_data"
    }
   ],
   "source": [
    "# 画像の確認\n",
    "img_t, label = tensor_cifar100_train[11]\n",
    "print(class_names[label])\n",
    "plt.imshow(img_t.permute(1,2,0))\n",
    "plt.show()"
   ]
  },
  {
   "cell_type": "markdown",
   "id": "b50db966-3445-4ab6-8936-b1f87cbcf13a",
   "metadata": {},
   "source": [
    "## 画像の標準化"
   ]
  },
  {
   "cell_type": "code",
   "execution_count": 7,
   "id": "83998dfa-f56e-45e5-a9b7-0dd3ecae9a12",
   "metadata": {},
   "outputs": [
    {
     "data": {
      "text/plain": [
       "torch.Size([3, 32, 32, 50000])"
      ]
     },
     "execution_count": 7,
     "metadata": {},
     "output_type": "execute_result"
    }
   ],
   "source": [
    "# テンソルを束ねる\n",
    "imgs = torch.stack([img_t for img_t, _ in tensor_cifar100_train], dim = 3)\n",
    "imgs.shape"
   ]
  },
  {
   "cell_type": "code",
   "execution_count": 8,
   "id": "14b54ba4-dfde-41ad-8d4d-c8d887a29b5a",
   "metadata": {},
   "outputs": [
    {
     "data": {
      "text/plain": [
       "(tensor([0.5071, 0.4865, 0.4409]), tensor([0.2673, 0.2564, 0.2762]))"
      ]
     },
     "execution_count": 8,
     "metadata": {},
     "output_type": "execute_result"
    }
   ],
   "source": [
    "# RGB各々の平均、標準偏差を計算する\n",
    "means = imgs.view(3,-1).mean(dim=1)\n",
    "stds = imgs.view(3,-1).std(dim=1)\n",
    "means, stds"
   ]
  },
  {
   "cell_type": "code",
   "execution_count": 146,
   "id": "474ffc84-58ab-441e-b469-37b7cc674e37",
   "metadata": {
    "tags": []
   },
   "outputs": [],
   "source": [
    "# 各画像データを標準化する\n",
    "transformed_tensor_cifar100_train = datasets.CIFAR100(data_path,\n",
    "                                                      train=True,\n",
    "                                                      download=False,\n",
    "                                                      transform=transforms.Compose([\n",
    "                                                          transforms.ToTensor(),\n",
    "                                                          transforms.Normalize(means,stds)\n",
    "                                                      ]))\n",
    "transformed_tensor_cifar100_val = datasets.CIFAR100(data_path,\n",
    "                                                   train=False,\n",
    "                                                   download=False,\n",
    "                                                   transform = transforms.Compose([\n",
    "                                                       transforms.ToTensor(),\n",
    "                                                       transforms.Normalize(means,stds)\n",
    "                                                   ]))"
   ]
  },
  {
   "cell_type": "code",
   "execution_count": 32,
   "id": "fdcd0f90-d581-41b7-9f0f-67cfa738d33f",
   "metadata": {},
   "outputs": [
    {
     "name": "stderr",
     "output_type": "stream",
     "text": [
      "Clipping input data to the valid range for imshow with RGB data ([0..1] for floats or [0..255] for integers).\n"
     ]
    },
    {
     "name": "stdout",
     "output_type": "stream",
     "text": [
      "willow\n"
     ]
    },
    {
     "data": {
      "image/png": "[encoded data removed]",
      "text/plain": [
       "<Figure size 640x480 with 1 Axes>"
      ]
     },
     "metadata": {},
     "output_type": "display_data"
    }
   ],
   "source": [
    "# 標準化後データの確認\n",
    "img_t, label = transformed_tensor_cifar100_train[11]\n",
    "print(class_names[label])\n",
    "plt.imshow(img_t.permute(1,2,0))\n",
    "plt.show()"
   ]
  },
  {
   "cell_type": "code",
   "execution_count": 11,
   "id": "fbb46872-38df-418a-aa44-77221d05572d",
   "metadata": {},
   "outputs": [
    {
     "data": {
      "text/plain": [
       "(torch.Size([3, 32, 32, 50000]), torch.Size([3, 32, 32, 10000]))"
      ]
     },
     "execution_count": 11,
     "metadata": {},
     "output_type": "execute_result"
    }
   ],
   "source": [
    "transformed_imgs = torch.stack([img_t for img_t, _ in transformed_tensor_cifar100_train], dim = 3)\n",
    "transformed_imgs_val = torch.stack([img_t for img_t, _ in transformed_tensor_cifar100_val], dim = 3)\n",
    "transformed_imgs.shape, transformed_imgs_val.shape"
   ]
  },
  {
   "cell_type": "code",
   "execution_count": 95,
   "id": "906799cd-d9c9-4a8d-86bb-45aaeb69a17d",
   "metadata": {},
   "outputs": [
    {
     "data": {
      "text/plain": [
       "device(type='mps')"
      ]
     },
     "execution_count": 95,
     "metadata": {},
     "output_type": "execute_result"
    }
   ],
   "source": [
    "# macのGPUが使えるか確認\n",
    "device = (torch.device('mps') if torch.backends.mps.is_available() else torch.device('cpu'))\n",
    "device"
   ]
  },
  {
   "cell_type": "code",
   "execution_count": 167,
   "id": "94d43740-cf0e-4575-b9fe-90a59408401a",
   "metadata": {
    "tags": []
   },
   "outputs": [],
   "source": [
    "# 訓練ループ\n",
    "def train_loop(n_epochs, optimizer, model, loss_fn, train, val):\n",
    "    loss_train_lists = np.array([])\n",
    "    loss_val_lists = np.array([])\n",
    "    device = (torch.device('mps') if torch.backends.mps.is_available() else torch.device('cpu'))\n",
    "    # GPU上で訓練するのでモデルを移動。toを使う\n",
    "    model.to(device=device)\n",
    "    for epoch in range(1,n_epochs+1):\n",
    "        loss_train = 0.0 # エポックごとにtrainとvalの損失関数を計算する\n",
    "        loss_val = 0.0\n",
    "\n",
    "        for imgs, labels in train:\n",
    "            imgs = imgs.to(device=device) # 画像とラベルをGPU上へ送る\n",
    "            labels = labels.to(device=device)\n",
    "            outputs = model(imgs) # 訓練結果\n",
    "            loss = loss_fn(outputs,labels) # 損失の計算\n",
    "\n",
    "            optimizer.zero_grad() # 勾配の値を一旦初期化。勾配は累積される。エポック毎に累積されないようにする。\n",
    "            loss.backward() # バックプロぱゲーションで勾配を計算\n",
    "            optimizer.step() # 計算した勾配を基にパラメータを調整\n",
    "\n",
    "            loss_train += loss.item()\n",
    "\n",
    "        for val_imgs, val_labels in val:\n",
    "            with torch.no_grad():\n",
    "                val_imgs = val_imgs.to(device=device)\n",
    "                val_labels = val_labels.to(device=device)\n",
    "                val_outputs = model(val_imgs)\n",
    "                val_loss = loss_fn(val_outputs, val_labels)\n",
    "            loss_val += val_loss.item()\n",
    "\n",
    "        loss_train_lists = np.append(loss_train_lists, loss_train/len(train))\n",
    "        loss_val_lists = np.append(loss_val_lists, loss_val/len(val))\n",
    "\n",
    "        if epoch % 10 == 0 or epoch in [1,2,3]:\n",
    "            print(f'{datetime.datetime.now()}Epoch:{epoch},Traing_loss:{loss_train/len(train)},val_loss{loss_val/len(val)}')\n",
    "        \n",
    "    return model, loss_train_lists, loss_val_lists"
   ]
  },
  {
   "cell_type": "code",
   "execution_count": 165,
   "id": "57d450e5-2ad5-4ca1-b9cf-b514cd037983",
   "metadata": {},
   "outputs": [
    {
     "data": {
      "text/plain": [
       "(1624676, [1572864, 512, 51200, 100])"
      ]
     },
     "execution_count": 165,
     "metadata": {},
     "output_type": "execute_result"
    }
   ],
   "source": [
    "# モデルのインスタンスの作成\n",
    "model = zenketu.Zenketugou()\n",
    "# パラメータの数を確認\n",
    "numel_list = [p.numel() for p in model.parameters()]\n",
    "sum(numel_list), numel_list"
   ]
  },
  {
   "cell_type": "code",
   "execution_count": 175,
   "id": "21c2d89b-dd5f-4e73-87b7-d9d0eb77007c",
   "metadata": {},
   "outputs": [],
   "source": [
    "# パラメータの設定\n",
    "# データローダーに入れることで、簡単にデータを取り扱う\n",
    "train_loader = torch.utils.data.DataLoader(\n",
    "    transformed_tensor_cifar100_train,\n",
    "    batch_size=100,\n",
    "    shuffle=True)\n",
    "val_loader = torch.utils.data.DataLoader(\n",
    "    transformed_tensor_cifar100_val,\n",
    "    batch_size=3,\n",
    "    shuffle=False)\n",
    "# 学習率の設定\n",
    "learning_rate = 1e-2\n",
    "# パラメータの修正に確率的勾配降下方を利用\n",
    "optimizer = optim.SGD(model.parameters(), lr = learning_rate)\n",
    "# 損失関数を定義\n",
    "loss_fn = nn.CrossEntropyLoss()\n",
    "# エポック数を設定\n",
    "n_epochs = 500"
   ]
  },
  {
   "cell_type": "code",
   "execution_count": 176,
   "id": "d0440b73-52bc-4a2c-8c11-5d32d9c1160e",
   "metadata": {},
   "outputs": [
    {
     "name": "stdout",
     "output_type": "stream",
     "text": [
      "2023-01-26 18:03:12.568487Epoch:1,Traing_loss:3.4852508945465086,val_loss3.5985739426335392\n",
      "2023-01-26 18:03:25.846464Epoch:2,Traing_loss:3.4473482451438904,val_loss3.5793107895523613\n",
      "2023-01-26 18:03:39.073881Epoch:3,Traing_loss:3.4132171239852904,val_loss3.563837980036973\n",
      "2023-01-26 18:05:11.561061Epoch:10,Traing_loss:3.2119903860092163,val_loss3.4653209940752157\n",
      "2023-01-26 18:07:24.856250Epoch:20,Traing_loss:2.9731648502349852,val_loss3.3858933002024836\n",
      "2023-01-26 18:09:41.419919Epoch:30,Traing_loss:2.7584612016677856,val_loss3.348166823708947\n",
      "2023-01-26 18:12:01.642333Epoch:40,Traing_loss:2.5522055535316466,val_loss3.3339225908525703\n",
      "2023-01-26 18:14:13.723799Epoch:50,Traing_loss:2.3512229170799257,val_loss3.3392606557184306\n",
      "2023-01-26 18:16:30.269676Epoch:60,Traing_loss:2.1558844161033632,val_loss3.3575498655429485\n",
      "2023-01-26 18:18:44.795174Epoch:70,Traing_loss:1.967266103744507,val_loss3.388753977537727\n",
      "2023-01-26 18:20:58.681959Epoch:80,Traing_loss:1.787370629787445,val_loss3.434777640212991\n",
      "2023-01-26 18:23:27.684651Epoch:90,Traing_loss:1.6176572854518891,val_loss3.47897071596492\n",
      "2023-01-26 18:25:53.553255Epoch:100,Traing_loss:1.459107600927353,val_loss3.53731997247649\n",
      "2023-01-26 18:28:18.021065Epoch:110,Traing_loss:1.3122095937728881,val_loss3.6057089617599893\n",
      "2023-01-26 18:30:44.128249Epoch:120,Traing_loss:1.1780154354572296,val_loss3.6660968180931324\n",
      "2023-01-26 18:33:05.881696Epoch:130,Traing_loss:1.0550011804103852,val_loss3.7334863002125416\n",
      "2023-01-26 18:35:31.061772Epoch:140,Traing_loss:0.9448275722265244,val_loss3.8043260050431367\n",
      "2023-01-26 18:37:51.816858Epoch:150,Traing_loss:0.8452884370088577,val_loss3.876693047967476\n",
      "2023-01-26 18:40:06.569193Epoch:160,Traing_loss:0.7552922812700271,val_loss3.9485757060943425\n",
      "2023-01-26 18:42:27.752590Epoch:170,Traing_loss:0.6756319832205773,val_loss4.019188547932644\n",
      "2023-01-26 18:44:42.870022Epoch:180,Traing_loss:0.6049183668494225,val_loss4.0857056777323155\n",
      "2023-01-26 18:46:57.492086Epoch:190,Traing_loss:0.5410453187227249,val_loss4.154978401422608\n",
      "2023-01-26 18:49:12.757496Epoch:200,Traing_loss:0.4854390734434128,val_loss4.224838329415409\n",
      "2023-01-26 18:51:27.753462Epoch:210,Traing_loss:0.4354225161671639,val_loss4.283972261717122\n",
      "2023-01-26 18:53:42.917516Epoch:220,Traing_loss:0.39261073917150496,val_loss4.352267438599457\n",
      "2023-01-26 18:55:57.702395Epoch:230,Traing_loss:0.35389922103285787,val_loss4.40727579204369\n",
      "2023-01-26 18:58:12.366582Epoch:240,Traing_loss:0.32039315393567086,val_loss4.457050603184789\n",
      "2023-01-26 19:00:27.560677Epoch:250,Traing_loss:0.290720480710268,val_loss4.513601015678908\n",
      "2023-01-26 19:02:42.432958Epoch:260,Traing_loss:0.2641886096894741,val_loss4.571079854087499\n",
      "2023-01-26 19:04:57.644189Epoch:270,Traing_loss:0.2412343506217003,val_loss4.624747362337564\n",
      "2023-01-26 19:07:12.593292Epoch:280,Traing_loss:0.2204933332502842,val_loss4.663139334666399\n",
      "2023-01-26 19:09:29.045017Epoch:290,Traing_loss:0.20259643653035164,val_loss4.712324209309037\n",
      "2023-01-26 19:11:41.449163Epoch:300,Traing_loss:0.18636735394597054,val_loss4.753227775058322\n",
      "2023-01-26 19:14:13.261845Epoch:310,Traing_loss:0.17224647830426693,val_loss4.795605105614422\n",
      "2023-01-26 19:16:31.581200Epoch:320,Traing_loss:0.15947246730327605,val_loss4.835745098858169\n",
      "2023-01-26 19:18:48.305230Epoch:330,Traing_loss:0.1479705391675234,val_loss4.86944871498512\n",
      "2023-01-26 19:21:05.573479Epoch:340,Traing_loss:0.13793568429350853,val_loss4.912852760162997\n",
      "2023-01-26 19:23:23.831238Epoch:350,Traing_loss:0.12863786324858664,val_loss4.945052977720634\n",
      "2023-01-26 19:25:48.805615Epoch:360,Traing_loss:0.12055860029160977,val_loss4.979023578451041\n",
      "2023-01-26 19:28:08.501790Epoch:370,Traing_loss:0.1131825065612793,val_loss5.012253053143317\n",
      "2023-01-26 19:30:29.896373Epoch:380,Traing_loss:0.10638244639337063,val_loss5.044510602978425\n",
      "2023-01-26 19:32:47.505297Epoch:390,Traing_loss:0.10025709606707096,val_loss5.073045593104814\n",
      "2023-01-26 19:34:59.435594Epoch:400,Traing_loss:0.09472682164609432,val_loss5.099946221221634\n",
      "2023-01-26 19:37:11.186793Epoch:410,Traing_loss:0.08975888800621033,val_loss5.123234633587068\n",
      "2023-01-26 19:39:23.348692Epoch:420,Traing_loss:0.0850349647179246,val_loss5.153625817759936\n",
      "2023-01-26 19:41:35.450230Epoch:430,Traing_loss:0.08097127823531627,val_loss5.176559902981804\n",
      "2023-01-26 19:43:46.546311Epoch:440,Traing_loss:0.07708656446635723,val_loss5.2029944033148\n",
      "2023-01-26 19:45:58.380473Epoch:450,Traing_loss:0.07354027128219605,val_loss5.226931998322941\n",
      "2023-01-26 19:48:09.827621Epoch:460,Traing_loss:0.07022552804648877,val_loss5.252397119904515\n",
      "2023-01-26 19:50:21.582763Epoch:470,Traing_loss:0.06723024821281433,val_loss5.270495969819461\n",
      "2023-01-26 19:52:33.006798Epoch:480,Traing_loss:0.06441052509844303,val_loss5.293156194586103\n",
      "2023-01-26 19:54:43.826540Epoch:490,Traing_loss:0.061753397904336454,val_loss5.312150010483783\n",
      "2023-01-26 19:56:56.567851Epoch:500,Traing_loss:0.05936469553411007,val_loss5.334571752329058\n"
     ]
    }
   ],
   "source": [
    "# モデルの訓練\n",
    "model, loss_train_lists, loss_val_lists = train_loop(n_epochs = n_epochs,\n",
    "                                                        optimizer=optimizer,\n",
    "                                                        model = model,\n",
    "                                                        loss_fn = loss_fn,\n",
    "                                                        train = train_loader,\n",
    "                                                        val = val_loader)"
   ]
  },
  {
   "cell_type": "code",
   "execution_count": 177,
   "id": "edf02b07-0ecd-4976-97ed-f36e58653a93",
   "metadata": {},
   "outputs": [
    {
     "data": {
      "image/png": "[encoded data removed]",
      "text/plain": [
       "<Figure size 640x480 with 1 Axes>"
      ]
     },
     "metadata": {},
     "output_type": "display_data"
    }
   ],
   "source": [
    "plt.plot(loss_train_lists,label = 'train')\n",
    "plt.plot(loss_val_lists, label ='val')\n",
    "plt.title('only_zenketugou_model')\n",
    "plt.ylabel('Loss')\n",
    "plt.xlabel('epoch')\n",
    "plt.legend()\n",
    "plt.show()"
   ]
  },
  {
   "cell_type": "code",
   "execution_count": 178,
   "id": "c335a2fc-fb53-45b0-8d36-6d46693c7f51",
   "metadata": {},
   "outputs": [
    {
     "name": "stdout",
     "output_type": "stream",
     "text": [
      "Accuracy train: 1.00\n",
      "Accuracy val: 0.20\n"
     ]
    }
   ],
   "source": [
    "# trainデータとvalデータの正解率の確認\n",
    "train_loader = torch.utils.data.DataLoader(\n",
    "    transformed_tensor_cifar100_train,\n",
    "    batch_size=100,\n",
    "    shuffle=False)\n",
    "val_loader = torch.utils.data.DataLoader(\n",
    "    transformed_tensor_cifar100_val,\n",
    "    batch_size=100,\n",
    "    shuffle=False)\n",
    "\n",
    "def validate(model, train_loader, val_loader):\n",
    "    for name, loader in [(\"train\", train_loader), (\"val\", val_loader)]: # 最初にTrain、printで結果を表示後、valを計算して結果を表示する流れ\n",
    "        correct = 0\n",
    "        total = 0\n",
    "        with torch.no_grad(): # 勾配を計算させないのための記述\n",
    "            for imgs, labels in loader:\n",
    "                model.to(device='cpu') # モデルをCPU上に持ってくる\n",
    "                outputs = model(imgs)\n",
    "                _, predicted = torch.max(outputs, dim=1)\n",
    "                total += labels.shape[0]\n",
    "                correct += int((predicted == labels).sum())\n",
    "        \n",
    "        print(\"Accuracy {}: {:.2f}\".format(name , correct / total))\n",
    "\n",
    "validate(model, train_loader, val_loader)"
   ]
  },
  {
   "cell_type": "code",
   "execution_count": 126,
   "id": "817109d3-6a5b-4c3f-acc6-4f7d1b5deca7",
   "metadata": {},
   "outputs": [],
   "source": [
    "# モデルの保存\n",
    "d_path = './para_models/'\n",
    "torch.save(model.state_dict(), d_path + 'only_zenketugou_model2.pt')"
   ]
  },
  {
   "cell_type": "code",
   "execution_count": 127,
   "id": "0d29ddee-dd88-45e7-97cb-5d9c87cee1f8",
   "metadata": {},
   "outputs": [
    {
     "data": {
      "text/plain": [
       "<All keys matched successfully>"
      ]
     },
     "execution_count": 127,
     "metadata": {},
     "output_type": "execute_result"
    }
   ],
   "source": [
    "# モデルの呼び出し\n",
    "loaded_model = zenketu.Zenketugou()\n",
    "loaded_model.load_state_dict(torch.load(d_path + 'only_zenketugou_model2.pt'))"
   ]
  },
  {
   "cell_type": "markdown",
   "id": "9aa220e9-a9e2-450a-bc69-3935dbe7562c",
   "metadata": {},
   "source": [
    "# モデルの作成"
   ]
  },
  {
   "cell_type": "code",
   "execution_count": null,
   "id": "eb6549de-c6d5-48a7-8dcc-6c52e304bd2f",
   "metadata": {},
   "outputs": [],
   "source": [
    "# 過学習対策をしてみる\n",
    "# L２正則化、バッチノーマリゼーション、ドロップアウト"
   ]
  }
 ],
 "metadata": {
  "kernelspec": {
   "display_name": "Python 3 (ipykernel)",
   "language": "python",
   "name": "python3"
  },
  "language_info": {
   "codemirror_mode": {
    "name": "ipython",
    "version": 3
   },
   "file_extension": ".py",
   "mimetype": "text/x-python",
   "name": "python",
   "nbconvert_exporter": "python",
   "pygments_lexer": "ipython3",
   "version": "3.9.12"
  }
 },
 "nbformat": 4,
 "nbformat_minor": 5
}
