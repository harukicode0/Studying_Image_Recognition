{
 "cells": [
  {
   "cell_type": "markdown",
   "id": "ce90efb2-4713-46b4-8090-7c7f9e35159b",
   "metadata": {
    "jp-MarkdownHeadingCollapsed": true,
    "tags": []
   },
   "source": [
    "# import"
   ]
  },
  {
   "cell_type": "code",
   "execution_count": 1,
   "id": "47bb101b-256c-4487-9179-d7d67c652c67",
   "metadata": {},
   "outputs": [],
   "source": [
    "import torch\n",
    "from torchvision import datasets\n",
    "from torchvision import transforms\n",
    "import matplotlib.pyplot as plt\n",
    "import japanize_matplotlib\n",
    "import numpy as np\n",
    "import pandas as pd\n",
    "import torch.nn as nn\n",
    "import torch.optim as optim\n",
    "import datetime\n",
    "# 自作モデルのインポート\n",
    "import models.ore_no_zenketugou_model as zenketu"
   ]
  },
  {
   "cell_type": "markdown",
   "id": "0bc7f0b4-0c96-4ba2-a60a-84e127d20afb",
   "metadata": {
    "jp-MarkdownHeadingCollapsed": true,
    "tags": []
   },
   "source": [
    "# データの準備"
   ]
  },
  {
   "cell_type": "code",
   "execution_count": 2,
   "id": "511b8735-8929-48b6-9b1b-2a8e08a43d90",
   "metadata": {},
   "outputs": [
    {
     "name": "stdout",
     "output_type": "stream",
     "text": [
      "Files already downloaded and verified\n",
      "Files already downloaded and verified\n"
     ]
    }
   ],
   "source": [
    "# cifar100を利用する\n",
    "data_path = './cifar-100'\n",
    "# 訓練データと検証データのダウンロード\n",
    "tensor_cifar100_train = datasets.CIFAR100(data_path,\n",
    "                                          train=True,\n",
    "                                          download=True,\n",
    "                                          transform=transforms.ToTensor())\n",
    "tensor_cifar100_val = datasets.CIFAR100(data_path,\n",
    "                                        train=False,\n",
    "                                        download=True,\n",
    "                                        transform=transforms.ToTensor())"
   ]
  },
  {
   "cell_type": "markdown",
   "id": "e876123e-00f3-430e-a11a-cd7cd316c940",
   "metadata": {},
   "source": [
    "## ラベル"
   ]
  },
  {
   "cell_type": "code",
   "execution_count": 3,
   "id": "cc97fc77-a25b-414e-aa33-87b416c53e0a",
   "metadata": {
    "tags": []
   },
   "outputs": [],
   "source": [
    "# cifar100の上位クラスのラベル\n",
    "super_class_names = [\n",
    "  'aquatic mammals',  # 0：水生哺乳類\n",
    "  'fish',  # 1：魚\n",
    "  'flowers',  # ：花\n",
    "  'food containers',  # 3：食品容器\n",
    "  'fruit and vegetables',  # 4：果物と野菜\n",
    "  'household electrical devices',  # 5：家電\n",
    "  'household furniture',  # 6：家具\n",
    "  'insects',  # 7：昆虫\n",
    "  'large carnivores',  # 8：大型の肉食動物\n",
    "  'large man-made outdoor things',  # 9：大型の建造物\n",
    "  'large natural outdoor scenes',  # 10：大自然の風景\n",
    "  'large omnivores and herbivores',  # 11：大型の雑食動物と草食動物\n",
    "  'medium-sized mammals',  # 12：中型の哺乳類\n",
    "  'non-insect invertebrates',  # 13：昆虫ではない無脊椎動物\n",
    "  'people',  # 14：人\n",
    "  'reptiles',  # 15：爬虫類\n",
    "  'small mammals',  # 16：小型の哺乳類\n",
    "  'trees',  # 17：木\n",
    "  'vehicles 1',  # 18：車両1\n",
    "  'vehicles 2',  # 19：車両2\n",
    "]"
   ]
  },
  {
   "cell_type": "code",
   "execution_count": 4,
   "id": "c688ca0b-4f3d-43b9-8bee-242e271b49ae",
   "metadata": {
    "tags": []
   },
   "outputs": [],
   "source": [
    "# cifar100の各ラベル\n",
    "class_names = [\n",
    "  'apples',  # 0：りんご\n",
    "  'aquarium fish',  # 1：観賞魚\n",
    "  'baby',  # 2：赤ちゃん\n",
    "  'bear',  # 3：クマ\n",
    "  'beaver',  # 4：ビーバー\n",
    "  'bed',  # 5：ベッド\n",
    "  'bee',  # 6：蜂\n",
    "  'beetle',  # 7：カブトムシ\n",
    "  'bicycle',  # 8：自転車\n",
    "  'bottles',  # 9：ボトル\n",
    "  'bowls',  # 10：ボウル\n",
    "  'boy',  # 11：少年\n",
    "  'bridge',  # 12：橋\n",
    "  'bus',  # 13：バス\n",
    "  'butterfly',  # 14：蝶\n",
    "  'camel',  # 15：ラクダ\n",
    "  'cans',  # 16：缶\n",
    "  'castle',  # 17：城\n",
    "  'caterpillar',  # 18：毛虫\n",
    "  'cattle',  # 19：牛\n",
    "  'chair',  # 20：椅子\n",
    "  'chimpanzee',  # 21：チンパンジー\n",
    "  'clock',  # 22：時計\n",
    "  'cloud',  # 23：雲\n",
    "  'cockroach',  # 24：ゴキブリ\n",
    "  'couch',  # 25：ソファー\n",
    "  'crab',  # 26：カニ\n",
    "  'crocodile',  # 27：ワニ\n",
    "  'cups',  # 28：カップ\n",
    "  'dinosaur',  # 29：恐竜\n",
    "  'dolphin',  # 30：イルカ\n",
    "  'elephant',  # 31：象\n",
    "  'flatfish',  # 32：ヒラメ\n",
    "  'forest',  # 33：森\n",
    "  'fox',  # 34：キツネ\n",
    "  'girl',  # 35：少女\n",
    "  'hamster',  # 36：ハムスター\n",
    "  'house',  # 37：家\n",
    "  'kangaroo',  # 38：カンガルー\n",
    "  'computer keyboard',  # 39：コンピューターのキーボード\n",
    "  'lamp',  # 40：ランプ\n",
    "  'lawn-mower',  # 41：芝刈り機\n",
    "  'leopard',  # 42：ヒョウ\n",
    "  'lion',  # 43：ライオン\n",
    "  'lizard',  # 44：トカゲ\n",
    "  'lobster',  # 45：ロブスター\n",
    "  'man',  # 46：成人男性\n",
    "  'maple',  # 47：もみじ\n",
    "  'motorcycle',  # 48：オートバイ\n",
    "  'mountain',  # 49：山\n",
    "  'mouse',  # 50：ねずみ\n",
    "  'mushrooms',  # 51：きのこ\n",
    "  'oak',  # 52：オーク\n",
    "  'oranges',  # 53：オレンジ\n",
    "  'orchids',  # 54：蘭\n",
    "  'otter',  # 55：カワウソ\n",
    "  'palm',  # 56：ヤシ\n",
    "  'pears',  # 57：洋ナシ\n",
    "  'pickup truck',  # 58：ピックアップトラック\n",
    "  'pine',  # 59：松\n",
    "  'plain',  # 60：平野\n",
    "  'plates',  # 61：皿\n",
    "  'poppies',  # 62：ポピー\n",
    "  'porcupine',  # 63：ヤマアラシ\n",
    "  'possum',  # 64：フクロネズミ\n",
    "  'rabbit',  # 65：ウサギ\n",
    "  'raccoon',  # 66：アライグマ\n",
    "  'ray',  # 67：エイ\n",
    "  'road',  # 68：道路\n",
    "  'rocket',  # 69：ロケット\n",
    "  'roses',  # 70：バラ\n",
    "  'sea',  # 71：海\n",
    "  'seal',  # 72：アザラシ\n",
    "  'shark',  # 73：サメ\n",
    "  'shrew',  # 74：トガリネズミ\n",
    "  'skunk',  # 75：スカンク\n",
    "  'skyscraper',  # 76：超高層ビル\n",
    "  'snail',  # 77：カタツムリ\n",
    "  'snake',  # 78：ヘビ\n",
    "  'spider',  # 79：クモ\n",
    "  'squirrel',  # 80：リス\n",
    "  'streetcar',  # 81：路面電車\n",
    "  'sunflowers',  # 82：ひまわり\n",
    "  'sweet peppers',  # 83：パプリカ\n",
    "  'table',  # 84：テーブル\n",
    "  'tank',  # 85：タンク\n",
    "  'telephone',  # 86：電話\n",
    "  'television',  # 87：テレビ\n",
    "  'tiger',  # 88：トラ\n",
    "  'tractor',  # 89：トラクター\n",
    "  'train',  # 90：電車\n",
    "  'trout',  # 91：マス\n",
    "  'tulips',  # 92：チューリップ\n",
    "  'turtle',  # 93：カメ\n",
    "  'wardrobe',  # 94：ワードローブ\n",
    "  'whale',  # 95：クジラ\n",
    "  'willow',  # 96：柳\n",
    "  'wolf',  # 97：オオカミ\n",
    "  'woman',  # 98：成人女性\n",
    "  'worm',  # 99：ミミズ\n",
    "]"
   ]
  },
  {
   "cell_type": "code",
   "execution_count": 5,
   "id": "0a072502-098c-43e3-a54a-0419d735d62e",
   "metadata": {},
   "outputs": [
    {
     "name": "stdout",
     "output_type": "stream",
     "text": [
      "willow\n"
     ]
    },
    {
     "data": {
      "image/png": "[encoded data removed]",
      "text/plain": [
       "<Figure size 640x480 with 1 Axes>"
      ]
     },
     "metadata": {},
     "output_type": "display_data"
    }
   ],
   "source": [
    "# 画像の確認\n",
    "img_t, label = tensor_cifar100_train[11]\n",
    "print(class_names[label])\n",
    "plt.imshow(img_t.permute(1,2,0))\n",
    "plt.show()"
   ]
  },
  {
   "cell_type": "markdown",
   "id": "b50db966-3445-4ab6-8936-b1f87cbcf13a",
   "metadata": {},
   "source": [
    "## 画像の標準化"
   ]
  },
  {
   "cell_type": "code",
   "execution_count": 6,
   "id": "83998dfa-f56e-45e5-a9b7-0dd3ecae9a12",
   "metadata": {},
   "outputs": [
    {
     "data": {
      "text/plain": [
       "torch.Size([3, 32, 32, 50000])"
      ]
     },
     "execution_count": 6,
     "metadata": {},
     "output_type": "execute_result"
    }
   ],
   "source": [
    "# テンソルを束ねる\n",
    "imgs = torch.stack([img_t for img_t, _ in tensor_cifar100_train], dim = 3)\n",
    "imgs.shape"
   ]
  },
  {
   "cell_type": "code",
   "execution_count": 7,
   "id": "14b54ba4-dfde-41ad-8d4d-c8d887a29b5a",
   "metadata": {},
   "outputs": [
    {
     "data": {
      "text/plain": [
       "(tensor([0.5071, 0.4865, 0.4409]), tensor([0.2673, 0.2564, 0.2762]))"
      ]
     },
     "execution_count": 7,
     "metadata": {},
     "output_type": "execute_result"
    }
   ],
   "source": [
    "# RGB各々の平均、標準偏差を計算する\n",
    "means = imgs.view(3,-1).mean(dim=1)\n",
    "stds = imgs.view(3,-1).std(dim=1)\n",
    "means, stds"
   ]
  },
  {
   "cell_type": "code",
   "execution_count": 8,
   "id": "474ffc84-58ab-441e-b469-37b7cc674e37",
   "metadata": {
    "tags": []
   },
   "outputs": [],
   "source": [
    "# 各画像データを標準化する\n",
    "transformed_tensor_cifar100_train = datasets.CIFAR100(data_path,\n",
    "                                                      train=True,\n",
    "                                                      download=False,\n",
    "                                                      transform=transforms.Compose([\n",
    "                                                          transforms.ToTensor(),\n",
    "                                                          transforms.Normalize(means,stds)\n",
    "                                                      ]))\n",
    "transformed_tensor_cifar100_val = datasets.CIFAR100(data_path,\n",
    "                                                   train=False,\n",
    "                                                   download=False,\n",
    "                                                   transform = transforms.Compose([\n",
    "                                                       transforms.ToTensor(),\n",
    "                                                       transforms.Normalize(means,stds)\n",
    "                                                   ]))"
   ]
  },
  {
   "cell_type": "code",
   "execution_count": 9,
   "id": "fdcd0f90-d581-41b7-9f0f-67cfa738d33f",
   "metadata": {},
   "outputs": [
    {
     "name": "stderr",
     "output_type": "stream",
     "text": [
      "Clipping input data to the valid range for imshow with RGB data ([0..1] for floats or [0..255] for integers).\n"
     ]
    },
    {
     "name": "stdout",
     "output_type": "stream",
     "text": [
      "willow\n"
     ]
    },
    {
     "data": {
      "image/png": "[encoded data removed]",
      "text/plain": [
       "<Figure size 640x480 with 1 Axes>"
      ]
     },
     "metadata": {},
     "output_type": "display_data"
    }
   ],
   "source": [
    "# 標準化後データの確認\n",
    "img_t, label = transformed_tensor_cifar100_train[11]\n",
    "print(class_names[label])\n",
    "plt.imshow(img_t.permute(1,2,0))\n",
    "plt.show()"
   ]
  },
  {
   "cell_type": "markdown",
   "id": "003d7d9e-bd6c-4fbf-b1c2-6320343aada1",
   "metadata": {},
   "source": [
    "# モデル訓練"
   ]
  },
  {
   "cell_type": "code",
   "execution_count": 10,
   "id": "fbb46872-38df-418a-aa44-77221d05572d",
   "metadata": {},
   "outputs": [
    {
     "data": {
      "text/plain": [
       "(torch.Size([3, 32, 32, 50000]), torch.Size([3, 32, 32, 10000]))"
      ]
     },
     "execution_count": 10,
     "metadata": {},
     "output_type": "execute_result"
    }
   ],
   "source": [
    "transformed_imgs = torch.stack([img_t for img_t, _ in transformed_tensor_cifar100_train], dim = 3)\n",
    "transformed_imgs_val = torch.stack([img_t for img_t, _ in transformed_tensor_cifar100_val], dim = 3)\n",
    "transformed_imgs.shape, transformed_imgs_val.shape"
   ]
  },
  {
   "cell_type": "code",
   "execution_count": 11,
   "id": "906799cd-d9c9-4a8d-86bb-45aaeb69a17d",
   "metadata": {},
   "outputs": [
    {
     "data": {
      "text/plain": [
       "device(type='mps')"
      ]
     },
     "execution_count": 11,
     "metadata": {},
     "output_type": "execute_result"
    }
   ],
   "source": [
    "# macのGPUが使えるか確認\n",
    "device = (torch.device('mps') if torch.backends.mps.is_available() else torch.device('cpu'))\n",
    "device"
   ]
  },
  {
   "cell_type": "code",
   "execution_count": 12,
   "id": "c335a2fc-fb53-45b0-8d36-6d46693c7f51",
   "metadata": {},
   "outputs": [],
   "source": [
    "# trainデータとvalデータの正解率の確認\n",
    "train_loader = torch.utils.data.DataLoader(\n",
    "    transformed_tensor_cifar100_train,\n",
    "    batch_size=100,\n",
    "    shuffle=False)\n",
    "val_loader = torch.utils.data.DataLoader(\n",
    "    transformed_tensor_cifar100_val,\n",
    "    batch_size=100,\n",
    "    shuffle=False)\n",
    "\n",
    "def validate(model, train_loader, val_loader):\n",
    "    for name, loader in [(\"train\", train_loader), (\"val\", val_loader)]: # 最初にTrain、printで結果を表示後、valを計算して結果を表示する流れ\n",
    "        correct = 0\n",
    "        total = 0\n",
    "        with torch.no_grad(): # 勾配を計算させないのための記述\n",
    "            for imgs, labels in loader:\n",
    "                model.to(device='mps') # モデルをCPU上に持ってくる\n",
    "                imgs = imgs.to(device='mps')\n",
    "                labels = labels.to(device = 'mps')\n",
    "                outputs = model(imgs)\n",
    "                _, predicted = torch.max(outputs, dim=1)\n",
    "                total += labels.shape[0]\n",
    "                correct += int((predicted == labels).sum())\n",
    "                # 最初にtrain、後にvalの正解率を出す。\n",
    "                if name == 'train':\n",
    "                    train_accuracy = correct / total\n",
    "                else:\n",
    "                    val_accuracy = correct / total\n",
    "    return train_accuracy, val_accuracy"
   ]
  },
  {
   "cell_type": "code",
   "execution_count": 13,
   "id": "94d43740-cf0e-4575-b9fe-90a59408401a",
   "metadata": {
    "tags": []
   },
   "outputs": [],
   "source": [
    "# 訓練ループ\n",
    "def train_loop(n_epochs, optimizer, model, loss_fn, train, val):\n",
    "    loss_train_lists = np.array([])\n",
    "    loss_val_lists = np.array([])\n",
    "    train_accuracies = np.array([])\n",
    "    val_accuracies = np.array([])\n",
    "    \n",
    "    device = (torch.device('mps') if torch.backends.mps.is_available() else torch.device('cpu'))\n",
    "    # GPU上で訓練するのでモデルを移動。toを使う\n",
    "    model.to(device=device)\n",
    "    for epoch in range(1,n_epochs+1):\n",
    "        loss_train = 0.0 # エポックごとにtrainとvalの損失関数を計算する\n",
    "        loss_val = 0.0\n",
    "\n",
    "        for imgs, labels in train:\n",
    "            imgs = imgs.to(device=device) # 画像とラベルをGPU上へ送る\n",
    "            labels = labels.to(device=device)\n",
    "            outputs = model(imgs) # 訓練結果\n",
    "            loss = loss_fn(outputs,labels) # 損失の計算\n",
    "\n",
    "            optimizer.zero_grad() # 勾配の値を一旦初期化。勾配は累積される。エポック毎に累積されないようにする。\n",
    "            loss.backward() # バックプロぱゲーションで勾配を計算\n",
    "            optimizer.step() # 計算した勾配を基にパラメータを調整\n",
    "\n",
    "            loss_train += loss.item()\n",
    "\n",
    "        for val_imgs, val_labels in val:\n",
    "            with torch.no_grad():\n",
    "                val_imgs = val_imgs.to(device=device)\n",
    "                val_labels = val_labels.to(device=device)\n",
    "                val_outputs = model(val_imgs)\n",
    "                val_loss = loss_fn(val_outputs, val_labels)\n",
    "            loss_val += val_loss.item()\n",
    "\n",
    "        loss_train_lists = np.append(loss_train_lists, loss_train/len(train))\n",
    "        loss_val_lists = np.append(loss_val_lists, loss_val/len(val))\n",
    "        \n",
    "        train_accuracy, val_accuracy = validate(model, train_loader, val_loader)\n",
    "        train_accuracies = np.append(train_accuracies, train_accuracy)\n",
    "        val_accuracies = np.append(val_accuracies, val_accuracy)\n",
    "        \n",
    "\n",
    "        if epoch % 10 == 0 or epoch in [1,2,3]:\n",
    "            print(f'{datetime.datetime.now()}Epoch:{epoch},Traing_loss:{loss_train/len(train)},val_loss{loss_val/len(val)}')\n",
    "        \n",
    "    return model, loss_train_lists, loss_val_lists, train_accuracies, val_accuracies"
   ]
  },
  {
   "cell_type": "code",
   "execution_count": 14,
   "id": "57d450e5-2ad5-4ca1-b9cf-b514cd037983",
   "metadata": {},
   "outputs": [],
   "source": [
    "# モデルのインスタンスの作成\n",
    "# model = zenketu.Zenketugou()\n",
    "# # パラメータの数を確認\n",
    "# numel_list = [p.numel() for p in model.parameters()]\n",
    "# sum(numel_list), numel_list"
   ]
  },
  {
   "cell_type": "code",
   "execution_count": 15,
   "id": "8601acf8-2e36-4cc2-a7f7-3af437e3b177",
   "metadata": {},
   "outputs": [
    {
     "data": {
      "text/plain": [
       "(41620, [864, 32, 4608, 16, 32768, 32, 3200, 100])"
      ]
     },
     "execution_count": 15,
     "metadata": {},
     "output_type": "execute_result"
    }
   ],
   "source": [
    "model = zenketu.CNN()\n",
    "numel_list = [p.numel() for p in model.parameters()]\n",
    "sum(numel_list), numel_list"
   ]
  },
  {
   "cell_type": "code",
   "execution_count": 20,
   "id": "21c2d89b-dd5f-4e73-87b7-d9d0eb77007c",
   "metadata": {},
   "outputs": [],
   "source": [
    "# パラメータの設定\n",
    "# データローダーに入れることで、簡単にデータを取り扱う\n",
    "train_loader = torch.utils.data.DataLoader(\n",
    "    transformed_tensor_cifar100_train,\n",
    "    batch_size=100,\n",
    "    shuffle=True)\n",
    "val_loader = torch.utils.data.DataLoader(\n",
    "    transformed_tensor_cifar100_val,\n",
    "    batch_size=3,\n",
    "    shuffle=False)\n",
    "# 学習率の設定\n",
    "learning_rate = 1e-2\n",
    "# パラメータの修正に確率的勾配降下方を利用\n",
    "optimizer = optim.SGD(model.parameters(), lr = learning_rate)\n",
    "# 損失関数を定義\n",
    "loss_fn = nn.CrossEntropyLoss()\n",
    "# エポック数を設定\n",
    "n_epochs = 300"
   ]
  },
  {
   "cell_type": "code",
   "execution_count": 21,
   "id": "414e7a62-fe37-4514-8c63-318345b8b517",
   "metadata": {},
   "outputs": [
    {
     "data": {
      "text/plain": [
       "CNN(\n",
       "  (conv1): Conv2d(3, 32, kernel_size=(3, 3), stride=(1, 1), padding=(1, 1))\n",
       "  (conv2): Conv2d(32, 16, kernel_size=(3, 3), stride=(1, 1), padding=(1, 1))\n",
       "  (fc1): Linear(in_features=1024, out_features=32, bias=True)\n",
       "  (fc2): Linear(in_features=32, out_features=100, bias=True)\n",
       ")"
      ]
     },
     "execution_count": 21,
     "metadata": {},
     "output_type": "execute_result"
    }
   ],
   "source": [
    "model\n",
    "# 訓練がうまくいってなかったのでもう一度"
   ]
  },
  {
   "cell_type": "code",
   "execution_count": 23,
   "id": "d0440b73-52bc-4a2c-8c11-5d32d9c1160e",
   "metadata": {
    "tags": []
   },
   "outputs": [
    {
     "name": "stdout",
     "output_type": "stream",
     "text": [
      "2023-01-28 17:07:44.539460Epoch:1,Traing_loss:1.7338019347190856,val_loss2.818780936320867\n",
      "2023-01-28 17:08:33.605294Epoch:2,Traing_loss:1.7369425628185273,val_loss2.8186823391720393\n",
      "2023-01-28 17:09:19.625778Epoch:3,Traing_loss:1.733171658039093,val_loss2.824695739454864\n",
      "2023-01-28 17:15:07.586265Epoch:10,Traing_loss:1.725507167339325,val_loss2.826660188038995\n",
      "2023-01-28 17:20:51.379292Epoch:20,Traing_loss:1.7121040844917297,val_loss2.865383167139377\n",
      "2023-01-28 17:26:35.977577Epoch:30,Traing_loss:1.7004314463138581,val_loss2.8742144661181763\n",
      "2023-01-28 17:32:17.484013Epoch:40,Traing_loss:1.6916124789714813,val_loss2.8826041393580915\n",
      "2023-01-28 17:38:05.143314Epoch:50,Traing_loss:1.6788681983947753,val_loss2.912995597708526\n",
      "2023-01-28 17:43:49.973432Epoch:60,Traing_loss:1.6708961646556855,val_loss2.921579321816197\n",
      "2023-01-28 17:49:38.630168Epoch:70,Traing_loss:1.662776094675064,val_loss2.9474317619435144\n",
      "2023-01-28 18:40:08.598241Epoch:80,Traing_loss:1.6516941850185394,val_loss2.9703971367233266\n",
      "2023-01-28 19:05:38.622020Epoch:90,Traing_loss:1.6414741284847258,val_loss2.9781751272564136\n",
      "2023-01-28 19:11:15.819317Epoch:100,Traing_loss:1.6350539884567261,val_loss2.9860868731130363\n",
      "2023-01-29 00:45:27.729220Epoch:110,Traing_loss:1.6281337065696717,val_loss3.008071746353125\n",
      "2023-01-29 00:51:11.710803Epoch:120,Traing_loss:1.620629188299179,val_loss3.028170430517672\n",
      "2023-01-29 00:56:49.475378Epoch:130,Traing_loss:1.6102333867549896,val_loss3.039571160866237\n",
      "2023-01-29 01:02:31.263534Epoch:140,Traing_loss:1.6034942038059234,val_loss3.0781401017112024\n",
      "2023-01-29 01:08:13.118635Epoch:150,Traing_loss:1.5977907440662384,val_loss3.0777264827394206\n",
      "2023-01-29 01:13:53.808439Epoch:160,Traing_loss:1.5913344604969024,val_loss3.100247280159323\n",
      "2023-01-29 01:19:29.973033Epoch:170,Traing_loss:1.5810946202278138,val_loss3.103956238068886\n",
      "2023-01-29 01:25:12.302122Epoch:180,Traing_loss:1.5803507051467895,val_loss3.1340201065954365\n",
      "2023-01-29 01:31:01.987826Epoch:190,Traing_loss:1.5715844700336457,val_loss3.144855436773431\n",
      "2023-01-29 01:36:46.488565Epoch:200,Traing_loss:1.5686104855537415,val_loss3.161813127131709\n",
      "2023-01-29 01:42:46.254005Epoch:210,Traing_loss:1.559575309753418,val_loss3.1789181932380135\n",
      "2023-01-29 01:48:42.037545Epoch:220,Traing_loss:1.5530203404426575,val_loss3.1908269205025044\n",
      "2023-01-29 01:54:21.568907Epoch:230,Traing_loss:1.5519398062229157,val_loss3.241310009881452\n",
      "2023-01-29 02:00:11.662634Epoch:240,Traing_loss:1.5458532700538634,val_loss3.2281317736229447\n",
      "2023-01-29 02:06:50.567958Epoch:250,Traing_loss:1.540339642047882,val_loss3.2260309189008285\n",
      "2023-01-29 02:12:52.197681Epoch:260,Traing_loss:1.5331281383037567,val_loss3.265829403942253\n",
      "2023-01-29 02:18:18.324316Epoch:270,Traing_loss:1.531745221376419,val_loss3.2570722569931068\n",
      "2023-01-29 02:23:47.626834Epoch:280,Traing_loss:1.5247678141593932,val_loss3.2793126872600458\n",
      "2023-01-29 09:31:12.903490Epoch:290,Traing_loss:1.5228089687824249,val_loss3.288810792976312\n",
      "2023-01-29 09:36:41.078145Epoch:300,Traing_loss:1.5198593823909758,val_loss3.2917313007017723\n"
     ]
    }
   ],
   "source": [
    "# モデルの訓練\n",
    "model,loss_train_lists, loss_val_lists, train_accuracies,val_accuracies = train_loop(n_epochs = n_epochs,\n",
    "                                            optimizer=optimizer,\n",
    "                                            model = model,\n",
    "                                            loss_fn = loss_fn,\n",
    "                                            train = train_loader,\n",
    "                                            val = val_loader)"
   ]
  },
  {
   "cell_type": "markdown",
   "id": "e525ae33-99ae-4cc9-ba49-0b274d4d4834",
   "metadata": {},
   "source": [
    "# 結果をグラフで確認"
   ]
  },
  {
   "cell_type": "code",
   "execution_count": 25,
   "id": "76be182e-2b91-4d63-b5c1-e9a782e8dd30",
   "metadata": {},
   "outputs": [
    {
     "data": {
      "image/png": "[encoded data removed]",
      "text/plain": [
       "<Figure size 640x480 with 1 Axes>"
      ]
     },
     "metadata": {},
     "output_type": "display_data"
    },
    {
     "data": {
      "image/png": "[encoded data removed]",
      "text/plain": [
       "<Figure size 640x480 with 1 Axes>"
      ]
     },
     "metadata": {},
     "output_type": "display_data"
    }
   ],
   "source": [
    "# 正解率を出す\n",
    "plt.plot(train_accuracies,label = 'train')\n",
    "plt.plot(val_accuracies, label ='val')\n",
    "plt.title('CNN')\n",
    "plt.ylabel('accuracy')\n",
    "plt.ylim(0,1)\n",
    "plt.xlabel('epoch')\n",
    "plt.legend()\n",
    "plt.savefig('picture/accuracy_CNN.png')\n",
    "plt.show()\n",
    "# 損失\n",
    "plt.plot(loss_train_lists,label = 'train')\n",
    "plt.plot(loss_val_lists, label ='val')\n",
    "plt.title('CNN')\n",
    "plt.ylabel('loss')\n",
    "plt.xlabel('epoch')\n",
    "plt.legend()\n",
    "plt.savefig('picture/loss_CNN.png')\n",
    "plt.show()"
   ]
  },
  {
   "cell_type": "markdown",
   "id": "cd636342-d3ad-424f-836b-d2fb21bce325",
   "metadata": {
    "tags": []
   },
   "source": [
    "# 結果を保存するためのdf"
   ]
  },
  {
   "cell_type": "code",
   "execution_count": 54,
   "id": "38b078f5-cac9-4ba4-bf95-d99ce15821a1",
   "metadata": {},
   "outputs": [
    {
     "data": {
      "text/html": [
       "<div>\n",
       "<style scoped>\n",
       "    .dataframe tbody tr th:only-of-type {\n",
       "        vertical-align: middle;\n",
       "    }\n",
       "\n",
       "    .dataframe tbody tr th {\n",
       "        vertical-align: top;\n",
       "    }\n",
       "\n",
       "    .dataframe thead th {\n",
       "        text-align: right;\n",
       "    }\n",
       "</style>\n",
       "<table border=\"1\" class=\"dataframe\">\n",
       "  <thead>\n",
       "    <tr style=\"text-align: right;\">\n",
       "      <th></th>\n",
       "      <th>date</th>\n",
       "      <th>name</th>\n",
       "      <th>archi</th>\n",
       "      <th>train_accuracy</th>\n",
       "      <th>val_accuracy</th>\n",
       "      <th>optimizer</th>\n",
       "      <th>n_epochs</th>\n",
       "      <th>batch_size</th>\n",
       "      <th>loss_fn</th>\n",
       "      <th>regularization</th>\n",
       "    </tr>\n",
       "  </thead>\n",
       "  <tbody>\n",
       "    <tr>\n",
       "      <th>0</th>\n",
       "      <td>2023/01/27/17:40</td>\n",
       "      <td>ore_no_zenketugou</td>\n",
       "      <td>NN</td>\n",
       "      <td>1.00000</td>\n",
       "      <td>0.2000</td>\n",
       "      <td>SDG</td>\n",
       "      <td>500</td>\n",
       "      <td>100</td>\n",
       "      <td>CrossEntropyLoss()</td>\n",
       "      <td>0</td>\n",
       "    </tr>\n",
       "    <tr>\n",
       "      <th>0</th>\n",
       "      <td>2023/01/28/11:48</td>\n",
       "      <td>ore_no_zenketugou_l2_0.001</td>\n",
       "      <td>NN</td>\n",
       "      <td>0.83852</td>\n",
       "      <td>0.2422</td>\n",
       "      <td>SDG</td>\n",
       "      <td>500</td>\n",
       "      <td>100</td>\n",
       "      <td>CrossEntropyLoss()</td>\n",
       "      <td>0</td>\n",
       "    </tr>\n",
       "    <tr>\n",
       "      <th>0</th>\n",
       "      <td>2023/01/28/12:21</td>\n",
       "      <td>ore_no_zenketugou_dropout_0.3</td>\n",
       "      <td>NN</td>\n",
       "      <td>0.01084</td>\n",
       "      <td>0.0102</td>\n",
       "      <td>SDG</td>\n",
       "      <td>300</td>\n",
       "      <td>100</td>\n",
       "      <td>CrossEntropyLoss()</td>\n",
       "      <td>0</td>\n",
       "    </tr>\n",
       "    <tr>\n",
       "      <th>0</th>\n",
       "      <td>2023/01/29/13:57</td>\n",
       "      <td>CNN</td>\n",
       "      <td>CNN</td>\n",
       "      <td>0.58932</td>\n",
       "      <td>0.2918</td>\n",
       "      <td>SDG</td>\n",
       "      <td>300</td>\n",
       "      <td>100</td>\n",
       "      <td>CrossEntropyLoss()</td>\n",
       "      <td>0</td>\n",
       "    </tr>\n",
       "  </tbody>\n",
       "</table>\n",
       "</div>"
      ],
      "text/plain": [
       "               date                           name archi  train_accuracy  \\\n",
       "0  2023/01/27/17:40              ore_no_zenketugou    NN         1.00000   \n",
       "0  2023/01/28/11:48     ore_no_zenketugou_l2_0.001    NN         0.83852   \n",
       "0  2023/01/28/12:21  ore_no_zenketugou_dropout_0.3    NN         0.01084   \n",
       "0  2023/01/29/13:57                            CNN   CNN         0.58932   \n",
       "\n",
       "   val_accuracy optimizer  n_epochs  batch_size             loss_fn  \\\n",
       "0        0.2000       SDG       500         100  CrossEntropyLoss()   \n",
       "0        0.2422       SDG       500         100  CrossEntropyLoss()   \n",
       "0        0.0102       SDG       300         100  CrossEntropyLoss()   \n",
       "0        0.2918       SDG       300         100  CrossEntropyLoss()   \n",
       "\n",
       "   regularization  \n",
       "0               0  \n",
       "0               0  \n",
       "0               0  \n",
       "0               0  "
      ]
     },
     "execution_count": 54,
     "metadata": {},
     "output_type": "execute_result"
    }
   ],
   "source": [
    "# データの読み込み\n",
    "results_df = pd.read_csv('results_df.csv',index_col=0)\n",
    "results_df"
   ]
  },
  {
   "cell_type": "code",
   "execution_count": 27,
   "id": "b497cfc5-75bb-453c-bd03-f8abf649c49a",
   "metadata": {},
   "outputs": [
    {
     "data": {
      "text/html": [
       "<div>\n",
       "<style scoped>\n",
       "    .dataframe tbody tr th:only-of-type {\n",
       "        vertical-align: middle;\n",
       "    }\n",
       "\n",
       "    .dataframe tbody tr th {\n",
       "        vertical-align: top;\n",
       "    }\n",
       "\n",
       "    .dataframe thead th {\n",
       "        text-align: right;\n",
       "    }\n",
       "</style>\n",
       "<table border=\"1\" class=\"dataframe\">\n",
       "  <thead>\n",
       "    <tr style=\"text-align: right;\">\n",
       "      <th></th>\n",
       "      <th>date</th>\n",
       "      <th>name</th>\n",
       "      <th>archi</th>\n",
       "      <th>train_accuracy</th>\n",
       "      <th>val_accuracy</th>\n",
       "      <th>optimizer</th>\n",
       "      <th>n_epochs</th>\n",
       "      <th>batch_size</th>\n",
       "      <th>loss_fn</th>\n",
       "      <th>regularization</th>\n",
       "    </tr>\n",
       "  </thead>\n",
       "  <tbody>\n",
       "    <tr>\n",
       "      <th>0</th>\n",
       "      <td>2023/01/29/13:57</td>\n",
       "      <td>CNN</td>\n",
       "      <td>CNN</td>\n",
       "      <td>0.58932</td>\n",
       "      <td>0.2918</td>\n",
       "      <td>SDG</td>\n",
       "      <td>300</td>\n",
       "      <td>100</td>\n",
       "      <td>CrossEntropyLoss()</td>\n",
       "      <td>0</td>\n",
       "    </tr>\n",
       "  </tbody>\n",
       "</table>\n",
       "</div>"
      ],
      "text/plain": [
       "               date name archi  train_accuracy  val_accuracy optimizer  \\\n",
       "0  2023/01/29/13:57  CNN   CNN         0.58932        0.2918       SDG   \n",
       "\n",
       "   n_epochs  batch_size             loss_fn  regularization  \n",
       "0       300         100  CrossEntropyLoss()               0  "
      ]
     },
     "execution_count": 27,
     "metadata": {},
     "output_type": "execute_result"
    }
   ],
   "source": [
    "# 追加したい結果をまとめたdfを作成\n",
    "col = ['date','name','archi','train_accuracy','val_accuracy','optimizer',\n",
    "       'n_epochs','batch_size','loss_fn','regularization']\n",
    "add_df = pd.DataFrame([[datetime.datetime.now().strftime('%Y/%m/%d/%H:%M'),\n",
    "                        'CNN', 'CNN', train_accuracies[-1],\n",
    "                        val_accuracies[-1],'SDG', n_epochs, 100,\n",
    "                        loss_fn, 0]],columns=col)\n",
    "add_df"
   ]
  },
  {
   "cell_type": "code",
   "execution_count": null,
   "id": "702f03d1-5571-4309-a529-8f4a7a0c824a",
   "metadata": {},
   "outputs": [
    {
     "data": {
      "text/html": [
       "<div>\n",
       "<style scoped>\n",
       "    .dataframe tbody tr th:only-of-type {\n",
       "        vertical-align: middle;\n",
       "    }\n",
       "\n",
       "    .dataframe tbody tr th {\n",
       "        vertical-align: top;\n",
       "    }\n",
       "\n",
       "    .dataframe thead th {\n",
       "        text-align: right;\n",
       "    }\n",
       "</style>\n",
       "<table border=\"1\" class=\"dataframe\">\n",
       "  <thead>\n",
       "    <tr style=\"text-align: right;\">\n",
       "      <th></th>\n",
       "      <th>date</th>\n",
       "      <th>name</th>\n",
       "      <th>archi</th>\n",
       "      <th>train_accuracy</th>\n",
       "      <th>val_accuracy</th>\n",
       "      <th>optimizer</th>\n",
       "      <th>n_epochs</th>\n",
       "      <th>batch_size</th>\n",
       "      <th>loss_fn</th>\n",
       "      <th>regularization</th>\n",
       "    </tr>\n",
       "  </thead>\n",
       "  <tbody>\n",
       "    <tr>\n",
       "      <th>0</th>\n",
       "      <td>2023/01/27/17:40</td>\n",
       "      <td>ore_no_zenketugou</td>\n",
       "      <td>NN</td>\n",
       "      <td>1.00000</td>\n",
       "      <td>0.2000</td>\n",
       "      <td>SDG</td>\n",
       "      <td>500</td>\n",
       "      <td>100</td>\n",
       "      <td>CrossEntropyLoss()</td>\n",
       "      <td>0</td>\n",
       "    </tr>\n",
       "    <tr>\n",
       "      <th>0</th>\n",
       "      <td>2023/01/28/11:48</td>\n",
       "      <td>ore_no_zenketugou_l2_0.001</td>\n",
       "      <td>NN</td>\n",
       "      <td>0.83852</td>\n",
       "      <td>0.2422</td>\n",
       "      <td>SDG</td>\n",
       "      <td>500</td>\n",
       "      <td>100</td>\n",
       "      <td>CrossEntropyLoss()</td>\n",
       "      <td>0</td>\n",
       "    </tr>\n",
       "    <tr>\n",
       "      <th>0</th>\n",
       "      <td>2023/01/28/12:16</td>\n",
       "      <td>CNN</td>\n",
       "      <td>CNN</td>\n",
       "      <td>0.99922</td>\n",
       "      <td>0.2054</td>\n",
       "      <td>SDG</td>\n",
       "      <td>500</td>\n",
       "      <td>100</td>\n",
       "      <td>CrossEntropyLoss()</td>\n",
       "      <td>0</td>\n",
       "    </tr>\n",
       "    <tr>\n",
       "      <th>0</th>\n",
       "      <td>2023/01/28/12:21</td>\n",
       "      <td>ore_no_zenketugou_dropout_0.3</td>\n",
       "      <td>NN</td>\n",
       "      <td>0.01084</td>\n",
       "      <td>0.0102</td>\n",
       "      <td>SDG</td>\n",
       "      <td>300</td>\n",
       "      <td>100</td>\n",
       "      <td>CrossEntropyLoss()</td>\n",
       "      <td>0</td>\n",
       "    </tr>\n",
       "    <tr>\n",
       "      <th>0</th>\n",
       "      <td>2023/01/29/13:57</td>\n",
       "      <td>CNN</td>\n",
       "      <td>CNN</td>\n",
       "      <td>0.58932</td>\n",
       "      <td>0.2918</td>\n",
       "      <td>SDG</td>\n",
       "      <td>300</td>\n",
       "      <td>100</td>\n",
       "      <td>CrossEntropyLoss()</td>\n",
       "      <td>0</td>\n",
       "    </tr>\n",
       "  </tbody>\n",
       "</table>\n",
       "</div>"
      ],
      "text/plain": [
       "               date                           name archi  train_accuracy  \\\n",
       "0  2023/01/27/17:40              ore_no_zenketugou    NN         1.00000   \n",
       "0  2023/01/28/11:48     ore_no_zenketugou_l2_0.001    NN         0.83852   \n",
       "0  2023/01/28/12:16                            CNN   CNN         0.99922   \n",
       "0  2023/01/28/12:21  ore_no_zenketugou_dropout_0.3    NN         0.01084   \n",
       "0  2023/01/29/13:57                            CNN   CNN         0.58932   \n",
       "\n",
       "   val_accuracy optimizer  n_epochs  batch_size             loss_fn  \\\n",
       "0        0.2000       SDG       500         100  CrossEntropyLoss()   \n",
       "0        0.2422       SDG       500         100  CrossEntropyLoss()   \n",
       "0        0.2054       SDG       500         100  CrossEntropyLoss()   \n",
       "0        0.0102       SDG       300         100  CrossEntropyLoss()   \n",
       "0        0.2918       SDG       300         100  CrossEntropyLoss()   \n",
       "\n",
       "   regularization  \n",
       "0               0  \n",
       "0               0  \n",
       "0               0  \n",
       "0               0  \n",
       "0               0  "
      ]
     },
     "execution_count": 28,
     "metadata": {},
     "output_type": "execute_result"
    }
   ],
   "source": [
    "# 結果を保存用dfに追加する\n",
    "results_df = pd.concat([results_df, add_df], axis=0)\n",
    "results_df"
   ]
  },
  {
   "cell_type": "code",
   "execution_count": 53,
   "id": "3c33f0a1-575d-40f9-974b-3f8de724ad87",
   "metadata": {},
   "outputs": [],
   "source": [
    "results_df.to_csv('final_results_df.csv') # 最終的に保存するためのdf\n",
    "results_df.to_csv('results_df.csv')"
   ]
  },
  {
   "cell_type": "markdown",
   "id": "9aa220e9-a9e2-450a-bc69-3935dbe7562c",
   "metadata": {},
   "source": [
    "# モデルの作成"
   ]
  },
  {
   "cell_type": "code",
   "execution_count": null,
   "id": "eb6549de-c6d5-48a7-8dcc-6c52e304bd2f",
   "metadata": {},
   "outputs": [],
   "source": [
    "# 過学習対策をしてみる\n",
    "# バッチノーマリゼーション\n",
    "# cifar100の成功例を探す\n",
    "# Resnet\n",
    "# 統計２０章まで"
   ]
  }
 ],
 "metadata": {
  "kernelspec": {
   "display_name": "Python 3 (ipykernel)",
   "language": "python",
   "name": "python3"
  },
  "language_info": {
   "codemirror_mode": {
    "name": "ipython",
    "version": 3
   },
   "file_extension": ".py",
   "mimetype": "text/x-python",
   "name": "python",
   "nbconvert_exporter": "python",
   "pygments_lexer": "ipython3",
   "version": "3.9.12"
  }
 },
 "nbformat": 4,
 "nbformat_minor": 5
}
