{
 "cells": [
  {
   "cell_type": "markdown",
   "id": "c6e0cb10-dfec-41fa-87a0-ff71577ccbaa",
   "metadata": {
    "jp-MarkdownHeadingCollapsed": true,
    "tags": []
   },
   "source": [
    "# データ記録"
   ]
  },
  {
   "cell_type": "code",
   "execution_count": 168,
   "id": "cbc3541c-8f3e-4a39-9dea-93c6f6629930",
   "metadata": {},
   "outputs": [],
   "source": [
    "import torch\n",
    "from torchvision import models\n",
    "from torchvision import datasets\n",
    "from torchvision import transforms\n",
    "import matplotlib.pyplot as plt\n",
    "import japanize_matplotlib\n",
    "import numpy as np\n",
    "import pandas as pd\n",
    "import torch.nn as nn\n",
    "import torch.optim as optim\n",
    "import datetime\n",
    "from torchvision.models import mobilenetv2\n",
    "import cv2\n",
    "# 自作モデルのインポート\n",
    "import models.ore_no_zenketugou_model as zenketu\n",
    "import models.train_loop as train_loop #訓練ループを格納\n",
    "import class_name # ラベルの呼び出し"
   ]
  },
  {
   "cell_type": "code",
   "execution_count": 169,
   "id": "2699a009-5bac-44f9-9be4-042fd05527bd",
   "metadata": {},
   "outputs": [
    {
     "data": {
      "text/html": [
       "<div>\n",
       "<style scoped>\n",
       "    .dataframe tbody tr th:only-of-type {\n",
       "        vertical-align: middle;\n",
       "    }\n",
       "\n",
       "    .dataframe tbody tr th {\n",
       "        vertical-align: top;\n",
       "    }\n",
       "\n",
       "    .dataframe thead th {\n",
       "        text-align: right;\n",
       "    }\n",
       "</style>\n",
       "<table border=\"1\" class=\"dataframe\">\n",
       "  <thead>\n",
       "    <tr style=\"text-align: right;\">\n",
       "      <th></th>\n",
       "      <th>id</th>\n",
       "      <th>architecture</th>\n",
       "      <th>karnel_size</th>\n",
       "      <th>batch_normalization</th>\n",
       "      <th>dropout</th>\n",
       "      <th>activation_fn</th>\n",
       "      <th>data_augmentation</th>\n",
       "      <th>optimizer</th>\n",
       "      <th>loss_fn</th>\n",
       "      <th>params_num(M)</th>\n",
       "      <th>train_acc</th>\n",
       "      <th>val_acc</th>\n",
       "      <th>n_epochs</th>\n",
       "      <th>done</th>\n",
       "    </tr>\n",
       "  </thead>\n",
       "  <tbody>\n",
       "    <tr>\n",
       "      <th>0</th>\n",
       "      <td>1</td>\n",
       "      <td>CNN</td>\n",
       "      <td>256</td>\n",
       "      <td>1</td>\n",
       "      <td>0.00</td>\n",
       "      <td>relu</td>\n",
       "      <td>拡大縮小、回転、反転、射影変換</td>\n",
       "      <td>SDG</td>\n",
       "      <td>CrossEntropyLoss</td>\n",
       "      <td>42.0</td>\n",
       "      <td>0.642100</td>\n",
       "      <td>0.441700</td>\n",
       "      <td>100</td>\n",
       "      <td>1.0</td>\n",
       "    </tr>\n",
       "    <tr>\n",
       "      <th>1</th>\n",
       "      <td>2</td>\n",
       "      <td>CNN</td>\n",
       "      <td>128</td>\n",
       "      <td>1</td>\n",
       "      <td>0.00</td>\n",
       "      <td>relu</td>\n",
       "      <td>拡大縮小、回転、反転、射影変換</td>\n",
       "      <td>SDG</td>\n",
       "      <td>CrossEntropyLoss</td>\n",
       "      <td>25.0</td>\n",
       "      <td>0.727953</td>\n",
       "      <td>0.437100</td>\n",
       "      <td>100</td>\n",
       "      <td>1.0</td>\n",
       "    </tr>\n",
       "    <tr>\n",
       "      <th>2</th>\n",
       "      <td>3</td>\n",
       "      <td>CNN</td>\n",
       "      <td>256</td>\n",
       "      <td>0</td>\n",
       "      <td>0.00</td>\n",
       "      <td>relu</td>\n",
       "      <td>拡大縮小、回転、反転、射影変換</td>\n",
       "      <td>SDG</td>\n",
       "      <td>CrossEntropyLoss</td>\n",
       "      <td>42.0</td>\n",
       "      <td>0.849992</td>\n",
       "      <td>0.370700</td>\n",
       "      <td>100</td>\n",
       "      <td>1.0</td>\n",
       "    </tr>\n",
       "    <tr>\n",
       "      <th>3</th>\n",
       "      <td>4</td>\n",
       "      <td>CNN</td>\n",
       "      <td>256</td>\n",
       "      <td>1</td>\n",
       "      <td>0.05</td>\n",
       "      <td>relu</td>\n",
       "      <td>拡大縮小、回転、反転、射影変換</td>\n",
       "      <td>SDG</td>\n",
       "      <td>CrossEntropyLoss</td>\n",
       "      <td>42.0</td>\n",
       "      <td>0.619680</td>\n",
       "      <td>0.438200</td>\n",
       "      <td>100</td>\n",
       "      <td>1.0</td>\n",
       "    </tr>\n",
       "    <tr>\n",
       "      <th>4</th>\n",
       "      <td>5</td>\n",
       "      <td>CNN</td>\n",
       "      <td>256</td>\n",
       "      <td>1</td>\n",
       "      <td>0.00</td>\n",
       "      <td>sigmoid</td>\n",
       "      <td>拡大縮小、回転、反転、射影変換</td>\n",
       "      <td>SDG</td>\n",
       "      <td>CrossEntropyLoss</td>\n",
       "      <td>42.0</td>\n",
       "      <td>0.022300</td>\n",
       "      <td>0.022800</td>\n",
       "      <td>100</td>\n",
       "      <td>1.0</td>\n",
       "    </tr>\n",
       "    <tr>\n",
       "      <th>5</th>\n",
       "      <td>6</td>\n",
       "      <td>全結合</td>\n",
       "      <td>0</td>\n",
       "      <td>1</td>\n",
       "      <td>0.01</td>\n",
       "      <td>relu</td>\n",
       "      <td>拡大縮小、回転、反転、射影変換</td>\n",
       "      <td>SDG</td>\n",
       "      <td>CrossEntropyLoss</td>\n",
       "      <td>38.0</td>\n",
       "      <td>0.469100</td>\n",
       "      <td>0.333700</td>\n",
       "      <td>100</td>\n",
       "      <td>1.0</td>\n",
       "    </tr>\n",
       "    <tr>\n",
       "      <th>6</th>\n",
       "      <td>7</td>\n",
       "      <td>CNN</td>\n",
       "      <td>256</td>\n",
       "      <td>1</td>\n",
       "      <td>0.00</td>\n",
       "      <td>relu</td>\n",
       "      <td>拡大縮小、回転、反転</td>\n",
       "      <td>SDG</td>\n",
       "      <td>CrossEntropyLoss</td>\n",
       "      <td>42.0</td>\n",
       "      <td>0.881260</td>\n",
       "      <td>0.435900</td>\n",
       "      <td>100</td>\n",
       "      <td>1.0</td>\n",
       "    </tr>\n",
       "    <tr>\n",
       "      <th>7</th>\n",
       "      <td>8</td>\n",
       "      <td>CNN</td>\n",
       "      <td>256</td>\n",
       "      <td>1</td>\n",
       "      <td>0.00</td>\n",
       "      <td>relu</td>\n",
       "      <td>なし</td>\n",
       "      <td>SDG</td>\n",
       "      <td>CrossEntropyLoss</td>\n",
       "      <td>42.0</td>\n",
       "      <td>0.881260</td>\n",
       "      <td>0.435900</td>\n",
       "      <td>100</td>\n",
       "      <td>1.0</td>\n",
       "    </tr>\n",
       "    <tr>\n",
       "      <th>8</th>\n",
       "      <td>9</td>\n",
       "      <td>CNN</td>\n",
       "      <td>256</td>\n",
       "      <td>1</td>\n",
       "      <td>0.00</td>\n",
       "      <td>relu</td>\n",
       "      <td>拡大縮小、回転、反転、射影変換</td>\n",
       "      <td>adam</td>\n",
       "      <td>CrossEntropyLoss</td>\n",
       "      <td>42.0</td>\n",
       "      <td>0.010003</td>\n",
       "      <td>0.010016</td>\n",
       "      <td>100</td>\n",
       "      <td>1.0</td>\n",
       "    </tr>\n",
       "    <tr>\n",
       "      <th>9</th>\n",
       "      <td>10</td>\n",
       "      <td>resnet3</td>\n",
       "      <td>256</td>\n",
       "      <td>1</td>\n",
       "      <td>0.00</td>\n",
       "      <td>relu</td>\n",
       "      <td>拡大縮小、回転、反転、射影変換</td>\n",
       "      <td>momentumSGD</td>\n",
       "      <td>CrossEntropyLoss</td>\n",
       "      <td>10.0</td>\n",
       "      <td>0.665293</td>\n",
       "      <td>0.347700</td>\n",
       "      <td>50</td>\n",
       "      <td>1.0</td>\n",
       "    </tr>\n",
       "    <tr>\n",
       "      <th>10</th>\n",
       "      <td>11</td>\n",
       "      <td>resnet34_転移学習</td>\n",
       "      <td>256</td>\n",
       "      <td>1</td>\n",
       "      <td>0.00</td>\n",
       "      <td>relu</td>\n",
       "      <td>拡大縮小、回転、反転、射影変換</td>\n",
       "      <td>momentumSGD</td>\n",
       "      <td>CrossEntropyLoss</td>\n",
       "      <td>21.0</td>\n",
       "      <td>0.684160</td>\n",
       "      <td>0.595500</td>\n",
       "      <td>10</td>\n",
       "      <td>1.0</td>\n",
       "    </tr>\n",
       "  </tbody>\n",
       "</table>\n",
       "</div>"
      ],
      "text/plain": [
       "    id   architecture  karnel_size  batch_normalization  dropout  \\\n",
       "0    1            CNN          256                    1     0.00   \n",
       "1    2            CNN          128                    1     0.00   \n",
       "2    3            CNN          256                    0     0.00   \n",
       "3    4            CNN          256                    1     0.05   \n",
       "4    5            CNN          256                    1     0.00   \n",
       "5    6            全結合            0                    1     0.01   \n",
       "6    7            CNN          256                    1     0.00   \n",
       "7    8            CNN          256                    1     0.00   \n",
       "8    9            CNN          256                    1     0.00   \n",
       "9   10        resnet3          256                    1     0.00   \n",
       "10  11  resnet34_転移学習          256                    1     0.00   \n",
       "\n",
       "   activation_fn data_augmentation    optimizer           loss_fn  \\\n",
       "0           relu   拡大縮小、回転、反転、射影変換          SDG  CrossEntropyLoss   \n",
       "1           relu   拡大縮小、回転、反転、射影変換          SDG  CrossEntropyLoss   \n",
       "2           relu   拡大縮小、回転、反転、射影変換          SDG  CrossEntropyLoss   \n",
       "3           relu   拡大縮小、回転、反転、射影変換          SDG  CrossEntropyLoss   \n",
       "4        sigmoid   拡大縮小、回転、反転、射影変換          SDG  CrossEntropyLoss   \n",
       "5           relu   拡大縮小、回転、反転、射影変換          SDG  CrossEntropyLoss   \n",
       "6           relu        拡大縮小、回転、反転          SDG  CrossEntropyLoss   \n",
       "7           relu                なし          SDG  CrossEntropyLoss   \n",
       "8           relu   拡大縮小、回転、反転、射影変換         adam  CrossEntropyLoss   \n",
       "9           relu   拡大縮小、回転、反転、射影変換  momentumSGD  CrossEntropyLoss   \n",
       "10          relu   拡大縮小、回転、反転、射影変換  momentumSGD  CrossEntropyLoss   \n",
       "\n",
       "    params_num(M)  train_acc   val_acc  n_epochs  done  \n",
       "0            42.0   0.642100  0.441700       100   1.0  \n",
       "1            25.0   0.727953  0.437100       100   1.0  \n",
       "2            42.0   0.849992  0.370700       100   1.0  \n",
       "3            42.0   0.619680  0.438200       100   1.0  \n",
       "4            42.0   0.022300  0.022800       100   1.0  \n",
       "5            38.0   0.469100  0.333700       100   1.0  \n",
       "6            42.0   0.881260  0.435900       100   1.0  \n",
       "7            42.0   0.881260  0.435900       100   1.0  \n",
       "8            42.0   0.010003  0.010016       100   1.0  \n",
       "9            10.0   0.665293  0.347700        50   1.0  \n",
       "10           21.0   0.684160  0.595500        10   1.0  "
      ]
     },
     "execution_count": 169,
     "metadata": {},
     "output_type": "execute_result"
    }
   ],
   "source": [
    "df = pd.read_csv('record.csv', index_col=0)\n",
    "df"
   ]
  },
  {
   "cell_type": "code",
   "execution_count": 3,
   "id": "611a8b3c-a327-45fd-8511-064857951f9b",
   "metadata": {},
   "outputs": [],
   "source": [
    "col = ['id', 'architecture', 'karnel_size', 'batch_normalization',\n",
    "      'dropout','activation_fn', 'data_augmentation', 'optimizer',\n",
    "       'loss_fn', 'params_num','train_acc', 'val_acc', 'n_epochs']\n",
    "# df = pd.DataFrame([], columns=col)\n",
    "\n",
    "# df2 = pd.DataFrame([[11,'resnet34_転移学習',256,1,\n",
    "#                     0,'relu','拡大縮小、回転、反転、射影変換','adam',\n",
    "#                     'CrossEntropyLoss',10,0.5,0.5,100]],columns=col)\n",
    "# df2"
   ]
  },
  {
   "cell_type": "code",
   "execution_count": 6,
   "id": "af3629cf-7937-4c52-97e8-b8411c026214",
   "metadata": {},
   "outputs": [],
   "source": [
    "# df = pd.concat([df,df2],axis=0)\n",
    "# df"
   ]
  },
  {
   "cell_type": "code",
   "execution_count": 166,
   "id": "3fff91f8-1c23-44fa-ba35-e5354b4d8cd4",
   "metadata": {},
   "outputs": [],
   "source": [
    "# df.to_csv('record.csv')"
   ]
  },
  {
   "cell_type": "markdown",
   "id": "136a3d42-993c-4f75-b85a-1e402e85c1d4",
   "metadata": {
    "tags": []
   },
   "source": [
    "# データ・モデル準備"
   ]
  },
  {
   "cell_type": "code",
   "execution_count": 170,
   "id": "e6d8249d-4fe6-4d89-bd7d-d4edccb5d906",
   "metadata": {},
   "outputs": [
    {
     "data": {
      "text/plain": [
       "Linear(in_features=512, out_features=100, bias=True)"
      ]
     },
     "execution_count": 170,
     "metadata": {},
     "output_type": "execute_result"
    }
   ],
   "source": [
    "model = models.resnet34()\n",
    "\n",
    "model.fc = nn.Linear(512,100)\n",
    "\n",
    "model.fc"
   ]
  },
  {
   "cell_type": "code",
   "execution_count": 171,
   "id": "946bf2e9-fb26-4de6-ad55-2d83a4370c2a",
   "metadata": {},
   "outputs": [
    {
     "data": {
      "text/plain": [
       "21335972"
      ]
     },
     "execution_count": 171,
     "metadata": {},
     "output_type": "execute_result"
    }
   ],
   "source": [
    "params_num = [i.numel() for i in model.parameters()]\n",
    "sum(params_num)"
   ]
  },
  {
   "cell_type": "code",
   "execution_count": null,
   "id": "1df33913-2220-45cc-9b21-2eaeb2100a38",
   "metadata": {},
   "outputs": [
    {
     "name": "stdout",
     "output_type": "stream",
     "text": [
      "Files already downloaded and verified\n",
      "Files already downloaded and verified\n"
     ]
    }
   ],
   "source": [
    "# cifar100を利用する\n",
    "data_path = './cifar-100'\n",
    "# 訓練データと検証データのダウンロード\n",
    "tensor_cifar100_train = datasets.CIFAR100(data_path,\n",
    "                                          train=True,\n",
    "                                          download=True,\n",
    "                                          transform=transforms.ToTensor())\n",
    "tensor_cifar100_val = datasets.CIFAR100(data_path,\n",
    "                                        train=False,\n",
    "                                        download=True,\n",
    "                                        transform=transforms.ToTensor())\n",
    "\n",
    "# ラベルを取得\n",
    "class_names = class_name.class_names()\n",
    "super_class_names = class_name.super_class_names()\n",
    "\n",
    "# テンソルを束ねる\n",
    "imgs = torch.stack([img_t for img_t, _ in tensor_cifar100_train], dim = 3)\n",
    "\n",
    "# RGB各々の平均、標準偏差を計算する\n",
    "means = imgs.view(3,-1).mean(dim=1)\n",
    "stds = imgs.view(3,-1).std(dim=1)\n",
    "\n",
    "# 各画像データを標準化する\n",
    "transformed_tensor_cifar100_train = datasets.CIFAR100(data_path,\n",
    "                                                      train=True,\n",
    "                                                      download=False,\n",
    "                                                      transform=transforms.Compose([\n",
    "                                                          transforms.ToTensor(),\n",
    "                                                          transforms.Normalize(means,stds),\n",
    "                                                          transforms.RandomResizedCrop(size=32, scale=(0.8,1.0)), #データの拡大縮小及びアスペクト比の変更\n",
    "                                                          transforms.RandomHorizontalFlip(p=0.3), # 画像をp％の確率で左右反転させる\n",
    "                                                          transforms.RandomVerticalFlip(p=0.3), # 画像をp％の確率で上下反転させる\n",
    "                                                          transforms.RandomRotation(degrees=(-89,89)), #-89~89度の間で回転させる\n",
    "                                                          # transforms.RandomPerspective(distortion_scale=0.2,p=0.3) #画像を確率pで射影変換する\n",
    "                                                      ]))\n",
    "transformed_tensor_cifar100_val = datasets.CIFAR100(data_path,\n",
    "                                                   train=False,\n",
    "                                                   download=False,\n",
    "                                                   transform = transforms.Compose([\n",
    "                                                       transforms.ToTensor(),\n",
    "                                                       transforms.Normalize(means,stds)\n",
    "                                                   ]))"
   ]
  },
  {
   "cell_type": "code",
   "execution_count": null,
   "id": "2eb18f7d-83ed-40cc-b696-c37cdcb6e9f3",
   "metadata": {},
   "outputs": [],
   "source": [
    "# パラメータの設定\n",
    "# データローダーに入れることで、簡単にデータを取り扱う\n",
    "batch_size = 100\n",
    "train_loader = torch.utils.data.DataLoader(\n",
    "    transformed_tensor_cifar100_train,\n",
    "    batch_size=batch_size,\n",
    "    shuffle=False)\n",
    "val_loader = torch.utils.data.DataLoader(\n",
    "    transformed_tensor_cifar100_val,\n",
    "    batch_size=batch_size,\n",
    "    shuffle=False)\n",
    "# 学習率の設定\n",
    "learning_rate = 1e-2\n",
    "# パラメータの修正に確率的勾配降下方を利用\n",
    "optimizer = optim.SGD(model.parameters(), lr = learning_rate)\n",
    "# 損失関数を定義\n",
    "loss_fn = nn.CrossEntropyLoss()\n",
    "# エポック数を設定\n",
    "n_epochs = 1"
   ]
  },
  {
   "cell_type": "code",
   "execution_count": null,
   "id": "04c3a60f-e797-47fc-b21e-6e608fba9e25",
   "metadata": {},
   "outputs": [],
   "source": [
    "# モデルの呼び出し\n",
    "d_path = './para_models/'\n",
    "loaded_model = zenketu.CNNBatchNorm_ReLU(256)\n",
    "loaded_model.load_state_dict(torch.load(d_path + 'CNN_256_BatchNorm_relu_dataAugNone.pt'))"
   ]
  },
  {
   "cell_type": "code",
   "execution_count": 15,
   "id": "d33f274b-9efe-40a6-98b1-cfcc08ad7397",
   "metadata": {},
   "outputs": [
    {
     "data": {
      "text/plain": [
       "CNNBatchNorm_ReLU(\n",
       "  (conv1): Conv2d(3, 256, kernel_size=(3, 3), stride=(1, 1), padding=(1, 1))\n",
       "  (conv1_batchnorm): BatchNorm2d(256, eps=1e-05, momentum=0.1, affine=True, track_running_stats=True)\n",
       "  (conv2): Conv2d(256, 128, kernel_size=(3, 3), stride=(1, 1), padding=(1, 1))\n",
       "  (conv2_batchnorm): BatchNorm2d(128, eps=1e-05, momentum=0.1, affine=True, track_running_stats=True)\n",
       "  (fc1): Linear(in_features=8192, out_features=4096, bias=True)\n",
       "  (fc2): Linear(in_features=4096, out_features=2048, bias=True)\n",
       "  (fc3): Linear(in_features=2048, out_features=100, bias=True)\n",
       ")"
      ]
     },
     "execution_count": 15,
     "metadata": {},
     "output_type": "execute_result"
    }
   ],
   "source": [
    "loaded_model\n",
    "loaded_model.eval()"
   ]
  },
  {
   "cell_type": "code",
   "execution_count": 16,
   "id": "77b3913e-c5de-4e19-9d83-73ae7c5e9daf",
   "metadata": {},
   "outputs": [
    {
     "data": {
      "text/plain": [
       "BatchNorm2d(128, eps=1e-05, momentum=0.1, affine=True, track_running_stats=True)"
      ]
     },
     "execution_count": 16,
     "metadata": {},
     "output_type": "execute_result"
    }
   ],
   "source": [
    "loaded_model.conv2_batchnorm"
   ]
  },
  {
   "cell_type": "code",
   "execution_count": 17,
   "id": "92fb1729-fc0c-4b1f-b433-c762f7bb2f58",
   "metadata": {},
   "outputs": [],
   "source": [
    "for i in val_loader:\n",
    "    img,labels = i"
   ]
  },
  {
   "cell_type": "code",
   "execution_count": 18,
   "id": "a83063fe-d6c2-4546-97fc-a72345cb5009",
   "metadata": {
    "tags": []
   },
   "outputs": [
    {
     "name": "stderr",
     "output_type": "stream",
     "text": [
      "[W NNPACK.cpp:53] Could not initialize NNPACK! Reason: Unsupported hardware.\n",
      "Clipping input data to the valid range for imshow with RGB data ([0..1] for floats or [0..255] for integers).\n"
     ]
    },
    {
     "name": "stdout",
     "output_type": "stream",
     "text": [
      "oak\n",
      "pine\n"
     ]
    },
    {
     "data": {
      "image/png": "[encoded data removed]",
      "text/plain": [
       "<Figure size 640x480 with 1 Axes>"
      ]
     },
     "metadata": {},
     "output_type": "display_data"
    },
    {
     "name": "stderr",
     "output_type": "stream",
     "text": [
      "Clipping input data to the valid range for imshow with RGB data ([0..1] for floats or [0..255] for integers).\n"
     ]
    },
    {
     "name": "stdout",
     "output_type": "stream",
     "text": [
      "caterpillar\n",
      "worm\n"
     ]
    },
    {
     "data": {
      "image/png": "[encoded data removed]",
      "text/plain": [
       "<Figure size 640x480 with 1 Axes>"
      ]
     },
     "metadata": {},
     "output_type": "display_data"
    },
    {
     "name": "stderr",
     "output_type": "stream",
     "text": [
      "Clipping input data to the valid range for imshow with RGB data ([0..1] for floats or [0..255] for integers).\n"
     ]
    },
    {
     "name": "stdout",
     "output_type": "stream",
     "text": [
      "crocodile\n",
      "otter\n"
     ]
    },
    {
     "data": {
      "image/png": "[encoded data removed]",
      "text/plain": [
       "<Figure size 640x480 with 1 Axes>"
      ]
     },
     "metadata": {},
     "output_type": "display_data"
    },
    {
     "name": "stderr",
     "output_type": "stream",
     "text": [
      "Clipping input data to the valid range for imshow with RGB data ([0..1] for floats or [0..255] for integers).\n"
     ]
    },
    {
     "name": "stdout",
     "output_type": "stream",
     "text": [
      "tank\n",
      "tank\n"
     ]
    },
    {
     "data": {
      "image/png": "[encoded data removed]",
      "text/plain": [
       "<Figure size 640x480 with 1 Axes>"
      ]
     },
     "metadata": {},
     "output_type": "display_data"
    },
    {
     "name": "stdout",
     "output_type": "stream",
     "text": [
      "apples\n",
      "apples\n"
     ]
    },
    {
     "name": "stderr",
     "output_type": "stream",
     "text": [
      "Clipping input data to the valid range for imshow with RGB data ([0..1] for floats or [0..255] for integers).\n"
     ]
    },
    {
     "data": {
      "image/png": "[encoded data removed]",
      "text/plain": [
       "<Figure size 640x480 with 1 Axes>"
      ]
     },
     "metadata": {},
     "output_type": "display_data"
    },
    {
     "name": "stderr",
     "output_type": "stream",
     "text": [
      "Clipping input data to the valid range for imshow with RGB data ([0..1] for floats or [0..255] for integers).\n"
     ]
    },
    {
     "name": "stdout",
     "output_type": "stream",
     "text": [
      "cloud\n",
      "cloud\n"
     ]
    },
    {
     "data": {
      "image/png": "[encoded data removed]",
      "text/plain": [
       "<Figure size 640x480 with 1 Axes>"
      ]
     },
     "metadata": {},
     "output_type": "display_data"
    },
    {
     "name": "stderr",
     "output_type": "stream",
     "text": [
      "Clipping input data to the valid range for imshow with RGB data ([0..1] for floats or [0..255] for integers).\n"
     ]
    },
    {
     "name": "stdout",
     "output_type": "stream",
     "text": [
      "possum\n",
      "possum\n"
     ]
    },
    {
     "data": {
      "image/png": "[encoded data removed]",
      "text/plain": [
       "<Figure size 640x480 with 1 Axes>"
      ]
     },
     "metadata": {},
     "output_type": "display_data"
    },
    {
     "name": "stderr",
     "output_type": "stream",
     "text": [
      "Clipping input data to the valid range for imshow with RGB data ([0..1] for floats or [0..255] for integers).\n"
     ]
    },
    {
     "name": "stdout",
     "output_type": "stream",
     "text": [
      "lizard\n",
      "sunflowers\n"
     ]
    },
    {
     "data": {
      "image/png": "[encoded data removed]",
      "text/plain": [
       "<Figure size 640x480 with 1 Axes>"
      ]
     },
     "metadata": {},
     "output_type": "display_data"
    },
    {
     "name": "stderr",
     "output_type": "stream",
     "text": [
      "Clipping input data to the valid range for imshow with RGB data ([0..1] for floats or [0..255] for integers).\n"
     ]
    },
    {
     "name": "stdout",
     "output_type": "stream",
     "text": [
      "poppies\n",
      "poppies\n"
     ]
    },
    {
     "data": {
      "image/png": "[encoded data removed]",
      "text/plain": [
       "<Figure size 640x480 with 1 Axes>"
      ]
     },
     "metadata": {},
     "output_type": "display_data"
    },
    {
     "name": "stderr",
     "output_type": "stream",
     "text": [
      "Clipping input data to the valid range for imshow with RGB data ([0..1] for floats or [0..255] for integers).\n"
     ]
    },
    {
     "name": "stdout",
     "output_type": "stream",
     "text": [
      "porcupine\n",
      "elephant\n"
     ]
    },
    {
     "data": {
      "image/png": "[encoded data removed]",
      "text/plain": [
       "<Figure size 640x480 with 1 Axes>"
      ]
     },
     "metadata": {},
     "output_type": "display_data"
    }
   ],
   "source": [
    "for i in range(10):\n",
    "    num = i\n",
    "    print(class_names[torch.argmax(loaded_model(img[num].unsqueeze(0))).item()])\n",
    "    print(class_names[labels[num].item()])\n",
    "    plt.imshow(img[num].permute(1,2,0))\n",
    "    plt.show()"
   ]
  },
  {
   "cell_type": "markdown",
   "id": "caae4b3e-069d-4957-be69-3d15ae615f9b",
   "metadata": {
    "tags": []
   },
   "source": [
    "# Grad_CAM"
   ]
  },
  {
   "cell_type": "code",
   "execution_count": 19,
   "id": "2bfcbea2-b60e-45c5-adf7-5b22e987c55d",
   "metadata": {},
   "outputs": [],
   "source": [
    "class GradCAM:\n",
    "    def __init__(self, model, feature_layer):\n",
    "        self.model = model\n",
    "        self.feature_layer = feature_layer\n",
    "        self.model.eval()\n",
    "        self.feature_grad = None\n",
    "        self.feature_map = None\n",
    "        self.hooks = []\n",
    "\n",
    "        # 最終層逆伝播時の勾配を記録する\n",
    "        def save_feature_grad(module, in_grad, out_grad):\n",
    "            self.feature_grad = out_grad[0]\n",
    "        self.hooks.append(self.feature_layer.register_backward_hook(save_feature_grad))\n",
    "\n",
    "        # 最終層の出力 Feature Map を記録する\n",
    "        def save_feature_map(module, inp, outp):\n",
    "            self.feature_map = outp[0]\n",
    "        self.hooks.append(self.feature_layer.register_forward_hook(save_feature_map))\n",
    "\n",
    "    def forward(self, x):\n",
    "        return self.model(x)\n",
    "\n",
    "    def backward_on_target(self, output, target):\n",
    "        self.model.zero_grad()\n",
    "        one_hot_output = torch.zeros([1, output.size()[-1]])\n",
    "        one_hot_output[0][target] = 1\n",
    "        output.backward(gradient=one_hot_output, retain_graph=True)\n",
    "\n",
    "    def clear_hook(self):\n",
    "        for hook in self.hooks:\n",
    "            hook.remove()"
   ]
  },
  {
   "cell_type": "code",
   "execution_count": 147,
   "id": "08dfb93d-246e-4993-aa58-6961992eee86",
   "metadata": {},
   "outputs": [
    {
     "name": "stderr",
     "output_type": "stream",
     "text": [
      "Clipping input data to the valid range for imshow with RGB data ([0..1] for floats or [0..255] for integers).\n"
     ]
    },
    {
     "data": {
      "image/png": "[encoded data removed]",
      "text/plain": [
       "<Figure size 2000x1000 with 2 Axes>"
      ]
     },
     "metadata": {},
     "output_type": "display_data"
    }
   ],
   "source": [
    "grad_cam = GradCAM(model = loaded_model, feature_layer=loaded_model.conv2_batchnorm)\n",
    "\n",
    "num = 3\n",
    "img_n = img[num].unsqueeze(0)\n",
    "model_output = grad_cam.forward(img_n)\n",
    "target = model_output.argmax(1).item()\n",
    "\n",
    "grad_cam.backward_on_target(model_output, target)\n",
    "\n",
    "# Get feature gradient\n",
    "feature_grad = grad_cam.feature_grad.data.numpy()[0]\n",
    "# Get weights from gradient\n",
    "weights = np.mean(feature_grad, axis=(1, 2))  # Take averages for each gradient\n",
    "# Get features outputs\n",
    "feature_map = grad_cam.feature_map.data.numpy()\n",
    "grad_cam.clear_hook()\n",
    "VISUALIZE_SIZE = (32, 32)\n",
    "\n",
    "# Get cam\n",
    "cam = np.sum((weights * feature_map.T), axis=2).T\n",
    "cam = np.maximum(cam, 0)  # apply ReLU to cam\n",
    "\n",
    "cam = (cam - np.min(cam)) / (np.max(cam) - np.min(cam))  # Normalize between 0-1\n",
    "\n",
    "\n",
    "cam = cv2.resize(cam, VISUALIZE_SIZE)\n",
    "cam = (cam - np.min(cam)) / (np.max(cam) - np.min(cam))  # Normalize between 0-1\n",
    "cam = np.uint8(cam * 255)  # Scale between 0-255 to visualize\n",
    "\n",
    "img_n = img_n.permute(2,3,1,0).squeeze(3).numpy()\n",
    "\n",
    "activation_heatmap = np.expand_dims(cam, axis=0).transpose(1,2,0)\n",
    "# org_img = np.asarray(img_n.resize(VISUALIZE_SIZE))\n",
    "img_with_heatmap = np.multiply(np.float32(activation_heatmap), np.float32(img_n))\n",
    "img_with_heatmap = img_with_heatmap / np.max(img_with_heatmap)\n",
    "org_img = cv2.resize(img_n, (32,32))\n",
    "\n",
    "plt.figure(figsize=(20,10))\n",
    "plt.subplot(1,2,1)\n",
    "plt.imshow(org_img)\n",
    "plt.subplot(1,2,2)\n",
    "plt.imshow(cv2.resize(np.uint8(255 * img_with_heatmap), (32,32)))\n",
    "plt.show()"
   ]
  },
  {
   "cell_type": "code",
   "execution_count": null,
   "id": "56d0ff5d-0889-42cd-9801-82cba27e6aa8",
   "metadata": {},
   "outputs": [],
   "source": []
  }
 ],
 "metadata": {
  "kernelspec": {
   "display_name": "Python 3 (ipykernel)",
   "language": "python",
   "name": "python3"
  },
  "language_info": {
   "codemirror_mode": {
    "name": "ipython",
    "version": 3
   },
   "file_extension": ".py",
   "mimetype": "text/x-python",
   "name": "python",
   "nbconvert_exporter": "python",
   "pygments_lexer": "ipython3",
   "version": "3.9.12"
  }
 },
 "nbformat": 4,
 "nbformat_minor": 5
}
