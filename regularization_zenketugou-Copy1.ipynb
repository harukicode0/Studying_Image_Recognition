{
 "cells": [
  {
   "cell_type": "markdown",
   "id": "0bc7f0b4-0c96-4ba2-a60a-84e127d20afb",
   "metadata": {},
   "source": [
    "# データの準備"
   ]
  },
  {
   "cell_type": "code",
   "execution_count": 1,
   "id": "47bb101b-256c-4487-9179-d7d67c652c67",
   "metadata": {},
   "outputs": [],
   "source": [
    "import torch\n",
    "from torchvision import datasets\n",
    "from torchvision import transforms\n",
    "import matplotlib.pyplot as plt\n",
    "import japanize_matplotlib\n",
    "import numpy as np\n",
    "import pandas as pd\n",
    "import torch.nn as nn\n",
    "import torch.optim as optim\n",
    "import datetime\n",
    "# 自作モデルのインポート\n",
    "import models.ore_no_zenketugou_model as zenketu"
   ]
  },
  {
   "cell_type": "code",
   "execution_count": 2,
   "id": "511b8735-8929-48b6-9b1b-2a8e08a43d90",
   "metadata": {},
   "outputs": [
    {
     "name": "stdout",
     "output_type": "stream",
     "text": [
      "Files already downloaded and verified\n",
      "Files already downloaded and verified\n"
     ]
    }
   ],
   "source": [
    "# cifar100を利用する\n",
    "data_path = './cifar-100'\n",
    "# 訓練データと検証データのダウンロード\n",
    "tensor_cifar100_train = datasets.CIFAR100(data_path,\n",
    "                                          train=True,\n",
    "                                          download=True,\n",
    "                                          transform=transforms.ToTensor())\n",
    "tensor_cifar100_val = datasets.CIFAR100(data_path,\n",
    "                                        train=False,\n",
    "                                        download=True,\n",
    "                                        transform=transforms.ToTensor())"
   ]
  },
  {
   "cell_type": "code",
   "execution_count": 3,
   "id": "cc97fc77-a25b-414e-aa33-87b416c53e0a",
   "metadata": {
    "tags": []
   },
   "outputs": [],
   "source": [
    "# cifar100の上位クラスのラベル\n",
    "super_class_names = [\n",
    "  'aquatic mammals',  # 0：水生哺乳類\n",
    "  'fish',  # 1：魚\n",
    "  'flowers',  # ：花\n",
    "  'food containers',  # 3：食品容器\n",
    "  'fruit and vegetables',  # 4：果物と野菜\n",
    "  'household electrical devices',  # 5：家電\n",
    "  'household furniture',  # 6：家具\n",
    "  'insects',  # 7：昆虫\n",
    "  'large carnivores',  # 8：大型の肉食動物\n",
    "  'large man-made outdoor things',  # 9：大型の建造物\n",
    "  'large natural outdoor scenes',  # 10：大自然の風景\n",
    "  'large omnivores and herbivores',  # 11：大型の雑食動物と草食動物\n",
    "  'medium-sized mammals',  # 12：中型の哺乳類\n",
    "  'non-insect invertebrates',  # 13：昆虫ではない無脊椎動物\n",
    "  'people',  # 14：人\n",
    "  'reptiles',  # 15：爬虫類\n",
    "  'small mammals',  # 16：小型の哺乳類\n",
    "  'trees',  # 17：木\n",
    "  'vehicles 1',  # 18：車両1\n",
    "  'vehicles 2',  # 19：車両2\n",
    "]"
   ]
  },
  {
   "cell_type": "code",
   "execution_count": 4,
   "id": "c688ca0b-4f3d-43b9-8bee-242e271b49ae",
   "metadata": {
    "tags": []
   },
   "outputs": [],
   "source": [
    "# cifar100の各ラベル\n",
    "class_names = [\n",
    "  'apples',  # 0：りんご\n",
    "  'aquarium fish',  # 1：観賞魚\n",
    "  'baby',  # 2：赤ちゃん\n",
    "  'bear',  # 3：クマ\n",
    "  'beaver',  # 4：ビーバー\n",
    "  'bed',  # 5：ベッド\n",
    "  'bee',  # 6：蜂\n",
    "  'beetle',  # 7：カブトムシ\n",
    "  'bicycle',  # 8：自転車\n",
    "  'bottles',  # 9：ボトル\n",
    "  'bowls',  # 10：ボウル\n",
    "  'boy',  # 11：少年\n",
    "  'bridge',  # 12：橋\n",
    "  'bus',  # 13：バス\n",
    "  'butterfly',  # 14：蝶\n",
    "  'camel',  # 15：ラクダ\n",
    "  'cans',  # 16：缶\n",
    "  'castle',  # 17：城\n",
    "  'caterpillar',  # 18：毛虫\n",
    "  'cattle',  # 19：牛\n",
    "  'chair',  # 20：椅子\n",
    "  'chimpanzee',  # 21：チンパンジー\n",
    "  'clock',  # 22：時計\n",
    "  'cloud',  # 23：雲\n",
    "  'cockroach',  # 24：ゴキブリ\n",
    "  'couch',  # 25：ソファー\n",
    "  'crab',  # 26：カニ\n",
    "  'crocodile',  # 27：ワニ\n",
    "  'cups',  # 28：カップ\n",
    "  'dinosaur',  # 29：恐竜\n",
    "  'dolphin',  # 30：イルカ\n",
    "  'elephant',  # 31：象\n",
    "  'flatfish',  # 32：ヒラメ\n",
    "  'forest',  # 33：森\n",
    "  'fox',  # 34：キツネ\n",
    "  'girl',  # 35：少女\n",
    "  'hamster',  # 36：ハムスター\n",
    "  'house',  # 37：家\n",
    "  'kangaroo',  # 38：カンガルー\n",
    "  'computer keyboard',  # 39：コンピューターのキーボード\n",
    "  'lamp',  # 40：ランプ\n",
    "  'lawn-mower',  # 41：芝刈り機\n",
    "  'leopard',  # 42：ヒョウ\n",
    "  'lion',  # 43：ライオン\n",
    "  'lizard',  # 44：トカゲ\n",
    "  'lobster',  # 45：ロブスター\n",
    "  'man',  # 46：成人男性\n",
    "  'maple',  # 47：もみじ\n",
    "  'motorcycle',  # 48：オートバイ\n",
    "  'mountain',  # 49：山\n",
    "  'mouse',  # 50：ねずみ\n",
    "  'mushrooms',  # 51：きのこ\n",
    "  'oak',  # 52：オーク\n",
    "  'oranges',  # 53：オレンジ\n",
    "  'orchids',  # 54：蘭\n",
    "  'otter',  # 55：カワウソ\n",
    "  'palm',  # 56：ヤシ\n",
    "  'pears',  # 57：洋ナシ\n",
    "  'pickup truck',  # 58：ピックアップトラック\n",
    "  'pine',  # 59：松\n",
    "  'plain',  # 60：平野\n",
    "  'plates',  # 61：皿\n",
    "  'poppies',  # 62：ポピー\n",
    "  'porcupine',  # 63：ヤマアラシ\n",
    "  'possum',  # 64：フクロネズミ\n",
    "  'rabbit',  # 65：ウサギ\n",
    "  'raccoon',  # 66：アライグマ\n",
    "  'ray',  # 67：エイ\n",
    "  'road',  # 68：道路\n",
    "  'rocket',  # 69：ロケット\n",
    "  'roses',  # 70：バラ\n",
    "  'sea',  # 71：海\n",
    "  'seal',  # 72：アザラシ\n",
    "  'shark',  # 73：サメ\n",
    "  'shrew',  # 74：トガリネズミ\n",
    "  'skunk',  # 75：スカンク\n",
    "  'skyscraper',  # 76：超高層ビル\n",
    "  'snail',  # 77：カタツムリ\n",
    "  'snake',  # 78：ヘビ\n",
    "  'spider',  # 79：クモ\n",
    "  'squirrel',  # 80：リス\n",
    "  'streetcar',  # 81：路面電車\n",
    "  'sunflowers',  # 82：ひまわり\n",
    "  'sweet peppers',  # 83：パプリカ\n",
    "  'table',  # 84：テーブル\n",
    "  'tank',  # 85：タンク\n",
    "  'telephone',  # 86：電話\n",
    "  'television',  # 87：テレビ\n",
    "  'tiger',  # 88：トラ\n",
    "  'tractor',  # 89：トラクター\n",
    "  'train',  # 90：電車\n",
    "  'trout',  # 91：マス\n",
    "  'tulips',  # 92：チューリップ\n",
    "  'turtle',  # 93：カメ\n",
    "  'wardrobe',  # 94：ワードローブ\n",
    "  'whale',  # 95：クジラ\n",
    "  'willow',  # 96：柳\n",
    "  'wolf',  # 97：オオカミ\n",
    "  'woman',  # 98：成人女性\n",
    "  'worm',  # 99：ミミズ\n",
    "]"
   ]
  },
  {
   "cell_type": "code",
   "execution_count": 5,
   "id": "0a072502-098c-43e3-a54a-0419d735d62e",
   "metadata": {},
   "outputs": [
    {
     "name": "stdout",
     "output_type": "stream",
     "text": [
      "willow\n"
     ]
    },
    {
     "data": {
      "image/png": "[encoded data removed]",
      "text/plain": [
       "<Figure size 640x480 with 1 Axes>"
      ]
     },
     "metadata": {},
     "output_type": "display_data"
    }
   ],
   "source": [
    "# 画像の確認\n",
    "img_t, label = tensor_cifar100_train[11]\n",
    "print(class_names[label])\n",
    "plt.imshow(img_t.permute(1,2,0))\n",
    "plt.show()"
   ]
  },
  {
   "cell_type": "markdown",
   "id": "b50db966-3445-4ab6-8936-b1f87cbcf13a",
   "metadata": {},
   "source": [
    "## 画像の標準化"
   ]
  },
  {
   "cell_type": "code",
   "execution_count": 6,
   "id": "83998dfa-f56e-45e5-a9b7-0dd3ecae9a12",
   "metadata": {},
   "outputs": [
    {
     "data": {
      "text/plain": [
       "torch.Size([3, 32, 32, 50000])"
      ]
     },
     "execution_count": 6,
     "metadata": {},
     "output_type": "execute_result"
    }
   ],
   "source": [
    "# テンソルを束ねる\n",
    "imgs = torch.stack([img_t for img_t, _ in tensor_cifar100_train], dim = 3)\n",
    "imgs.shape"
   ]
  },
  {
   "cell_type": "code",
   "execution_count": 7,
   "id": "14b54ba4-dfde-41ad-8d4d-c8d887a29b5a",
   "metadata": {},
   "outputs": [
    {
     "data": {
      "text/plain": [
       "(tensor([0.5071, 0.4865, 0.4409]), tensor([0.2673, 0.2564, 0.2762]))"
      ]
     },
     "execution_count": 7,
     "metadata": {},
     "output_type": "execute_result"
    }
   ],
   "source": [
    "# RGB各々の平均、標準偏差を計算する\n",
    "means = imgs.view(3,-1).mean(dim=1)\n",
    "stds = imgs.view(3,-1).std(dim=1)\n",
    "means, stds"
   ]
  },
  {
   "cell_type": "code",
   "execution_count": 8,
   "id": "474ffc84-58ab-441e-b469-37b7cc674e37",
   "metadata": {
    "tags": []
   },
   "outputs": [],
   "source": [
    "# 各画像データを標準化する\n",
    "transformed_tensor_cifar100_train = datasets.CIFAR100(data_path,\n",
    "                                                      train=True,\n",
    "                                                      download=False,\n",
    "                                                      transform=transforms.Compose([\n",
    "                                                          transforms.ToTensor(),\n",
    "                                                          transforms.Normalize(means,stds)\n",
    "                                                      ]))\n",
    "transformed_tensor_cifar100_val = datasets.CIFAR100(data_path,\n",
    "                                                   train=False,\n",
    "                                                   download=False,\n",
    "                                                   transform = transforms.Compose([\n",
    "                                                       transforms.ToTensor(),\n",
    "                                                       transforms.Normalize(means,stds)\n",
    "                                                   ]))"
   ]
  },
  {
   "cell_type": "code",
   "execution_count": 9,
   "id": "fdcd0f90-d581-41b7-9f0f-67cfa738d33f",
   "metadata": {},
   "outputs": [
    {
     "name": "stderr",
     "output_type": "stream",
     "text": [
      "Clipping input data to the valid range for imshow with RGB data ([0..1] for floats or [0..255] for integers).\n"
     ]
    },
    {
     "name": "stdout",
     "output_type": "stream",
     "text": [
      "willow\n"
     ]
    },
    {
     "data": {
      "image/png": "[encoded data removed]",
      "text/plain": [
       "<Figure size 640x480 with 1 Axes>"
      ]
     },
     "metadata": {},
     "output_type": "display_data"
    }
   ],
   "source": [
    "# 標準化後データの確認\n",
    "img_t, label = transformed_tensor_cifar100_train[11]\n",
    "print(class_names[label])\n",
    "plt.imshow(img_t.permute(1,2,0))\n",
    "plt.show()"
   ]
  },
  {
   "cell_type": "code",
   "execution_count": 10,
   "id": "fbb46872-38df-418a-aa44-77221d05572d",
   "metadata": {},
   "outputs": [
    {
     "data": {
      "text/plain": [
       "(torch.Size([3, 32, 32, 50000]), torch.Size([3, 32, 32, 10000]))"
      ]
     },
     "execution_count": 10,
     "metadata": {},
     "output_type": "execute_result"
    }
   ],
   "source": [
    "transformed_imgs = torch.stack([img_t for img_t, _ in transformed_tensor_cifar100_train], dim = 3)\n",
    "transformed_imgs_val = torch.stack([img_t for img_t, _ in transformed_tensor_cifar100_val], dim = 3)\n",
    "transformed_imgs.shape, transformed_imgs_val.shape"
   ]
  },
  {
   "cell_type": "code",
   "execution_count": 89,
   "id": "c335a2fc-fb53-45b0-8d36-6d46693c7f51",
   "metadata": {},
   "outputs": [],
   "source": [
    "# trainデータとvalデータの正解率の確認\n",
    "train_loader = torch.utils.data.DataLoader(\n",
    "    transformed_tensor_cifar100_train,\n",
    "    batch_size=100,\n",
    "    shuffle=False)\n",
    "val_loader = torch.utils.data.DataLoader(\n",
    "    transformed_tensor_cifar100_val,\n",
    "    batch_size=100,\n",
    "    shuffle=False)\n",
    "\n",
    "def validate(model, train_loader, val_loader):\n",
    "    device = (torch.device('mps') if torch.backends.mps.is_available() else torch.device('cpu'))\n",
    "    for name, loader in [(\"train\", train_loader), (\"val\", val_loader)]: # 最初にTrain、printで結果を表示後、valを計算して結果を表示する流れ\n",
    "        correct = 0\n",
    "        total = 0\n",
    "        with torch.no_grad(): # 勾配を計算させないのための記述\n",
    "            for imgs, labels in loader:\n",
    "                model.to(device=device) # モデルをCPU上に持ってくる\n",
    "                imgs = imgs.to(device=device)\n",
    "                labels = labels.to(device=device)\n",
    "                outputs = model(imgs)\n",
    "                _, predicted = torch.max(outputs, dim=1)\n",
    "                total += labels.shape[0]\n",
    "                correct += int((predicted == labels).sum())\n",
    "                # 最初にtrain、後にvalの正解率を出す。\n",
    "                if name == 'train':\n",
    "                    train_accuracy = correct / total\n",
    "                else:\n",
    "                    val_accuracy = correct / total\n",
    "    return train_accuracy, val_accuracy"
   ]
  },
  {
   "cell_type": "markdown",
   "id": "a65be7c9-e8f1-48ae-bfda-aef765def343",
   "metadata": {
    "jp-MarkdownHeadingCollapsed": true,
    "tags": []
   },
   "source": [
    "# 全結合"
   ]
  },
  {
   "cell_type": "code",
   "execution_count": 13,
   "id": "94d43740-cf0e-4575-b9fe-90a59408401a",
   "metadata": {
    "tags": []
   },
   "outputs": [],
   "source": [
    "# 訓練ループ\n",
    "def train_loop(n_epochs, optimizer, model, loss_fn, train, val):\n",
    "    loss_train_lists = np.array([])\n",
    "    loss_val_lists = np.array([])\n",
    "    train_accuracies = np.array([])\n",
    "    val_accuracies = np.array([])\n",
    "    \n",
    "    device = (torch.device('mps') if torch.backends.mps.is_available() else torch.device('cpu'))\n",
    "    # GPU上で訓練するのでモデルを移動。toを使う\n",
    "    model.to(device=device)\n",
    "    for epoch in range(1,n_epochs+1):\n",
    "        loss_train = 0.0 # エポックごとにtrainとvalの損失関数を計算する\n",
    "        loss_val = 0.0\n",
    "\n",
    "        for imgs, labels in train:\n",
    "            imgs = imgs.to(device=device) # 画像とラベルをGPU上へ送る\n",
    "            labels = labels.to(device=device)\n",
    "            outputs = model(imgs) # 訓練結果\n",
    "            loss = loss_fn(outputs,labels) # 損失の計算\n",
    "\n",
    "            optimizer.zero_grad() # 勾配の値を一旦初期化。勾配は累積される。エポック毎に累積されないようにする。\n",
    "            loss.backward() # バックプロぱゲーションで勾配を計算\n",
    "            optimizer.step() # 計算した勾配を基にパラメータを調整\n",
    "\n",
    "            loss_train += loss.item()\n",
    "\n",
    "        for val_imgs, val_labels in val:\n",
    "            with torch.no_grad():\n",
    "                val_imgs = val_imgs.to(device=device)\n",
    "                val_labels = val_labels.to(device=device)\n",
    "                val_outputs = model(val_imgs)\n",
    "                val_loss = loss_fn(val_outputs, val_labels)\n",
    "            loss_val += val_loss.item()\n",
    "\n",
    "        loss_train_lists = np.append(loss_train_lists, loss_train/len(train))\n",
    "        loss_val_lists = np.append(loss_val_lists, loss_val/len(val))\n",
    "        \n",
    "        train_accuracy, val_accuracy = validate(model, train_loader, val_loader)\n",
    "        train_accuracies = np.append(train_accuracies, train_accuracy)\n",
    "        val_accuracies = np.append(val_accuracies, val_accuracy)\n",
    "        \n",
    "\n",
    "        if epoch % 10 == 0 or epoch in [1,2,3]:\n",
    "            print(f'{datetime.datetime.now()}Epoch:{epoch},Traing_loss:{loss_train/len(train)},val_loss{loss_val/len(val)}')\n",
    "        \n",
    "    return model, loss_train_lists, loss_val_lists, train_accuracies, val_accuracies"
   ]
  },
  {
   "cell_type": "markdown",
   "id": "aaae7d65-2d7d-4f0b-8be5-7a3ae44bc51c",
   "metadata": {
    "tags": []
   },
   "source": [
    "# L2正則化"
   ]
  },
  {
   "cell_type": "code",
   "execution_count": 90,
   "id": "bcbe66e9-5406-405c-bee4-6b09c6a21797",
   "metadata": {},
   "outputs": [
    {
     "data": {
      "text/plain": [
       "(1624676, [1572864, 512, 51200, 100])"
      ]
     },
     "execution_count": 90,
     "metadata": {},
     "output_type": "execute_result"
    }
   ],
   "source": [
    "# モデルのインスタンスの作成\n",
    "model = zenketu.Zenketugou()\n",
    "# パラメータの数を確認\n",
    "numel_list = [p.numel() for p in model.parameters()]\n",
    "sum(numel_list), numel_list"
   ]
  },
  {
   "cell_type": "code",
   "execution_count": 96,
   "id": "fe127915-c073-44d3-925e-7fc17cca3160",
   "metadata": {},
   "outputs": [],
   "source": [
    "# 訓練ループ\n",
    "def train_loop_l2(n_epochs, optimizer, model, loss_fn, train, val):\n",
    "    loss_train_lists = np.array([])\n",
    "    loss_val_lists = np.array([])\n",
    "    train_accuracies = np.array([])\n",
    "    val_accuracies = np.array([])\n",
    "    \n",
    "    device = (torch.device('mps') if torch.backends.mps.is_available() else torch.device('cpu'))\n",
    "    # device = 'cpu'\n",
    "    model.to(device=device) # GPU上で訓練するのでモデルを移動。toを使う\n",
    "    for epoch in range(1,n_epochs+1):\n",
    "        loss_train = 0.0 # エポックごとにtrainとvalの損失関数を計算する\n",
    "        loss_val = 0.0\n",
    "\n",
    "        for imgs, labels in train:\n",
    "            imgs = imgs.to(device=device) # 画像とラベルをGPU上へ送る\n",
    "            labels = labels.to(device=device)\n",
    "            outputs = model(imgs) # 訓練結果\n",
    "            loss = loss_fn(outputs,labels) # 損失の計算\n",
    "            \n",
    "            # L2_regularization\n",
    "            l2_lambda = 10000\n",
    "            l2_norm = sum(p.pow(2.0).sum() for p in model.parameters())\n",
    "            loss = loss + l2_lambda * l2_norm\n",
    "            \n",
    "            # L1_regularization\n",
    "            # l1_lambda = 0.001\n",
    "            # l1_norm = sum(p.abs().sum() for p in model.parameters())\n",
    "            # loss = loss + l1_lambda * l1_norm\n",
    "\n",
    "            optimizer.zero_grad() # 勾配の値を一旦初期化。勾配は累積される。エポック毎に累積されないようにする。\n",
    "            loss.backward() # バックプロぱゲーションで勾配を計算\n",
    "            optimizer.step() # 計算した勾配を基にパラメータを調整\n",
    "\n",
    "            loss_train += loss.item()\n",
    "\n",
    "        for val_imgs, val_labels in val:\n",
    "            with torch.no_grad():\n",
    "                val_imgs = val_imgs.to(device=device)\n",
    "                val_labels = val_labels.to(device=device)\n",
    "                val_outputs = model(val_imgs)\n",
    "                val_loss = loss_fn(val_outputs, val_labels)\n",
    "            loss_val += val_loss.item()\n",
    "\n",
    "        loss_train_lists = np.append(loss_train_lists, loss_train/len(train))\n",
    "        loss_val_lists = np.append(loss_val_lists, loss_val/len(val))\n",
    "        \n",
    "        train_accuracy, val_accuracy = validate(model, train_loader, val_loader)\n",
    "        train_accuracies = np.append(train_accuracies, train_accuracy)\n",
    "        val_accuracies = np.append(val_accuracies, val_accuracy)\n",
    "        \n",
    "\n",
    "        if epoch % 10 == 0 or epoch in [1,2,3]:\n",
    "            print(f'{datetime.datetime.now()}Epoch:{epoch},Traing_loss:{loss_train/len(train)},val_loss{loss_val/len(val)}')\n",
    "        \n",
    "    return model, loss_train_lists, loss_val_lists, train_accuracies, val_accuracies"
   ]
  },
  {
   "cell_type": "code",
   "execution_count": 97,
   "id": "c23e3e9f-396b-4d20-a9e3-6fa2e0481975",
   "metadata": {},
   "outputs": [],
   "source": [
    "# パラメータの設定\n",
    "# データローダーに入れることで、簡単にデータを取り扱う\n",
    "train_loader = torch.utils.data.DataLoader(\n",
    "    transformed_tensor_cifar100_train,\n",
    "    batch_size=100,\n",
    "    shuffle=True)\n",
    "val_loader = torch.utils.data.DataLoader(\n",
    "    transformed_tensor_cifar100_val,\n",
    "    batch_size=3,\n",
    "    shuffle=False)\n",
    "# 学習率の設定\n",
    "learning_rate = 1e-2\n",
    "# パラメータの修正に確率的勾配降下方を利用\n",
    "optimizer = optim.SGD(model.parameters(), lr = learning_rate)\n",
    "# 損失関数を定義\n",
    "loss_fn = nn.CrossEntropyLoss()\n",
    "# エポック数を設定\n",
    "n_epochs = 300"
   ]
  },
  {
   "cell_type": "code",
   "execution_count": 94,
   "id": "301053c7-9786-42a1-bda6-4ea73873eee0",
   "metadata": {},
   "outputs": [],
   "source": [
    "# l２正則化の強さを0.001→10に変更"
   ]
  },
  {
   "cell_type": "code",
   "execution_count": 93,
   "id": "5bcb7cb6-5049-4ddb-b9e2-4a65f80037df",
   "metadata": {},
   "outputs": [
    {
     "name": "stdout",
     "output_type": "stream",
     "text": [
      "2023-01-28 11:58:17.965171Epoch:1,Traing_loss:15.927446563720704,val_loss4.60517021761587\n",
      "2023-01-28 11:58:47.767433Epoch:2,Traing_loss:4.605198554039001,val_loss4.60517026710167\n",
      "2023-01-28 11:59:16.567501Epoch:3,Traing_loss:4.605197582244873,val_loss4.605170161264988\n",
      "2023-01-28 12:02:37.126632Epoch:10,Traing_loss:4.605198011398316,val_loss4.6051702748248875\n",
      "2023-01-28 12:07:12.292031Epoch:20,Traing_loss:4.605199030876159,val_loss4.6051701396685845\n",
      "2023-01-28 12:11:46.941725Epoch:30,Traing_loss:4.605198306083679,val_loss4.605170191013677\n",
      "2023-01-28 12:16:25.835074Epoch:40,Traing_loss:4.605197399139405,val_loss4.605170240499477\n",
      "2023-01-28 12:21:20.986661Epoch:50,Traing_loss:4.605197909355163,val_loss4.605170399540545\n",
      "2023-01-28 12:26:13.646347Epoch:60,Traing_loss:4.6051975498199464,val_loss4.605170191585767\n",
      "2023-01-28 12:31:00.805740Epoch:70,Traing_loss:4.6051975479125975,val_loss4.605170303429396\n",
      "2023-01-28 12:35:41.426051Epoch:80,Traing_loss:4.605198351860047,val_loss4.605170312296794\n",
      "2023-01-28 12:40:58.334204Epoch:90,Traing_loss:4.6051981153488155,val_loss4.605170188010204\n",
      "2023-01-28 12:47:07.688688Epoch:100,Traing_loss:4.605197002410889,val_loss4.605170172563769\n",
      "2023-01-28 12:53:20.411590Epoch:110,Traing_loss:4.605197940826416,val_loss4.60517016813007\n",
      "2023-01-28 12:59:14.668138Epoch:120,Traing_loss:4.60519793510437,val_loss4.605170198879917\n",
      "2023-01-28 13:05:10.798371Epoch:130,Traing_loss:4.60519759464264,val_loss4.605170162981259\n",
      "2023-01-28 13:11:04.923019Epoch:140,Traing_loss:4.60519776058197,val_loss4.605170264241219\n",
      "2023-01-28 13:16:57.536806Epoch:150,Traing_loss:4.605197504997253,val_loss4.605170247936649\n",
      "2023-01-28 13:22:54.919618Epoch:160,Traing_loss:4.605197766304016,val_loss4.605170228199539\n",
      "2023-01-28 13:28:57.320997Epoch:170,Traing_loss:4.605197523117066,val_loss4.6051702146123965\n",
      "2023-01-28 13:34:48.071098Epoch:180,Traing_loss:4.605198080062866,val_loss4.605170271821414\n",
      "2023-01-28 13:40:39.458625Epoch:190,Traing_loss:4.605197646141052,val_loss4.605170243932018\n",
      "2023-01-28 13:46:33.991967Epoch:200,Traing_loss:4.605197754859924,val_loss4.605170308864253\n",
      "2023-01-28 13:52:28.147286Epoch:210,Traing_loss:4.605198085784912,val_loss4.605170310723546\n",
      "2023-01-28 13:58:19.539677Epoch:220,Traing_loss:4.605197507858277,val_loss4.605170109204782\n",
      "2023-01-28 14:04:09.970868Epoch:230,Traing_loss:4.605198084831238,val_loss4.6051703148711995\n",
      "2023-01-28 14:10:00.927242Epoch:240,Traing_loss:4.605197406768799,val_loss4.605170183576505\n",
      "2023-01-28 14:15:55.033761Epoch:250,Traing_loss:4.605197355270386,val_loss4.6051702148984415\n",
      "2023-01-28 14:21:47.564612Epoch:260,Traing_loss:4.605197641372681,val_loss4.605170168273093\n",
      "2023-01-28 14:27:41.872064Epoch:270,Traing_loss:4.605198148727417,val_loss4.605170252370348\n",
      "2023-01-28 14:33:34.216310Epoch:280,Traing_loss:4.60519819355011,val_loss4.605170347909406\n",
      "2023-01-28 14:39:25.687208Epoch:290,Traing_loss:4.6051976041793825,val_loss4.605170270105144\n",
      "2023-01-28 14:45:18.120457Epoch:300,Traing_loss:4.605198240280151,val_loss4.605170296421291\n"
     ]
    }
   ],
   "source": [
    "# モデルの訓練\n",
    "model,loss_train_lists, loss_val_lists,train_accuracies,val_accuracies = train_loop_l2(n_epochs = n_epochs,\n",
    "                                            optimizer=optimizer,\n",
    "                                            model = model,\n",
    "                                            loss_fn = loss_fn,\n",
    "                                            train = train_loader,\n",
    "                                            val = val_loader)"
   ]
  },
  {
   "cell_type": "code",
   "execution_count": 95,
   "id": "01d56374-ea1d-4b95-b504-6a455d9f5c23",
   "metadata": {},
   "outputs": [
    {
     "data": {
      "image/png": "[encoded data removed]",
      "text/plain": [
       "<Figure size 640x480 with 1 Axes>"
      ]
     },
     "metadata": {},
     "output_type": "display_data"
    },
    {
     "data": {
      "image/png": "[encoded data removed]",
      "text/plain": [
       "<Figure size 640x480 with 1 Axes>"
      ]
     },
     "metadata": {},
     "output_type": "display_data"
    }
   ],
   "source": [
    "# 正解率を出す\n",
    "plt.plot(train_accuracies,label = 'train')\n",
    "plt.plot(val_accuracies, label ='val')\n",
    "plt.title('only_zenketugou_l2_10_model')\n",
    "plt.ylabel('accuracy')\n",
    "plt.ylim(0,1)\n",
    "plt.xlabel('epoch')\n",
    "plt.legend()\n",
    "# plt.savefig('picture/accuracy_smple_zenketugou_l2_10.png')\n",
    "plt.show()\n",
    "# 損失\n",
    "plt.plot(loss_train_lists,label = 'train')\n",
    "plt.plot(loss_val_lists, label ='val')\n",
    "plt.title('only_zenketugou_l2_10_model')\n",
    "plt.ylabel('loss')\n",
    "plt.xlabel('epoch')\n",
    "plt.legend()\n",
    "# plt.savefig('picture/loss_smple_zenketugou_l2_10.png')\n",
    "plt.show()"
   ]
  },
  {
   "cell_type": "markdown",
   "id": "e959a349-42cf-4695-bcb0-6feb212c5a68",
   "metadata": {
    "jp-MarkdownHeadingCollapsed": true,
    "tags": []
   },
   "source": [
    "# DF"
   ]
  },
  {
   "cell_type": "code",
   "execution_count": 82,
   "id": "b27d8eeb-2c15-4789-b383-97a4b0c74bff",
   "metadata": {},
   "outputs": [
    {
     "data": {
      "text/html": [
       "<div>\n",
       "<style scoped>\n",
       "    .dataframe tbody tr th:only-of-type {\n",
       "        vertical-align: middle;\n",
       "    }\n",
       "\n",
       "    .dataframe tbody tr th {\n",
       "        vertical-align: top;\n",
       "    }\n",
       "\n",
       "    .dataframe thead th {\n",
       "        text-align: right;\n",
       "    }\n",
       "</style>\n",
       "<table border=\"1\" class=\"dataframe\">\n",
       "  <thead>\n",
       "    <tr style=\"text-align: right;\">\n",
       "      <th></th>\n",
       "      <th>date</th>\n",
       "      <th>name</th>\n",
       "      <th>archi</th>\n",
       "      <th>train_accuracy</th>\n",
       "      <th>val_accuracy</th>\n",
       "      <th>optimizer</th>\n",
       "      <th>n_epochs</th>\n",
       "      <th>batch_size</th>\n",
       "      <th>loss_fn</th>\n",
       "      <th>regularization</th>\n",
       "    </tr>\n",
       "  </thead>\n",
       "  <tbody>\n",
       "    <tr>\n",
       "      <th>0</th>\n",
       "      <td>2023/01/27/17:40</td>\n",
       "      <td>ore_no_zenketugou</td>\n",
       "      <td>NN</td>\n",
       "      <td>1.0</td>\n",
       "      <td>0.2</td>\n",
       "      <td>SDG</td>\n",
       "      <td>500</td>\n",
       "      <td>100</td>\n",
       "      <td>CrossEntropyLoss()</td>\n",
       "      <td>0</td>\n",
       "    </tr>\n",
       "  </tbody>\n",
       "</table>\n",
       "</div>"
      ],
      "text/plain": [
       "               date               name archi  train_accuracy  val_accuracy  \\\n",
       "0  2023/01/27/17:40  ore_no_zenketugou    NN             1.0           0.2   \n",
       "\n",
       "  optimizer  n_epochs  batch_size             loss_fn  regularization  \n",
       "0       SDG       500         100  CrossEntropyLoss()               0  "
      ]
     },
     "execution_count": 82,
     "metadata": {},
     "output_type": "execute_result"
    }
   ],
   "source": [
    "# results_df = pd.read_csv('results_df.csv', index_col=0)\n",
    "# results_df"
   ]
  },
  {
   "cell_type": "code",
   "execution_count": 83,
   "id": "e38172e5-42e9-4b69-aeab-21e0f6a802ac",
   "metadata": {},
   "outputs": [
    {
     "data": {
      "text/html": [
       "<div>\n",
       "<style scoped>\n",
       "    .dataframe tbody tr th:only-of-type {\n",
       "        vertical-align: middle;\n",
       "    }\n",
       "\n",
       "    .dataframe tbody tr th {\n",
       "        vertical-align: top;\n",
       "    }\n",
       "\n",
       "    .dataframe thead th {\n",
       "        text-align: right;\n",
       "    }\n",
       "</style>\n",
       "<table border=\"1\" class=\"dataframe\">\n",
       "  <thead>\n",
       "    <tr style=\"text-align: right;\">\n",
       "      <th></th>\n",
       "      <th>date</th>\n",
       "      <th>name</th>\n",
       "      <th>archi</th>\n",
       "      <th>train_accuracy</th>\n",
       "      <th>val_accuracy</th>\n",
       "      <th>optimizer</th>\n",
       "      <th>n_epochs</th>\n",
       "      <th>batch_size</th>\n",
       "      <th>loss_fn</th>\n",
       "      <th>regularization</th>\n",
       "    </tr>\n",
       "  </thead>\n",
       "  <tbody>\n",
       "    <tr>\n",
       "      <th>0</th>\n",
       "      <td>2023/01/28/11:48</td>\n",
       "      <td>ore_no_zenketugou_l2_0.001</td>\n",
       "      <td>NN</td>\n",
       "      <td>0.83852</td>\n",
       "      <td>0.2422</td>\n",
       "      <td>SDG</td>\n",
       "      <td>500</td>\n",
       "      <td>100</td>\n",
       "      <td>CrossEntropyLoss()</td>\n",
       "      <td>0</td>\n",
       "    </tr>\n",
       "  </tbody>\n",
       "</table>\n",
       "</div>"
      ],
      "text/plain": [
       "               date                        name archi  train_accuracy  \\\n",
       "0  2023/01/28/11:48  ore_no_zenketugou_l2_0.001    NN         0.83852   \n",
       "\n",
       "   val_accuracy optimizer  n_epochs  batch_size             loss_fn  \\\n",
       "0        0.2422       SDG       500         100  CrossEntropyLoss()   \n",
       "\n",
       "   regularization  \n",
       "0               0  "
      ]
     },
     "execution_count": 83,
     "metadata": {},
     "output_type": "execute_result"
    }
   ],
   "source": [
    "# 追加したい結果をまとめたdfを作成\n",
    "# col = ['date','name','archi','train_accuracy','val_accuracy','optimizer',\n",
    "#        'n_epochs','batch_size','loss_fn','regularization']\n",
    "# add_df = pd.DataFrame([[datetime.datetime.now().strftime('%Y/%m/%d/%H:%M'),\n",
    "#                         'ore_no_zenketugou_l2_0.001', 'NN', train_accuracies[-1],\n",
    "#                         val_accuracies[-1],'SDG', n_epochs, 100,\n",
    "#                         loss_fn, 0]],columns=col)\n",
    "# add_df"
   ]
  },
  {
   "cell_type": "code",
   "execution_count": 84,
   "id": "d442e46c-ce0a-419e-8a21-b5d288c66364",
   "metadata": {},
   "outputs": [
    {
     "data": {
      "text/html": [
       "<div>\n",
       "<style scoped>\n",
       "    .dataframe tbody tr th:only-of-type {\n",
       "        vertical-align: middle;\n",
       "    }\n",
       "\n",
       "    .dataframe tbody tr th {\n",
       "        vertical-align: top;\n",
       "    }\n",
       "\n",
       "    .dataframe thead th {\n",
       "        text-align: right;\n",
       "    }\n",
       "</style>\n",
       "<table border=\"1\" class=\"dataframe\">\n",
       "  <thead>\n",
       "    <tr style=\"text-align: right;\">\n",
       "      <th></th>\n",
       "      <th>date</th>\n",
       "      <th>name</th>\n",
       "      <th>archi</th>\n",
       "      <th>train_accuracy</th>\n",
       "      <th>val_accuracy</th>\n",
       "      <th>optimizer</th>\n",
       "      <th>n_epochs</th>\n",
       "      <th>batch_size</th>\n",
       "      <th>loss_fn</th>\n",
       "      <th>regularization</th>\n",
       "    </tr>\n",
       "  </thead>\n",
       "  <tbody>\n",
       "    <tr>\n",
       "      <th>0</th>\n",
       "      <td>2023/01/27/17:40</td>\n",
       "      <td>ore_no_zenketugou</td>\n",
       "      <td>NN</td>\n",
       "      <td>1.00000</td>\n",
       "      <td>0.2000</td>\n",
       "      <td>SDG</td>\n",
       "      <td>500</td>\n",
       "      <td>100</td>\n",
       "      <td>CrossEntropyLoss()</td>\n",
       "      <td>0</td>\n",
       "    </tr>\n",
       "    <tr>\n",
       "      <th>0</th>\n",
       "      <td>2023/01/28/11:48</td>\n",
       "      <td>ore_no_zenketugou_l2_0.001</td>\n",
       "      <td>NN</td>\n",
       "      <td>0.83852</td>\n",
       "      <td>0.2422</td>\n",
       "      <td>SDG</td>\n",
       "      <td>500</td>\n",
       "      <td>100</td>\n",
       "      <td>CrossEntropyLoss()</td>\n",
       "      <td>0</td>\n",
       "    </tr>\n",
       "  </tbody>\n",
       "</table>\n",
       "</div>"
      ],
      "text/plain": [
       "               date                        name archi  train_accuracy  \\\n",
       "0  2023/01/27/17:40           ore_no_zenketugou    NN         1.00000   \n",
       "0  2023/01/28/11:48  ore_no_zenketugou_l2_0.001    NN         0.83852   \n",
       "\n",
       "   val_accuracy optimizer  n_epochs  batch_size             loss_fn  \\\n",
       "0        0.2000       SDG       500         100  CrossEntropyLoss()   \n",
       "0        0.2422       SDG       500         100  CrossEntropyLoss()   \n",
       "\n",
       "   regularization  \n",
       "0               0  \n",
       "0               0  "
      ]
     },
     "execution_count": 84,
     "metadata": {},
     "output_type": "execute_result"
    }
   ],
   "source": [
    "# 結果を保存用dfに追加する\n",
    "# results_df = pd.concat([results_df, add_df], axis=0)\n",
    "# results_df"
   ]
  },
  {
   "cell_type": "code",
   "execution_count": 86,
   "id": "18d35336-6b9c-4150-a0e6-74cb992d3b4f",
   "metadata": {},
   "outputs": [],
   "source": [
    "# results_df.to_csv('final_results_df.csv') # 最終的に保存するためのdf\n",
    "# results_df.to_csv('results_df.csv')"
   ]
  },
  {
   "cell_type": "code",
   "execution_count": null,
   "id": "01a568f2-8f87-4881-9c3b-805202dc89ed",
   "metadata": {},
   "outputs": [],
   "source": []
  }
 ],
 "metadata": {
  "kernelspec": {
   "display_name": "Python 3 (ipykernel)",
   "language": "python",
   "name": "python3"
  },
  "language_info": {
   "codemirror_mode": {
    "name": "ipython",
    "version": 3
   },
   "file_extension": ".py",
   "mimetype": "text/x-python",
   "name": "python",
   "nbconvert_exporter": "python",
   "pygments_lexer": "ipython3",
   "version": "3.9.12"
  }
 },
 "nbformat": 4,
 "nbformat_minor": 5
}
