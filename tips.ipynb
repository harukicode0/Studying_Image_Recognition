{
 "cells": [
  {
   "cell_type": "markdown",
   "id": "ce90efb2-4713-46b4-8090-7c7f9e35159b",
   "metadata": {
    "jp-MarkdownHeadingCollapsed": true,
    "tags": []
   },
   "source": [
    "# import"
   ]
  },
  {
   "cell_type": "code",
   "execution_count": 1,
   "id": "47bb101b-256c-4487-9179-d7d67c652c67",
   "metadata": {},
   "outputs": [],
   "source": [
    "import torch\n",
    "from torchvision import models\n",
    "from torchvision import datasets\n",
    "from torchvision import transforms\n",
    "import torch.nn.functional as F\n",
    "import matplotlib.pyplot as plt\n",
    "import japanize_matplotlib\n",
    "import numpy as np\n",
    "import pandas as pd\n",
    "import torch.nn as nn\n",
    "import torch.optim as optim\n",
    "import datetime\n",
    "# 自作モデルのインポート\n",
    "import models.ore_no_zenketugou_model as zenketu\n",
    "import models.train_loop as train_loop #訓練ループを格納\n",
    "import class_name # ラベルの呼び出し"
   ]
  },
  {
   "cell_type": "markdown",
   "id": "f192165f-5b33-4322-aa1b-8f16b0337f02",
   "metadata": {
    "tags": []
   },
   "source": [
    "# 画像においてマイナスの値が意味すること"
   ]
  },
  {
   "cell_type": "code",
   "execution_count": 60,
   "id": "b8373265-1c33-4484-a36a-2f2450e993b3",
   "metadata": {},
   "outputs": [],
   "source": [
    "a = torch.zeros(3,5,5) + 255\n",
    "a[1,1,1] = 50\n",
    "a[0,1,1] = 0\n",
    "a[2,1,1] = 50"
   ]
  },
  {
   "cell_type": "code",
   "execution_count": 61,
   "id": "7f5bad00-c93d-4c08-96da-e905dadf59f3",
   "metadata": {},
   "outputs": [
    {
     "data": {
      "text/plain": [
       "tensor([[[255., 255., 255., 255., 255.],\n",
       "         [255.,   0., 255., 255., 255.],\n",
       "         [255., 255., 255., 255., 255.],\n",
       "         [255., 255., 255., 255., 255.],\n",
       "         [255., 255., 255., 255., 255.]],\n",
       "\n",
       "        [[255., 255., 255., 255., 255.],\n",
       "         [255.,  50., 255., 255., 255.],\n",
       "         [255., 255., 255., 255., 255.],\n",
       "         [255., 255., 255., 255., 255.],\n",
       "         [255., 255., 255., 255., 255.]],\n",
       "\n",
       "        [[255., 255., 255., 255., 255.],\n",
       "         [255.,  50., 255., 255., 255.],\n",
       "         [255., 255., 255., 255., 255.],\n",
       "         [255., 255., 255., 255., 255.],\n",
       "         [255., 255., 255., 255., 255.]]])"
      ]
     },
     "execution_count": 61,
     "metadata": {},
     "output_type": "execute_result"
    }
   ],
   "source": [
    "a"
   ]
  },
  {
   "cell_type": "code",
   "execution_count": 62,
   "id": "8a6a65c1-c1b0-4cff-b178-42991b757b39",
   "metadata": {},
   "outputs": [
    {
     "name": "stderr",
     "output_type": "stream",
     "text": [
      "Clipping input data to the valid range for imshow with RGB data ([0..1] for floats or [0..255] for integers).\n"
     ]
    },
    {
     "data": {
      "text/plain": [
       "<matplotlib.image.AxesImage at 0x7f9221833f40>"
      ]
     },
     "execution_count": 62,
     "metadata": {},
     "output_type": "execute_result"
    },
    {
     "data": {
      "image/png": "[encoded data removed]",
      "text/plain": [
       "<Figure size 640x480 with 1 Axes>"
      ]
     },
     "metadata": {},
     "output_type": "display_data"
    }
   ],
   "source": [
    "plt.imshow(a.permute(1,2,0))"
   ]
  },
  {
   "cell_type": "markdown",
   "id": "8f05619e-8de8-447e-98ff-a78f6402d493",
   "metadata": {},
   "source": [
    "# cifar100における正解率の目安"
   ]
  },
  {
   "cell_type": "markdown",
   "id": "cceabb14-6fea-4794-a771-a8d3f9eaa9b3",
   "metadata": {},
   "source": [
    "https://github.com/chenyaofo/pytorch-cifar-models\n",
    "\n",
    "https://github.com/weiaicunzai/pytorch-cifar100"
   ]
  },
  {
   "cell_type": "markdown",
   "id": "712e2d54-029b-4e71-af68-60f3ec631684",
   "metadata": {},
   "source": [
    "# memo"
   ]
  },
  {
   "cell_type": "code",
   "execution_count": null,
   "id": "1de23e1e-6114-429b-bd17-4f2282c7a622",
   "metadata": {},
   "outputs": [],
   "source": []
  }
 ],
 "metadata": {
  "kernelspec": {
   "display_name": "Python 3 (ipykernel)",
   "language": "python",
   "name": "python3"
  },
  "language_info": {
   "codemirror_mode": {
    "name": "ipython",
    "version": 3
   },
   "file_extension": ".py",
   "mimetype": "text/x-python",
   "name": "python",
   "nbconvert_exporter": "python",
   "pygments_lexer": "ipython3",
   "version": "3.9.12"
  }
 },
 "nbformat": 4,
 "nbformat_minor": 5
}
